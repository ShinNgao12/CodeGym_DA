{
 "cells": [
  {
   "cell_type": "code",
   "execution_count": 1,
   "id": "4742f125",
   "metadata": {},
   "outputs": [],
   "source": [
    "import pandas as pd\n",
    "import numpy as np\n",
    "import matplotlib.pyplot as plt\n",
    "import seaborn as sns\n",
    "from scipy.stats import ttest_ind"
   ]
  },
  {
   "cell_type": "code",
   "execution_count": 2,
   "id": "f53c3575",
   "metadata": {
    "scrolled": true
   },
   "outputs": [
    {
     "data": {
      "text/html": [
       "<div>\n",
       "<style scoped>\n",
       "    .dataframe tbody tr th:only-of-type {\n",
       "        vertical-align: middle;\n",
       "    }\n",
       "\n",
       "    .dataframe tbody tr th {\n",
       "        vertical-align: top;\n",
       "    }\n",
       "\n",
       "    .dataframe thead th {\n",
       "        text-align: right;\n",
       "    }\n",
       "</style>\n",
       "<table border=\"1\" class=\"dataframe\">\n",
       "  <thead>\n",
       "    <tr style=\"text-align: right;\">\n",
       "      <th></th>\n",
       "      <th>SeriousDlqin2yrs</th>\n",
       "      <th>RevolvingUtilizationOfUnsecuredLines</th>\n",
       "      <th>age</th>\n",
       "      <th>NumberOfTime30-59DaysPastDueNotWorse</th>\n",
       "      <th>DebtRatio</th>\n",
       "      <th>MonthlyIncome</th>\n",
       "      <th>NumberOfOpenCreditLinesAndLoans</th>\n",
       "      <th>NumberOfTimes90DaysLate</th>\n",
       "      <th>NumberRealEstateLoansOrLines</th>\n",
       "      <th>NumberOfTime60-89DaysPastDueNotWorse</th>\n",
       "      <th>NumberOfDependents</th>\n",
       "    </tr>\n",
       "  </thead>\n",
       "  <tbody>\n",
       "    <tr>\n",
       "      <th>0</th>\n",
       "      <td>0</td>\n",
       "      <td>0.116951</td>\n",
       "      <td>27</td>\n",
       "      <td>0</td>\n",
       "      <td>46.000000</td>\n",
       "      <td>NaN</td>\n",
       "      <td>2</td>\n",
       "      <td>0</td>\n",
       "      <td>0</td>\n",
       "      <td>0</td>\n",
       "      <td>NaN</td>\n",
       "    </tr>\n",
       "    <tr>\n",
       "      <th>1</th>\n",
       "      <td>0</td>\n",
       "      <td>0.189169</td>\n",
       "      <td>57</td>\n",
       "      <td>0</td>\n",
       "      <td>0.606291</td>\n",
       "      <td>23684.0</td>\n",
       "      <td>9</td>\n",
       "      <td>0</td>\n",
       "      <td>4</td>\n",
       "      <td>0</td>\n",
       "      <td>2.0</td>\n",
       "    </tr>\n",
       "    <tr>\n",
       "      <th>2</th>\n",
       "      <td>0</td>\n",
       "      <td>0.644226</td>\n",
       "      <td>30</td>\n",
       "      <td>0</td>\n",
       "      <td>0.309476</td>\n",
       "      <td>2500.0</td>\n",
       "      <td>5</td>\n",
       "      <td>0</td>\n",
       "      <td>0</td>\n",
       "      <td>0</td>\n",
       "      <td>0.0</td>\n",
       "    </tr>\n",
       "    <tr>\n",
       "      <th>3</th>\n",
       "      <td>0</td>\n",
       "      <td>0.018798</td>\n",
       "      <td>51</td>\n",
       "      <td>0</td>\n",
       "      <td>0.531529</td>\n",
       "      <td>6501.0</td>\n",
       "      <td>7</td>\n",
       "      <td>0</td>\n",
       "      <td>2</td>\n",
       "      <td>0</td>\n",
       "      <td>2.0</td>\n",
       "    </tr>\n",
       "    <tr>\n",
       "      <th>4</th>\n",
       "      <td>0</td>\n",
       "      <td>0.010352</td>\n",
       "      <td>46</td>\n",
       "      <td>0</td>\n",
       "      <td>0.298354</td>\n",
       "      <td>12454.0</td>\n",
       "      <td>13</td>\n",
       "      <td>0</td>\n",
       "      <td>2</td>\n",
       "      <td>0</td>\n",
       "      <td>2.0</td>\n",
       "    </tr>\n",
       "  </tbody>\n",
       "</table>\n",
       "</div>"
      ],
      "text/plain": [
       "   SeriousDlqin2yrs  RevolvingUtilizationOfUnsecuredLines  age  \\\n",
       "0                 0                              0.116951   27   \n",
       "1                 0                              0.189169   57   \n",
       "2                 0                              0.644226   30   \n",
       "3                 0                              0.018798   51   \n",
       "4                 0                              0.010352   46   \n",
       "\n",
       "   NumberOfTime30-59DaysPastDueNotWorse  DebtRatio  MonthlyIncome  \\\n",
       "0                                     0  46.000000            NaN   \n",
       "1                                     0   0.606291        23684.0   \n",
       "2                                     0   0.309476         2500.0   \n",
       "3                                     0   0.531529         6501.0   \n",
       "4                                     0   0.298354        12454.0   \n",
       "\n",
       "   NumberOfOpenCreditLinesAndLoans  NumberOfTimes90DaysLate  \\\n",
       "0                                2                        0   \n",
       "1                                9                        0   \n",
       "2                                5                        0   \n",
       "3                                7                        0   \n",
       "4                               13                        0   \n",
       "\n",
       "   NumberRealEstateLoansOrLines  NumberOfTime60-89DaysPastDueNotWorse  \\\n",
       "0                             0                                     0   \n",
       "1                             4                                     0   \n",
       "2                             0                                     0   \n",
       "3                             2                                     0   \n",
       "4                             2                                     0   \n",
       "\n",
       "   NumberOfDependents  \n",
       "0                 NaN  \n",
       "1                 2.0  \n",
       "2                 0.0  \n",
       "3                 2.0  \n",
       "4                 2.0  "
      ]
     },
     "execution_count": 2,
     "metadata": {},
     "output_type": "execute_result"
    }
   ],
   "source": [
    "df = pd.read_csv('Data/Credit_Scoring.csv')\n",
    "df.head()"
   ]
  },
  {
   "cell_type": "markdown",
   "id": "182b0233",
   "metadata": {},
   "source": [
    "### 1. Có phải những khách hàng không có người phụ thuộc sẽ có thu nhập trung bình theo tháng (MonthlyIncome) nhỏ hơn những khách hàng có người phụ thuộc không (với mức ý nghĩa 10%)\n"
   ]
  },
  {
   "cell_type": "code",
   "execution_count": 3,
   "id": "c0f6f746",
   "metadata": {
    "scrolled": true
   },
   "outputs": [
    {
     "data": {
      "image/png": "[encoded data removed]",
      "text/plain": [
       "<Figure size 432x288 with 1 Axes>"
      ]
     },
     "metadata": {
      "needs_background": "light"
     },
     "output_type": "display_data"
    }
   ],
   "source": [
    "independ = df.loc[df['NumberOfDependents'].isna(),'MonthlyIncome']\n",
    "depend = df.loc[df['NumberOfDependents'].notna(),'MonthlyIncome']\n",
    "sns.kdeplot(independ, label = 'independent')\n",
    "sns.kdeplot(depend,label = 'dependent')\n",
    "plt.title('Phân phối thu nhập giữ khác hàng có hay không người phụ thuộc', fontsize = 16)\n",
    "plt.legend()\n",
    "plt.show()"
   ]
  },
  {
   "cell_type": "markdown",
   "id": "d12e40a5",
   "metadata": {},
   "source": [
    "- Ta thấy rằng những người không có người phụ thuộc thì giá trị MonthlyIncome toàn nan nên không thể đưa ra kết luận.\n",
    "- Ta sẽ dùng phương pháp nội suy để điền giá trị thiếu cho cột MonthlyIncome"
   ]
  },
  {
   "cell_type": "code",
   "execution_count": 4,
   "id": "ea13bd11",
   "metadata": {
    "scrolled": true
   },
   "outputs": [
    {
     "data": {
      "image/png": "[encoded data removed]",
      "text/plain": [
       "<Figure size 432x288 with 1 Axes>"
      ]
     },
     "metadata": {
      "needs_background": "light"
     },
     "output_type": "display_data"
    }
   ],
   "source": [
    "# nội suy\n",
    "df['MonthlyIncome'] = df['MonthlyIncome'].interpolate('nearest')\n",
    "\n",
    "##\n",
    "independ = df.loc[df['NumberOfDependents'].isna(),'MonthlyIncome']\n",
    "depend = df.loc[df['NumberOfDependents'].notna(),'MonthlyIncome']\n",
    "sns.kdeplot(independ , label = 'independent')\n",
    "sns.kdeplot(depend,label = 'dependent')\n",
    "plt.title('Phân phối thu nhập giữ khác hàng có hay không người phụ thuộc', fontsize = 16)\n",
    "plt.legend()\n",
    "plt.show()"
   ]
  },
  {
   "cell_type": "markdown",
   "id": "aa150bd6",
   "metadata": {},
   "source": [
    "### Phát biểu giả thuyết :\n",
    "- H0 : $\\mu_{Income0}$ = $\\mu_{Income1}$\n",
    "- H1 : $\\mu_{Income0}$ < $\\mu_{Income1}$ \\\n",
    "Income0 là những khách hàng không có người phụ thuộc, Income1 là những khách hàng có người phụ thuộc"
   ]
  },
  {
   "cell_type": "code",
   "execution_count": 5,
   "id": "bf017c39",
   "metadata": {},
   "outputs": [
    {
     "name": "stdout",
     "output_type": "stream",
     "text": [
      "statistic : -2.3973067971312543\n",
      "pvalue : 0.00827406965535004\n"
     ]
    }
   ],
   "source": [
    "statistic, pvalue = ttest_ind(independ.values,depend.values,equal_var=False,\n",
    "                             alternative='less', nan_policy='omit')\n",
    "print(f'statistic : {statistic}')\n",
    "print(f'pvalue : {pvalue}')"
   ]
  },
  {
   "cell_type": "markdown",
   "id": "82091bf4",
   "metadata": {},
   "source": [
    "### Kết luận : pvalue < $\\alpha$\n",
    "- Bác bỏ H0\n",
    "- Vậy với độ tin cậy 90% thì chấp nhận thu nhập hằng tháng khách hàng không có người phụ thuộc thấp hơn khách hàng có người phụ thuộc.\n",
    "- Phương pháp trên dùng nội suy nên không chắc chắn"
   ]
  },
  {
   "cell_type": "markdown",
   "id": "2d80fc9a",
   "metadata": {},
   "source": [
    "### 2. Có phải trung bình số lượng khoản vay (NumberOfOpenCreditLinesAndLoans) những khách hàng gặp khó khăn trong vòng 2 năm trở lại đây (SeriousDlqin2yrs =1) thì sẽ cao hơn những khách hàng không gặp khó khăn không với mức ý nghĩa 10%"
   ]
  },
  {
   "cell_type": "code",
   "execution_count": 6,
   "id": "642feb5b",
   "metadata": {
    "scrolled": true
   },
   "outputs": [
    {
     "data": {
      "image/png": "[encoded data removed]",
      "text/plain": [
       "<Figure size 432x288 with 1 Axes>"
      ]
     },
     "metadata": {
      "needs_background": "light"
     },
     "output_type": "display_data"
    }
   ],
   "source": [
    "serious = df.loc[df['SeriousDlqin2yrs'] == 1, 'NumberOfOpenCreditLinesAndLoans']\n",
    "unserious = df.loc[df['SeriousDlqin2yrs'] != 1, 'NumberOfOpenCreditLinesAndLoans']\n",
    "sns.kdeplot(serious, label = 'Serious')\n",
    "sns.kdeplot(unserious, label = 'Unserious')\n",
    "plt.title('Số khoản vay của những khách hàng gặp khó khăn hay không trong 2 năm', fontsize = 16)\n",
    "plt.legend()\n",
    "plt.show()"
   ]
  },
  {
   "cell_type": "markdown",
   "id": "05b5a40c",
   "metadata": {},
   "source": [
    "### Phát biểu giả thuyết\n",
    "- H0 : $\\mu_{Serious}$ = $\\mu_{Unserious}$\n",
    "- H1 : $\\mu_{Serious}$ > $\\mu_{Unserious}$"
   ]
  },
  {
   "cell_type": "code",
   "execution_count": 9,
   "id": "f314aa45",
   "metadata": {},
   "outputs": [
    {
     "name": "stdout",
     "output_type": "stream",
     "text": [
      "statistic : -10.53484996850356\n",
      "pvalue : 1.0\n"
     ]
    }
   ],
   "source": [
    "statistic, pvalue = ttest_ind(serious.values,unserious.values, equal_var=False,\n",
    "                             alternative ='greater')\n",
    "print(f'statistic : {statistic}')\n",
    "print(f'pvalue : {pvalue}')"
   ]
  },
  {
   "cell_type": "markdown",
   "id": "ad895ca6",
   "metadata": {},
   "source": [
    "### Kết luận : pvalue > $\\alpha$\n",
    "- Chưa đủ cơ sở bác bỏ H0\n",
    "- Với độ tin cậy 90% thì xem như số khoản vay của người gặp khó khăn và người không gặp khó khăn là như nhau"
   ]
  }
 ],
 "metadata": {
  "kernelspec": {
   "display_name": "Python 3 (ipykernel)",
   "language": "python",
   "name": "python3"
  },
  "language_info": {
   "codemirror_mode": {
    "name": "ipython",
    "version": 3
   },
   "file_extension": ".py",
   "mimetype": "text/x-python",
   "name": "python",
   "nbconvert_exporter": "python",
   "pygments_lexer": "ipython3",
   "version": "3.10.4"
  }
 },
 "nbformat": 4,
 "nbformat_minor": 5
}

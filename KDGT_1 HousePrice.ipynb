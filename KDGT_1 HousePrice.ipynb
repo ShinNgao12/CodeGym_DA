{
 "cells": [
  {
   "cell_type": "code",
   "execution_count": 1,
   "id": "6120d84f",
   "metadata": {},
   "outputs": [],
   "source": [
    "import pandas as pd\n",
    "import numpy as np\n",
    "import matplotlib.pyplot as plt\n",
    "import seaborn as sns\n",
    "from scipy.stats import ttest_1samp, ttest_ind, ttest_rel, wilcoxon"
   ]
  },
  {
   "cell_type": "code",
   "execution_count": 2,
   "id": "760da531",
   "metadata": {
    "scrolled": true
   },
   "outputs": [
    {
     "data": {
      "text/html": [
       "<div>\n",
       "<style scoped>\n",
       "    .dataframe tbody tr th:only-of-type {\n",
       "        vertical-align: middle;\n",
       "    }\n",
       "\n",
       "    .dataframe tbody tr th {\n",
       "        vertical-align: top;\n",
       "    }\n",
       "\n",
       "    .dataframe thead th {\n",
       "        text-align: right;\n",
       "    }\n",
       "</style>\n",
       "<table border=\"1\" class=\"dataframe\">\n",
       "  <thead>\n",
       "    <tr style=\"text-align: right;\">\n",
       "      <th></th>\n",
       "      <th>area</th>\n",
       "      <th>price</th>\n",
       "      <th>postDate</th>\n",
       "      <th>land_certificate</th>\n",
       "      <th>house_direction</th>\n",
       "      <th>balcony_direction</th>\n",
       "      <th>toilet</th>\n",
       "      <th>bedroom</th>\n",
       "      <th>floor</th>\n",
       "      <th>lat</th>\n",
       "      <th>long</th>\n",
       "      <th>property_type</th>\n",
       "    </tr>\n",
       "  </thead>\n",
       "  <tbody>\n",
       "    <tr>\n",
       "      <th>0</th>\n",
       "      <td>50.0</td>\n",
       "      <td>14700.0</td>\n",
       "      <td>44197</td>\n",
       "      <td>So do</td>\n",
       "      <td>NaN</td>\n",
       "      <td>NaN</td>\n",
       "      <td>4.0</td>\n",
       "      <td>6.0</td>\n",
       "      <td>6.0</td>\n",
       "      <td>21.015698</td>\n",
       "      <td>105.824583</td>\n",
       "      <td>trong ngo</td>\n",
       "    </tr>\n",
       "    <tr>\n",
       "      <th>1</th>\n",
       "      <td>57.0</td>\n",
       "      <td>4200.0</td>\n",
       "      <td>44265</td>\n",
       "      <td>So do</td>\n",
       "      <td>Nam</td>\n",
       "      <td>Nam</td>\n",
       "      <td>3.0</td>\n",
       "      <td>8.0</td>\n",
       "      <td>4.0</td>\n",
       "      <td>21.025208</td>\n",
       "      <td>105.833111</td>\n",
       "      <td>trong ngo</td>\n",
       "    </tr>\n",
       "    <tr>\n",
       "      <th>2</th>\n",
       "      <td>62.0</td>\n",
       "      <td>11000.0</td>\n",
       "      <td>44268</td>\n",
       "      <td>So do</td>\n",
       "      <td>NaN</td>\n",
       "      <td>dong-Nam</td>\n",
       "      <td>6.0</td>\n",
       "      <td>5.0</td>\n",
       "      <td>6.0</td>\n",
       "      <td>21.025379</td>\n",
       "      <td>105.801011</td>\n",
       "      <td>trong ngo</td>\n",
       "    </tr>\n",
       "    <tr>\n",
       "      <th>3</th>\n",
       "      <td>26.0</td>\n",
       "      <td>2900.0</td>\n",
       "      <td>44292</td>\n",
       "      <td>So do</td>\n",
       "      <td>NaN</td>\n",
       "      <td>NaN</td>\n",
       "      <td>4.0</td>\n",
       "      <td>3.0</td>\n",
       "      <td>4.0</td>\n",
       "      <td>21.014325</td>\n",
       "      <td>105.834918</td>\n",
       "      <td>trong ngo</td>\n",
       "    </tr>\n",
       "    <tr>\n",
       "      <th>4</th>\n",
       "      <td>40.0</td>\n",
       "      <td>3950.0</td>\n",
       "      <td>44292</td>\n",
       "      <td>So do</td>\n",
       "      <td>NaN</td>\n",
       "      <td>NaN</td>\n",
       "      <td>NaN</td>\n",
       "      <td>NaN</td>\n",
       "      <td>5.0</td>\n",
       "      <td>21.009862</td>\n",
       "      <td>105.838083</td>\n",
       "      <td>trong ngo</td>\n",
       "    </tr>\n",
       "  </tbody>\n",
       "</table>\n",
       "</div>"
      ],
      "text/plain": [
       "   area    price  postDate land_certificate house_direction balcony_direction  \\\n",
       "0  50.0  14700.0     44197            So do             NaN               NaN   \n",
       "1  57.0   4200.0     44265            So do             Nam               Nam   \n",
       "2  62.0  11000.0     44268            So do             NaN          dong-Nam   \n",
       "3  26.0   2900.0     44292            So do             NaN               NaN   \n",
       "4  40.0   3950.0     44292            So do             NaN               NaN   \n",
       "\n",
       "   toilet  bedroom  floor        lat        long property_type  \n",
       "0     4.0      6.0    6.0  21.015698  105.824583     trong ngo  \n",
       "1     3.0      8.0    4.0  21.025208  105.833111     trong ngo  \n",
       "2     6.0      5.0    6.0  21.025379  105.801011     trong ngo  \n",
       "3     4.0      3.0    4.0  21.014325  105.834918     trong ngo  \n",
       "4     NaN      NaN    5.0  21.009862  105.838083     trong ngo  "
      ]
     },
     "execution_count": 2,
     "metadata": {},
     "output_type": "execute_result"
    }
   ],
   "source": [
    "df = pd.read_csv('Data/house_price_Dống-Da_Hà-Nội_subdata.csv')\n",
    "df.head()"
   ]
  },
  {
   "cell_type": "code",
   "execution_count": 3,
   "id": "44d351e6",
   "metadata": {},
   "outputs": [],
   "source": [
    "df.dropna(subset=['area'], inplace=True)\n",
    "df = df[(df['area'] > 0) & (df['price'] > 0)]"
   ]
  },
  {
   "cell_type": "code",
   "execution_count": 4,
   "id": "451ad8cb",
   "metadata": {},
   "outputs": [],
   "source": [
    "df['price/m2'] = df['price'] / df['area']"
   ]
  },
  {
   "cell_type": "code",
   "execution_count": 5,
   "id": "c5598299",
   "metadata": {
    "scrolled": true
   },
   "outputs": [
    {
     "data": {
      "text/html": [
       "<div>\n",
       "<style scoped>\n",
       "    .dataframe tbody tr th:only-of-type {\n",
       "        vertical-align: middle;\n",
       "    }\n",
       "\n",
       "    .dataframe tbody tr th {\n",
       "        vertical-align: top;\n",
       "    }\n",
       "\n",
       "    .dataframe thead th {\n",
       "        text-align: right;\n",
       "    }\n",
       "</style>\n",
       "<table border=\"1\" class=\"dataframe\">\n",
       "  <thead>\n",
       "    <tr style=\"text-align: right;\">\n",
       "      <th></th>\n",
       "      <th>area</th>\n",
       "      <th>price</th>\n",
       "      <th>postDate</th>\n",
       "      <th>toilet</th>\n",
       "      <th>bedroom</th>\n",
       "      <th>floor</th>\n",
       "      <th>lat</th>\n",
       "      <th>long</th>\n",
       "      <th>price/m2</th>\n",
       "    </tr>\n",
       "  </thead>\n",
       "  <tbody>\n",
       "    <tr>\n",
       "      <th>count</th>\n",
       "      <td>600.000000</td>\n",
       "      <td>6.000000e+02</td>\n",
       "      <td>600.000000</td>\n",
       "      <td>237.000000</td>\n",
       "      <td>316.000000</td>\n",
       "      <td>357.000000</td>\n",
       "      <td>600.000000</td>\n",
       "      <td>600.000000</td>\n",
       "      <td>600.000000</td>\n",
       "    </tr>\n",
       "    <tr>\n",
       "      <th>mean</th>\n",
       "      <td>112.264583</td>\n",
       "      <td>2.961441e+04</td>\n",
       "      <td>44265.561667</td>\n",
       "      <td>3.632911</td>\n",
       "      <td>4.322785</td>\n",
       "      <td>4.753501</td>\n",
       "      <td>21.015420</td>\n",
       "      <td>105.825257</td>\n",
       "      <td>221.522396</td>\n",
       "    </tr>\n",
       "    <tr>\n",
       "      <th>std</th>\n",
       "      <td>495.846912</td>\n",
       "      <td>1.484516e+05</td>\n",
       "      <td>57.529752</td>\n",
       "      <td>2.358777</td>\n",
       "      <td>2.594913</td>\n",
       "      <td>1.687951</td>\n",
       "      <td>0.006677</td>\n",
       "      <td>0.009205</td>\n",
       "      <td>385.254899</td>\n",
       "    </tr>\n",
       "    <tr>\n",
       "      <th>min</th>\n",
       "      <td>14.000000</td>\n",
       "      <td>4.500000e+00</td>\n",
       "      <td>44197.000000</td>\n",
       "      <td>1.000000</td>\n",
       "      <td>1.000000</td>\n",
       "      <td>1.000000</td>\n",
       "      <td>20.998499</td>\n",
       "      <td>105.795544</td>\n",
       "      <td>0.122500</td>\n",
       "    </tr>\n",
       "    <tr>\n",
       "      <th>25%</th>\n",
       "      <td>41.000000</td>\n",
       "      <td>4.200000e+03</td>\n",
       "      <td>44197.000000</td>\n",
       "      <td>2.000000</td>\n",
       "      <td>3.000000</td>\n",
       "      <td>4.000000</td>\n",
       "      <td>21.009739</td>\n",
       "      <td>105.821315</td>\n",
       "      <td>100.000000</td>\n",
       "    </tr>\n",
       "    <tr>\n",
       "      <th>50%</th>\n",
       "      <td>55.000000</td>\n",
       "      <td>9.250000e+03</td>\n",
       "      <td>44306.000000</td>\n",
       "      <td>4.000000</td>\n",
       "      <td>4.000000</td>\n",
       "      <td>5.000000</td>\n",
       "      <td>21.017288</td>\n",
       "      <td>105.828030</td>\n",
       "      <td>169.090909</td>\n",
       "    </tr>\n",
       "    <tr>\n",
       "      <th>75%</th>\n",
       "      <td>85.000000</td>\n",
       "      <td>2.192500e+04</td>\n",
       "      <td>44312.000000</td>\n",
       "      <td>4.000000</td>\n",
       "      <td>6.000000</td>\n",
       "      <td>5.000000</td>\n",
       "      <td>21.019019</td>\n",
       "      <td>105.829949</td>\n",
       "      <td>283.149510</td>\n",
       "    </tr>\n",
       "    <tr>\n",
       "      <th>max</th>\n",
       "      <td>11000.000000</td>\n",
       "      <td>3.300000e+06</td>\n",
       "      <td>44325.000000</td>\n",
       "      <td>16.000000</td>\n",
       "      <td>22.000000</td>\n",
       "      <td>11.000000</td>\n",
       "      <td>21.036845</td>\n",
       "      <td>105.841407</td>\n",
       "      <td>8333.333333</td>\n",
       "    </tr>\n",
       "  </tbody>\n",
       "</table>\n",
       "</div>"
      ],
      "text/plain": [
       "               area         price      postDate      toilet     bedroom  \\\n",
       "count    600.000000  6.000000e+02    600.000000  237.000000  316.000000   \n",
       "mean     112.264583  2.961441e+04  44265.561667    3.632911    4.322785   \n",
       "std      495.846912  1.484516e+05     57.529752    2.358777    2.594913   \n",
       "min       14.000000  4.500000e+00  44197.000000    1.000000    1.000000   \n",
       "25%       41.000000  4.200000e+03  44197.000000    2.000000    3.000000   \n",
       "50%       55.000000  9.250000e+03  44306.000000    4.000000    4.000000   \n",
       "75%       85.000000  2.192500e+04  44312.000000    4.000000    6.000000   \n",
       "max    11000.000000  3.300000e+06  44325.000000   16.000000   22.000000   \n",
       "\n",
       "            floor         lat        long     price/m2  \n",
       "count  357.000000  600.000000  600.000000   600.000000  \n",
       "mean     4.753501   21.015420  105.825257   221.522396  \n",
       "std      1.687951    0.006677    0.009205   385.254899  \n",
       "min      1.000000   20.998499  105.795544     0.122500  \n",
       "25%      4.000000   21.009739  105.821315   100.000000  \n",
       "50%      5.000000   21.017288  105.828030   169.090909  \n",
       "75%      5.000000   21.019019  105.829949   283.149510  \n",
       "max     11.000000   21.036845  105.841407  8333.333333  "
      ]
     },
     "execution_count": 5,
     "metadata": {},
     "output_type": "execute_result"
    }
   ],
   "source": [
    "df.describe()"
   ]
  },
  {
   "cell_type": "markdown",
   "id": "6fe3da1f",
   "metadata": {},
   "source": [
    "## 1. Vẽ biểu đồ so sánh phân phối giá (triệu đ/m2) giữa nhà Phố và Nhà ngõ"
   ]
  },
  {
   "cell_type": "code",
   "execution_count": 6,
   "id": "f296fa04",
   "metadata": {},
   "outputs": [
    {
     "data": {
      "image/png": "[encoded data removed]",
      "text/plain": [
       "<Figure size 720x360 with 1 Axes>"
      ]
     },
     "metadata": {
      "needs_background": "light"
     },
     "output_type": "display_data"
    }
   ],
   "source": [
    "plt.rcParams['figure.figsize'] = (10,5)\n",
    "sns.kdeplot(x = 'price/m2', hue = 'property_type', data = df)\n",
    "plt.title('Phân phối giá nhà mặt phố và trong ngõ', fontsize = 16)\n",
    "plt.show()"
   ]
  },
  {
   "cell_type": "markdown",
   "id": "8fa3f4ca",
   "metadata": {},
   "source": [
    "- Dữ liệu có phương sai khác nhau"
   ]
  },
  {
   "cell_type": "markdown",
   "id": "43d4fe74",
   "metadata": {},
   "source": [
    "## 2. Kiểm định giả thuyết giá (triệu đ/m2) nhà mặt phố cao hơn giá nhà trong ngõ với mức ý nghĩa 5%\n",
    "\n",
    "\n",
    "### Phát biểu giả thuyết:\n",
    "- H0 : $\\mu_{mặt phố}$ = $\\mu_{trong ngõ}$\n",
    "- H1 : $\\mu_{mặt phố}$ > $\\mu_{trong ngõ}$"
   ]
  },
  {
   "cell_type": "code",
   "execution_count": 7,
   "id": "7e505b59",
   "metadata": {
    "scrolled": true
   },
   "outputs": [
    {
     "name": "stdout",
     "output_type": "stream",
     "text": [
      "statistic : 5.61717186315343\n",
      "pvalue : 3.017325736116157e-08\n"
     ]
    }
   ],
   "source": [
    "data1 = df.loc[df['property_type'] == 'trong ngo', 'price/m2']\n",
    "data2 = df.loc[df['property_type'] == 'mat pho', 'price/m2']\n",
    "statistic, pvalue = ttest_ind(data2.values,data1.values,equal_var = False,\n",
    "                              alternative ='greater', nan_policy='omit')\n",
    "print(f'statistic : {statistic}')\n",
    "print(f'pvalue : {pvalue}')"
   ]
  },
  {
   "cell_type": "markdown",
   "id": "206a5de7",
   "metadata": {},
   "source": [
    "### Kết luận : pvalue < $\\alpha$\n",
    "- Bác bỏ H0\n",
    "- Vậy với độ tin cậy 95% thì có thể kết luận giá nhà mặt phố cao hơn gía nhà trong ngõ"
   ]
  },
  {
   "cell_type": "markdown",
   "id": "a728bfb4",
   "metadata": {},
   "source": [
    "## 3. Giá của những căn nhà không có thông tin về giấy tờ pháp lý thấp hơn giá nhà những căn có thông tin về giấy tờ pháp lý với mức ý nghĩa 5"
   ]
  },
  {
   "cell_type": "code",
   "execution_count": 8,
   "id": "186a51df",
   "metadata": {
    "scrolled": true
   },
   "outputs": [
    {
     "data": {
      "image/png": "[encoded data removed]",
      "text/plain": [
       "<Figure size 720x360 with 1 Axes>"
      ]
     },
     "metadata": {
      "needs_background": "light"
     },
     "output_type": "display_data"
    }
   ],
   "source": [
    "non_certi = df.loc[df['land_certificate'].isna(), 'price/m2']\n",
    "certi = df.loc[df['land_certificate'].notna(), 'price/m2']\n",
    "sns.kdeplot(data = non_certi, label = 'non-certificate')\n",
    "sns.kdeplot(data = certi, label = 'certificate')\n",
    "plt.legend()\n",
    "plt.title('Phân phối giá nhà khi có hay không giấy tờ pháp lý', fontsize = 16)\n",
    "plt.show()"
   ]
  },
  {
   "cell_type": "markdown",
   "id": "ff30bf28",
   "metadata": {},
   "source": [
    "### Phát biểu giả thuyết\n",
    "- H0 : $\\mu_{non-certificate}$ = $\\mu_{certificate}$\n",
    "- H1 : $\\mu_{non-certificate}$ < $\\mu_{certificate}$"
   ]
  },
  {
   "cell_type": "code",
   "execution_count": 9,
   "id": "a7b68e2a",
   "metadata": {},
   "outputs": [
    {
     "name": "stdout",
     "output_type": "stream",
     "text": [
      "statistic : 1.7982063155076466\n",
      "pvalue : 0.9633458952519224\n"
     ]
    }
   ],
   "source": [
    "statistic, pvalue = ttest_ind(non_certi.values,certi.values,equal_var = False,\n",
    "                              alternative ='less', nan_policy='omit')\n",
    "print(f'statistic : {statistic}')\n",
    "print(f'pvalue : {pvalue}')"
   ]
  },
  {
   "cell_type": "markdown",
   "id": "0429b281",
   "metadata": {},
   "source": [
    "### Kết luận : pvalue > $\\alpha$\n",
    "- Chưa đủ cơ sở bác bỏ H0\n",
    "- Vậy với độ tin cậy 95% thì có thể kết luận giá nhà không có giấy tờ bằng giá nhà có giấy tờ pháp lý"
   ]
  }
 ],
 "metadata": {
  "kernelspec": {
   "display_name": "Python 3 (ipykernel)",
   "language": "python",
   "name": "python3"
  },
  "language_info": {
   "codemirror_mode": {
    "name": "ipython",
    "version": 3
   },
   "file_extension": ".py",
   "mimetype": "text/x-python",
   "name": "python",
   "nbconvert_exporter": "python",
   "pygments_lexer": "ipython3",
   "version": "3.10.4"
  }
 },
 "nbformat": 4,
 "nbformat_minor": 5
}

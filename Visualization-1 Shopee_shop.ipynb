{
 "cells": [
  {
   "cell_type": "code",
   "execution_count": 1,
   "id": "07a66f71",
   "metadata": {},
   "outputs": [],
   "source": [
    "import pandas as pd\n",
    "import numpy as np\n",
    "import matplotlib.pyplot as plt"
   ]
  },
  {
   "cell_type": "code",
   "execution_count": 2,
   "id": "8dfd6d2b",
   "metadata": {},
   "outputs": [
    {
     "data": {
      "text/html": [
       "<div>\n",
       "<style scoped>\n",
       "    .dataframe tbody tr th:only-of-type {\n",
       "        vertical-align: middle;\n",
       "    }\n",
       "\n",
       "    .dataframe tbody tr th {\n",
       "        vertical-align: top;\n",
       "    }\n",
       "\n",
       "    .dataframe thead th {\n",
       "        text-align: right;\n",
       "    }\n",
       "</style>\n",
       "<table border=\"1\" class=\"dataframe\">\n",
       "  <thead>\n",
       "    <tr style=\"text-align: right;\">\n",
       "      <th></th>\n",
       "      <th>pk_shop</th>\n",
       "      <th>date_collected</th>\n",
       "      <th>shopid</th>\n",
       "      <th>name</th>\n",
       "      <th>join_month</th>\n",
       "      <th>join_day</th>\n",
       "      <th>join_year</th>\n",
       "      <th>item_count</th>\n",
       "      <th>follower_count</th>\n",
       "      <th>response_time</th>\n",
       "      <th>response_rate</th>\n",
       "      <th>shop_location</th>\n",
       "      <th>rating_bad</th>\n",
       "      <th>rating_good</th>\n",
       "      <th>rating_normal</th>\n",
       "      <th>rating_star</th>\n",
       "      <th>is_shopee_verified</th>\n",
       "      <th>is_official_shop</th>\n",
       "    </tr>\n",
       "  </thead>\n",
       "  <tbody>\n",
       "    <tr>\n",
       "      <th>0</th>\n",
       "      <td>20210613254711738</td>\n",
       "      <td>2021-06-13</td>\n",
       "      <td>254711738</td>\n",
       "      <td>hello.may.ph</td>\n",
       "      <td>April</td>\n",
       "      <td>27</td>\n",
       "      <td>2020</td>\n",
       "      <td>446</td>\n",
       "      <td>17487</td>\n",
       "      <td>10:13:55</td>\n",
       "      <td>96</td>\n",
       "      <td>NaN</td>\n",
       "      <td>181</td>\n",
       "      <td>17510</td>\n",
       "      <td>729</td>\n",
       "      <td>4.81</td>\n",
       "      <td>1</td>\n",
       "      <td>0</td>\n",
       "    </tr>\n",
       "    <tr>\n",
       "      <th>1</th>\n",
       "      <td>20210613314198143</td>\n",
       "      <td>2021-06-13</td>\n",
       "      <td>314198143</td>\n",
       "      <td>love.women.shop</td>\n",
       "      <td>September</td>\n",
       "      <td>25</td>\n",
       "      <td>2020</td>\n",
       "      <td>263</td>\n",
       "      <td>8574</td>\n",
       "      <td>10:43:05</td>\n",
       "      <td>73</td>\n",
       "      <td>San Nicolas,Metro Manila</td>\n",
       "      <td>78</td>\n",
       "      <td>2656</td>\n",
       "      <td>198</td>\n",
       "      <td>4.68</td>\n",
       "      <td>0</td>\n",
       "      <td>0</td>\n",
       "    </tr>\n",
       "    <tr>\n",
       "      <th>2</th>\n",
       "      <td>2021061310377223</td>\n",
       "      <td>2021-06-13</td>\n",
       "      <td>10377223</td>\n",
       "      <td>R&amp;O RedOrange</td>\n",
       "      <td>September</td>\n",
       "      <td>27</td>\n",
       "      <td>2016</td>\n",
       "      <td>209</td>\n",
       "      <td>660417</td>\n",
       "      <td>08:32:07</td>\n",
       "      <td>90</td>\n",
       "      <td>Pasay City,Metro Manila</td>\n",
       "      <td>4647</td>\n",
       "      <td>1071829</td>\n",
       "      <td>18073</td>\n",
       "      <td>4.91</td>\n",
       "      <td>1</td>\n",
       "      <td>0</td>\n",
       "    </tr>\n",
       "    <tr>\n",
       "      <th>3</th>\n",
       "      <td>2021061321407329</td>\n",
       "      <td>2021-06-13</td>\n",
       "      <td>21407329</td>\n",
       "      <td>patriciacai</td>\n",
       "      <td>April</td>\n",
       "      <td>30</td>\n",
       "      <td>2017</td>\n",
       "      <td>165</td>\n",
       "      <td>18787</td>\n",
       "      <td>09:10:38</td>\n",
       "      <td>94</td>\n",
       "      <td>Binondo,Metro Manila</td>\n",
       "      <td>44</td>\n",
       "      <td>18959</td>\n",
       "      <td>215</td>\n",
       "      <td>4.94</td>\n",
       "      <td>1</td>\n",
       "      <td>0</td>\n",
       "    </tr>\n",
       "    <tr>\n",
       "      <th>4</th>\n",
       "      <td>2021061311187885</td>\n",
       "      <td>2021-06-13</td>\n",
       "      <td>11187885</td>\n",
       "      <td>Little Market Manila</td>\n",
       "      <td>October</td>\n",
       "      <td>18</td>\n",
       "      <td>2016</td>\n",
       "      <td>467</td>\n",
       "      <td>67371</td>\n",
       "      <td>11:40:59</td>\n",
       "      <td>89</td>\n",
       "      <td>Caloocan City,Metro Manila</td>\n",
       "      <td>680</td>\n",
       "      <td>39252</td>\n",
       "      <td>2383</td>\n",
       "      <td>4.73</td>\n",
       "      <td>1</td>\n",
       "      <td>0</td>\n",
       "    </tr>\n",
       "  </tbody>\n",
       "</table>\n",
       "</div>"
      ],
      "text/plain": [
       "             pk_shop date_collected     shopid                  name  \\\n",
       "0  20210613254711738     2021-06-13  254711738          hello.may.ph   \n",
       "1  20210613314198143     2021-06-13  314198143       love.women.shop   \n",
       "2   2021061310377223     2021-06-13   10377223         R&O RedOrange   \n",
       "3   2021061321407329     2021-06-13   21407329           patriciacai   \n",
       "4   2021061311187885     2021-06-13   11187885  Little Market Manila   \n",
       "\n",
       "  join_month  join_day  join_year  item_count  follower_count response_time  \\\n",
       "0      April        27       2020         446           17487      10:13:55   \n",
       "1  September        25       2020         263            8574      10:43:05   \n",
       "2  September        27       2016         209          660417      08:32:07   \n",
       "3      April        30       2017         165           18787      09:10:38   \n",
       "4    October        18       2016         467           67371      11:40:59   \n",
       "\n",
       "   response_rate               shop_location  rating_bad  rating_good  \\\n",
       "0             96                         NaN         181        17510   \n",
       "1             73    San Nicolas,Metro Manila          78         2656   \n",
       "2             90     Pasay City,Metro Manila        4647      1071829   \n",
       "3             94        Binondo,Metro Manila          44        18959   \n",
       "4             89  Caloocan City,Metro Manila         680        39252   \n",
       "\n",
       "   rating_normal  rating_star  is_shopee_verified  is_official_shop  \n",
       "0            729         4.81                   1                 0  \n",
       "1            198         4.68                   0                 0  \n",
       "2          18073         4.91                   1                 0  \n",
       "3            215         4.94                   1                 0  \n",
       "4           2383         4.73                   1                 0  "
      ]
     },
     "execution_count": 2,
     "metadata": {},
     "output_type": "execute_result"
    }
   ],
   "source": [
    "df = pd.read_csv('Data/shopeep_koreantop_clothing_shop_data.csv')\n",
    "df.head()"
   ]
  },
  {
   "cell_type": "code",
   "execution_count": 4,
   "id": "11726583",
   "metadata": {
    "scrolled": true
   },
   "outputs": [
    {
     "data": {
      "text/html": [
       "<div>\n",
       "<style scoped>\n",
       "    .dataframe tbody tr th:only-of-type {\n",
       "        vertical-align: middle;\n",
       "    }\n",
       "\n",
       "    .dataframe tbody tr th {\n",
       "        vertical-align: top;\n",
       "    }\n",
       "\n",
       "    .dataframe thead th {\n",
       "        text-align: right;\n",
       "    }\n",
       "</style>\n",
       "<table border=\"1\" class=\"dataframe\">\n",
       "  <thead>\n",
       "    <tr style=\"text-align: right;\">\n",
       "      <th></th>\n",
       "      <th>pk_shop</th>\n",
       "      <th>shopid</th>\n",
       "      <th>join_day</th>\n",
       "      <th>join_year</th>\n",
       "      <th>item_count</th>\n",
       "      <th>follower_count</th>\n",
       "      <th>response_rate</th>\n",
       "      <th>rating_bad</th>\n",
       "      <th>rating_good</th>\n",
       "      <th>rating_normal</th>\n",
       "      <th>rating_star</th>\n",
       "      <th>is_shopee_verified</th>\n",
       "      <th>is_official_shop</th>\n",
       "    </tr>\n",
       "  </thead>\n",
       "  <tbody>\n",
       "    <tr>\n",
       "      <th>count</th>\n",
       "      <td>7.460000e+02</td>\n",
       "      <td>7.460000e+02</td>\n",
       "      <td>746.000000</td>\n",
       "      <td>746.000000</td>\n",
       "      <td>746.000000</td>\n",
       "      <td>7.460000e+02</td>\n",
       "      <td>746.000000</td>\n",
       "      <td>746.000000</td>\n",
       "      <td>7.460000e+02</td>\n",
       "      <td>746.000000</td>\n",
       "      <td>740.000000</td>\n",
       "      <td>746.000000</td>\n",
       "      <td>746.000000</td>\n",
       "    </tr>\n",
       "    <tr>\n",
       "      <th>mean</th>\n",
       "      <td>1.367361e+16</td>\n",
       "      <td>2.032431e+08</td>\n",
       "      <td>16.663539</td>\n",
       "      <td>2018.985255</td>\n",
       "      <td>482.886059</td>\n",
       "      <td>9.989943e+04</td>\n",
       "      <td>78.044236</td>\n",
       "      <td>2049.020107</td>\n",
       "      <td>9.720686e+04</td>\n",
       "      <td>4175.920912</td>\n",
       "      <td>4.740811</td>\n",
       "      <td>0.269437</td>\n",
       "      <td>0.005362</td>\n",
       "    </tr>\n",
       "    <tr>\n",
       "      <th>std</th>\n",
       "      <td>8.764287e+15</td>\n",
       "      <td>1.425216e+08</td>\n",
       "      <td>8.897669</td>\n",
       "      <td>1.528625</td>\n",
       "      <td>604.620925</td>\n",
       "      <td>2.627164e+05</td>\n",
       "      <td>22.534672</td>\n",
       "      <td>9232.920595</td>\n",
       "      <td>3.417680e+05</td>\n",
       "      <td>15174.949308</td>\n",
       "      <td>0.152888</td>\n",
       "      <td>0.443965</td>\n",
       "      <td>0.073078</td>\n",
       "    </tr>\n",
       "    <tr>\n",
       "      <th>min</th>\n",
       "      <td>2.021061e+14</td>\n",
       "      <td>1.083822e+06</td>\n",
       "      <td>1.000000</td>\n",
       "      <td>2015.000000</td>\n",
       "      <td>1.000000</td>\n",
       "      <td>6.000000e+00</td>\n",
       "      <td>1.000000</td>\n",
       "      <td>0.000000</td>\n",
       "      <td>0.000000e+00</td>\n",
       "      <td>0.000000</td>\n",
       "      <td>4.060000</td>\n",
       "      <td>0.000000</td>\n",
       "      <td>0.000000</td>\n",
       "    </tr>\n",
       "    <tr>\n",
       "      <th>25%</th>\n",
       "      <td>2.021063e+15</td>\n",
       "      <td>5.034141e+07</td>\n",
       "      <td>9.000000</td>\n",
       "      <td>2017.250000</td>\n",
       "      <td>145.500000</td>\n",
       "      <td>2.024000e+03</td>\n",
       "      <td>67.000000</td>\n",
       "      <td>15.250000</td>\n",
       "      <td>7.002500e+02</td>\n",
       "      <td>35.000000</td>\n",
       "      <td>4.640000</td>\n",
       "      <td>0.000000</td>\n",
       "      <td>0.000000</td>\n",
       "    </tr>\n",
       "    <tr>\n",
       "      <th>50%</th>\n",
       "      <td>2.021062e+16</td>\n",
       "      <td>2.054244e+08</td>\n",
       "      <td>17.000000</td>\n",
       "      <td>2019.000000</td>\n",
       "      <td>311.000000</td>\n",
       "      <td>1.690450e+04</td>\n",
       "      <td>86.000000</td>\n",
       "      <td>117.000000</td>\n",
       "      <td>7.320000e+03</td>\n",
       "      <td>351.500000</td>\n",
       "      <td>4.780000</td>\n",
       "      <td>0.000000</td>\n",
       "      <td>0.000000</td>\n",
       "    </tr>\n",
       "    <tr>\n",
       "      <th>75%</th>\n",
       "      <td>2.021063e+16</td>\n",
       "      <td>3.182721e+08</td>\n",
       "      <td>24.000000</td>\n",
       "      <td>2020.000000</td>\n",
       "      <td>526.000000</td>\n",
       "      <td>6.644100e+04</td>\n",
       "      <td>96.000000</td>\n",
       "      <td>676.250000</td>\n",
       "      <td>3.484100e+04</td>\n",
       "      <td>1605.500000</td>\n",
       "      <td>4.860000</td>\n",
       "      <td>1.000000</td>\n",
       "      <td>0.000000</td>\n",
       "    </tr>\n",
       "    <tr>\n",
       "      <th>max</th>\n",
       "      <td>2.021071e+16</td>\n",
       "      <td>4.689597e+08</td>\n",
       "      <td>31.000000</td>\n",
       "      <td>2021.000000</td>\n",
       "      <td>4739.000000</td>\n",
       "      <td>2.039888e+06</td>\n",
       "      <td>100.000000</td>\n",
       "      <td>102833.000000</td>\n",
       "      <td>3.403406e+06</td>\n",
       "      <td>153076.000000</td>\n",
       "      <td>5.000000</td>\n",
       "      <td>1.000000</td>\n",
       "      <td>1.000000</td>\n",
       "    </tr>\n",
       "  </tbody>\n",
       "</table>\n",
       "</div>"
      ],
      "text/plain": [
       "            pk_shop        shopid    join_day    join_year   item_count  \\\n",
       "count  7.460000e+02  7.460000e+02  746.000000   746.000000   746.000000   \n",
       "mean   1.367361e+16  2.032431e+08   16.663539  2018.985255   482.886059   \n",
       "std    8.764287e+15  1.425216e+08    8.897669     1.528625   604.620925   \n",
       "min    2.021061e+14  1.083822e+06    1.000000  2015.000000     1.000000   \n",
       "25%    2.021063e+15  5.034141e+07    9.000000  2017.250000   145.500000   \n",
       "50%    2.021062e+16  2.054244e+08   17.000000  2019.000000   311.000000   \n",
       "75%    2.021063e+16  3.182721e+08   24.000000  2020.000000   526.000000   \n",
       "max    2.021071e+16  4.689597e+08   31.000000  2021.000000  4739.000000   \n",
       "\n",
       "       follower_count  response_rate     rating_bad   rating_good  \\\n",
       "count    7.460000e+02     746.000000     746.000000  7.460000e+02   \n",
       "mean     9.989943e+04      78.044236    2049.020107  9.720686e+04   \n",
       "std      2.627164e+05      22.534672    9232.920595  3.417680e+05   \n",
       "min      6.000000e+00       1.000000       0.000000  0.000000e+00   \n",
       "25%      2.024000e+03      67.000000      15.250000  7.002500e+02   \n",
       "50%      1.690450e+04      86.000000     117.000000  7.320000e+03   \n",
       "75%      6.644100e+04      96.000000     676.250000  3.484100e+04   \n",
       "max      2.039888e+06     100.000000  102833.000000  3.403406e+06   \n",
       "\n",
       "       rating_normal  rating_star  is_shopee_verified  is_official_shop  \n",
       "count     746.000000   740.000000          746.000000        746.000000  \n",
       "mean     4175.920912     4.740811            0.269437          0.005362  \n",
       "std     15174.949308     0.152888            0.443965          0.073078  \n",
       "min         0.000000     4.060000            0.000000          0.000000  \n",
       "25%        35.000000     4.640000            0.000000          0.000000  \n",
       "50%       351.500000     4.780000            0.000000          0.000000  \n",
       "75%      1605.500000     4.860000            1.000000          0.000000  \n",
       "max    153076.000000     5.000000            1.000000          1.000000  "
      ]
     },
     "execution_count": 4,
     "metadata": {},
     "output_type": "execute_result"
    }
   ],
   "source": [
    "df.describe()"
   ]
  },
  {
   "cell_type": "markdown",
   "id": "1d7a6b28",
   "metadata": {},
   "source": [
    "## 1. Vẽ biểu đồ so sánh số lượng shop gia nhập theo các năm."
   ]
  },
  {
   "cell_type": "code",
   "execution_count": 56,
   "id": "3876ac5b",
   "metadata": {
    "scrolled": true
   },
   "outputs": [
    {
     "data": {
      "image/png": "[encoded data removed]",
      "text/plain": [
       "<Figure size 432x288 with 1 Axes>"
      ]
     },
     "metadata": {
      "needs_background": "light"
     },
     "output_type": "display_data"
    }
   ],
   "source": [
    "nshop_year = df.groupby('join_year')[['shopid']].nunique()\n",
    "nshop_year.plot.barb()\n",
    "plt.title('Số lượng shop gia nhập theo năm', fontsize = 15)\n",
    "plt.show();"
   ]
  },
  {
   "cell_type": "markdown",
   "id": "82ae0509",
   "metadata": {},
   "source": [
    "## 2. Vẽ biểu đồ thể hiện mối quan hệ giữa tỉ lệ phản hồi với số lượt khách hàng đánh giá tốt."
   ]
  },
  {
   "cell_type": "code",
   "execution_count": 44,
   "id": "b7770dbf",
   "metadata": {
    "scrolled": true
   },
   "outputs": [
    {
     "data": {
      "image/png": "[encoded data removed]",
      "text/plain": [
       "<Figure size 432x288 with 1 Axes>"
      ]
     },
     "metadata": {
      "needs_background": "light"
     },
     "output_type": "display_data"
    }
   ],
   "source": [
    "plt.title('Mỗi quan hệ tỉ lệ phản hồi với số lượt đánh giá tốt', fontsize = 14)\n",
    "plt.scatter(x = df['response_rate'], y = df['rating_good'])\n",
    "plt.ylabel('rating_good')\n",
    "plt.xlabel('response_rate')\n",
    "plt.show()"
   ]
  },
  {
   "cell_type": "markdown",
   "id": "464ff6ab",
   "metadata": {},
   "source": [
    "## 3. Vẽ biểu đồ thể hiện mối quan hệ giữa tỉ lệ phản hồi với số lượt khách hàng đánh giá xấu."
   ]
  },
  {
   "cell_type": "code",
   "execution_count": 46,
   "id": "10e9565f",
   "metadata": {
    "scrolled": false
   },
   "outputs": [
    {
     "data": {
      "image/png": "[encoded data removed]",
      "text/plain": [
       "<Figure size 432x288 with 1 Axes>"
      ]
     },
     "metadata": {
      "needs_background": "light"
     },
     "output_type": "display_data"
    }
   ],
   "source": [
    "plt.title('Mỗi quan hệ tỉ lệ phản hồi với số lượt đánh giá xấu', fontsize = 14)\n",
    "plt.scatter(x = df['response_rate'], y = df['rating_bad'])\n",
    "plt.ylabel('rating_bad')\n",
    "plt.xlabel('response_rate')\n",
    "plt.show()"
   ]
  },
  {
   "cell_type": "markdown",
   "id": "edbb513b",
   "metadata": {},
   "source": [
    "## 4. Vẽ biểu đồ thể hiện xu hướng của số lượng shop gia nhập theo thời gian."
   ]
  },
  {
   "cell_type": "code",
   "execution_count": 60,
   "id": "1a65b0df",
   "metadata": {
    "scrolled": true
   },
   "outputs": [
    {
     "data": {
      "image/png": "[encoded data removed]",
      "text/plain": [
       "<Figure size 432x288 with 1 Axes>"
      ]
     },
     "metadata": {
      "needs_background": "light"
     },
     "output_type": "display_data"
    }
   ],
   "source": [
    "data = df.groupby('join_year')[['shopid']].nunique()\n",
    "data.plot.line(marker = 's')\n",
    "plt.title('Số lượng shop gia nhập theo năm', fontsize = 15)\n",
    "plt.show()"
   ]
  },
  {
   "cell_type": "markdown",
   "id": "20389284",
   "metadata": {},
   "source": [
    "## 5. Vẽ biểu đồ thể hiện phân bố của điểm đánh giá trung bình. "
   ]
  },
  {
   "cell_type": "code",
   "execution_count": 74,
   "id": "068971dc",
   "metadata": {},
   "outputs": [
    {
     "data": {
      "image/png": "[encoded data removed]",
      "text/plain": [
       "<Figure size 432x288 with 1 Axes>"
      ]
     },
     "metadata": {
      "needs_background": "light"
     },
     "output_type": "display_data"
    }
   ],
   "source": [
    "plt.hist(x = df['rating_star'], bins = 6 , edgecolor = 'red', bottom = 4)\n",
    "plt.title('Sự phân bố điểm của đáng giá trung bình', fontsize = 15)\n",
    "plt.xlabel('rating_star')\n",
    "plt.ylabel('num_ratings')\n",
    "plt.show()"
   ]
  }
 ],
 "metadata": {
  "kernelspec": {
   "display_name": "Python 3 (ipykernel)",
   "language": "python",
   "name": "python3"
  },
  "language_info": {
   "codemirror_mode": {
    "name": "ipython",
    "version": 3
   },
   "file_extension": ".py",
   "mimetype": "text/x-python",
   "name": "python",
   "nbconvert_exporter": "python",
   "pygments_lexer": "ipython3",
   "version": "3.9.7"
  }
 },
 "nbformat": 4,
 "nbformat_minor": 5
}

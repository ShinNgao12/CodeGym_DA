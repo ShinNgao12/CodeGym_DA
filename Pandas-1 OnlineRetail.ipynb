{
 "cells": [
  {
   "cell_type": "code",
   "execution_count": 1,
   "id": "6ca6ff39",
   "metadata": {},
   "outputs": [],
   "source": [
    "import pandas as pd"
   ]
  },
  {
   "cell_type": "markdown",
   "id": "8aa5559c",
   "metadata": {},
   "source": [
    "### 1. Đọc bộ dữ liệu, cho biết số dòng, số cột và kiểu dữ liệu của các thuộc tính."
   ]
  },
  {
   "cell_type": "code",
   "execution_count": 2,
   "id": "5e4372e9",
   "metadata": {},
   "outputs": [
    {
     "data": {
      "text/html": [
       "<div>\n",
       "<style scoped>\n",
       "    .dataframe tbody tr th:only-of-type {\n",
       "        vertical-align: middle;\n",
       "    }\n",
       "\n",
       "    .dataframe tbody tr th {\n",
       "        vertical-align: top;\n",
       "    }\n",
       "\n",
       "    .dataframe thead th {\n",
       "        text-align: right;\n",
       "    }\n",
       "</style>\n",
       "<table border=\"1\" class=\"dataframe\">\n",
       "  <thead>\n",
       "    <tr style=\"text-align: right;\">\n",
       "      <th></th>\n",
       "      <th>InvoiceNo</th>\n",
       "      <th>StockCode</th>\n",
       "      <th>Description</th>\n",
       "      <th>Quantity</th>\n",
       "      <th>InvoiceDate</th>\n",
       "      <th>UnitPrice</th>\n",
       "      <th>CustomerID</th>\n",
       "      <th>Country</th>\n",
       "    </tr>\n",
       "  </thead>\n",
       "  <tbody>\n",
       "    <tr>\n",
       "      <th>0</th>\n",
       "      <td>536365</td>\n",
       "      <td>85123A</td>\n",
       "      <td>WHITE HANGING HEART T-LIGHT HOLDER</td>\n",
       "      <td>6</td>\n",
       "      <td>12/1/2010 8:26</td>\n",
       "      <td>2.55</td>\n",
       "      <td>17850.0</td>\n",
       "      <td>United Kingdom</td>\n",
       "    </tr>\n",
       "    <tr>\n",
       "      <th>1</th>\n",
       "      <td>536365</td>\n",
       "      <td>71053</td>\n",
       "      <td>WHITE METAL LANTERN</td>\n",
       "      <td>6</td>\n",
       "      <td>12/1/2010 8:26</td>\n",
       "      <td>3.39</td>\n",
       "      <td>17850.0</td>\n",
       "      <td>United Kingdom</td>\n",
       "    </tr>\n",
       "    <tr>\n",
       "      <th>2</th>\n",
       "      <td>536365</td>\n",
       "      <td>84406B</td>\n",
       "      <td>CREAM CUPID HEARTS COAT HANGER</td>\n",
       "      <td>8</td>\n",
       "      <td>12/1/2010 8:26</td>\n",
       "      <td>2.75</td>\n",
       "      <td>17850.0</td>\n",
       "      <td>United Kingdom</td>\n",
       "    </tr>\n",
       "    <tr>\n",
       "      <th>3</th>\n",
       "      <td>536365</td>\n",
       "      <td>84029G</td>\n",
       "      <td>KNITTED UNION FLAG HOT WATER BOTTLE</td>\n",
       "      <td>6</td>\n",
       "      <td>12/1/2010 8:26</td>\n",
       "      <td>3.39</td>\n",
       "      <td>17850.0</td>\n",
       "      <td>United Kingdom</td>\n",
       "    </tr>\n",
       "    <tr>\n",
       "      <th>4</th>\n",
       "      <td>536365</td>\n",
       "      <td>84029E</td>\n",
       "      <td>RED WOOLLY HOTTIE WHITE HEART.</td>\n",
       "      <td>6</td>\n",
       "      <td>12/1/2010 8:26</td>\n",
       "      <td>3.39</td>\n",
       "      <td>17850.0</td>\n",
       "      <td>United Kingdom</td>\n",
       "    </tr>\n",
       "  </tbody>\n",
       "</table>\n",
       "</div>"
      ],
      "text/plain": [
       "  InvoiceNo StockCode                          Description  Quantity  \\\n",
       "0    536365    85123A   WHITE HANGING HEART T-LIGHT HOLDER         6   \n",
       "1    536365     71053                  WHITE METAL LANTERN         6   \n",
       "2    536365    84406B       CREAM CUPID HEARTS COAT HANGER         8   \n",
       "3    536365    84029G  KNITTED UNION FLAG HOT WATER BOTTLE         6   \n",
       "4    536365    84029E       RED WOOLLY HOTTIE WHITE HEART.         6   \n",
       "\n",
       "      InvoiceDate  UnitPrice  CustomerID         Country  \n",
       "0  12/1/2010 8:26       2.55     17850.0  United Kingdom  \n",
       "1  12/1/2010 8:26       3.39     17850.0  United Kingdom  \n",
       "2  12/1/2010 8:26       2.75     17850.0  United Kingdom  \n",
       "3  12/1/2010 8:26       3.39     17850.0  United Kingdom  \n",
       "4  12/1/2010 8:26       3.39     17850.0  United Kingdom  "
      ]
     },
     "execution_count": 2,
     "metadata": {},
     "output_type": "execute_result"
    }
   ],
   "source": [
    "df = pd.read_csv('Data/OnlineRetail.csv', encoding='iso-8859-2')\n",
    "df.head()"
   ]
  },
  {
   "cell_type": "code",
   "execution_count": 3,
   "id": "2f10419c",
   "metadata": {},
   "outputs": [
    {
     "name": "stdout",
     "output_type": "stream",
     "text": [
      "Dữ liệu có 541909 dòng\n",
      "Dữ liệu có 8 cột\n"
     ]
    }
   ],
   "source": [
    "print(f'Dữ liệu có {df.shape[0]} dòng')\n",
    "print(f'Dữ liệu có {df.shape[1]} cột')"
   ]
  },
  {
   "cell_type": "code",
   "execution_count": 4,
   "id": "b44d1484",
   "metadata": {
    "scrolled": true
   },
   "outputs": [
    {
     "data": {
      "text/plain": [
       "InvoiceNo       object\n",
       "StockCode       object\n",
       "Description     object\n",
       "Quantity         int64\n",
       "InvoiceDate     object\n",
       "UnitPrice      float64\n",
       "CustomerID     float64\n",
       "Country         object\n",
       "dtype: object"
      ]
     },
     "execution_count": 4,
     "metadata": {},
     "output_type": "execute_result"
    }
   ],
   "source": [
    "df.dtypes"
   ]
  },
  {
   "cell_type": "markdown",
   "id": "2cb3a586",
   "metadata": {},
   "source": [
    "### 2.Trích xuất dữ liệu các cột Description và Quantity lưu vào file OnlineRetail.csv"
   ]
  },
  {
   "cell_type": "code",
   "execution_count": 5,
   "id": "d11b1107",
   "metadata": {},
   "outputs": [],
   "source": [
    "df[['Description','Quantity']].to_csv('OnlineRetail.csv',index = False)"
   ]
  },
  {
   "cell_type": "markdown",
   "id": "0fb86b9c",
   "metadata": {},
   "source": [
    "### 3. Trích xuất dữ liệu 1000 dòng đầu tiên lưu vào file OnlineRetail.xlsx"
   ]
  },
  {
   "cell_type": "code",
   "execution_count": 6,
   "id": "6700e1a7",
   "metadata": {},
   "outputs": [],
   "source": [
    "df.head(10000).to_excel('OnlineRetail.xlsx',index =False)"
   ]
  },
  {
   "cell_type": "markdown",
   "id": "e092c783",
   "metadata": {},
   "source": [
    "### 4. Trích xuất các bản ghi có số lượng từ 10 trở lên lưu vào file OnlineRetail.h5"
   ]
  },
  {
   "cell_type": "code",
   "execution_count": 7,
   "id": "359f2b58",
   "metadata": {},
   "outputs": [],
   "source": [
    "# install tables\n",
    "! pip install tables\n",
    "\n",
    "df.head(20).to_hdf('OnlineRetail.h5', 'table' ,index =False)"
   ]
  },
  {
   "cell_type": "markdown",
   "id": "de43b980",
   "metadata": {},
   "source": [
    "### 5. Trích xuất dữ liệu các phần tử từ dòng 1000 đến dòng 2000, các cột Quantity, InvoiceDate, UnitPrice lưu vào file OnlineRetail.json"
   ]
  },
  {
   "cell_type": "code",
   "execution_count": 12,
   "id": "a450556e",
   "metadata": {},
   "outputs": [],
   "source": [
    "df.iloc[999:2000].to_json('OnlineRetail.json','table',index =False)"
   ]
  },
  {
   "cell_type": "markdown",
   "id": "d50f446b",
   "metadata": {},
   "source": [
    "### 6. Trích xuất các bản ghi có số hóa đơn ‘536365’ lưu vào file OnlineRetail.html"
   ]
  },
  {
   "cell_type": "code",
   "execution_count": 17,
   "id": "e43183bc",
   "metadata": {},
   "outputs": [],
   "source": [
    "df[df['InvoiceNo'] =='536365'].to_html('OnlineRetail.html',index = False)"
   ]
  }
 ],
 "metadata": {
  "kernelspec": {
   "display_name": "Python 3 (ipykernel)",
   "language": "python",
   "name": "python3"
  },
  "language_info": {
   "codemirror_mode": {
    "name": "ipython",
    "version": 3
   },
   "file_extension": ".py",
   "mimetype": "text/x-python",
   "name": "python",
   "nbconvert_exporter": "python",
   "pygments_lexer": "ipython3",
   "version": "3.9.7"
  }
 },
 "nbformat": 4,
 "nbformat_minor": 5
}

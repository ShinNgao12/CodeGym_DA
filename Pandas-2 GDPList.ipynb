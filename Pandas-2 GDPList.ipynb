{
 "cells": [
  {
   "cell_type": "code",
   "execution_count": 1,
   "id": "c09a00e4",
   "metadata": {},
   "outputs": [],
   "source": [
    "import pandas as pd"
   ]
  },
  {
   "cell_type": "markdown",
   "id": "0d7078a4",
   "metadata": {},
   "source": [
    "## 1. Đọc bộ dữ liệu, cho biết số dòng, số cột và kiểu dữ liệu của các thuộc tính."
   ]
  },
  {
   "cell_type": "code",
   "execution_count": 3,
   "id": "ba0985e0",
   "metadata": {
    "scrolled": true
   },
   "outputs": [
    {
     "data": {
      "text/html": [
       "<div>\n",
       "<style scoped>\n",
       "    .dataframe tbody tr th:only-of-type {\n",
       "        vertical-align: middle;\n",
       "    }\n",
       "\n",
       "    .dataframe tbody tr th {\n",
       "        vertical-align: top;\n",
       "    }\n",
       "\n",
       "    .dataframe thead th {\n",
       "        text-align: right;\n",
       "    }\n",
       "</style>\n",
       "<table border=\"1\" class=\"dataframe\">\n",
       "  <thead>\n",
       "    <tr style=\"text-align: right;\">\n",
       "      <th></th>\n",
       "      <th>Country</th>\n",
       "      <th>Continent</th>\n",
       "      <th>GDP (millions of US$)</th>\n",
       "    </tr>\n",
       "  </thead>\n",
       "  <tbody>\n",
       "    <tr>\n",
       "      <th>0</th>\n",
       "      <td>Afghanistan</td>\n",
       "      <td>Asia</td>\n",
       "      <td>18181</td>\n",
       "    </tr>\n",
       "    <tr>\n",
       "      <th>1</th>\n",
       "      <td>Albania</td>\n",
       "      <td>Europe</td>\n",
       "      <td>12847</td>\n",
       "    </tr>\n",
       "    <tr>\n",
       "      <th>2</th>\n",
       "      <td>Algeria</td>\n",
       "      <td>Africa</td>\n",
       "      <td>190709</td>\n",
       "    </tr>\n",
       "    <tr>\n",
       "      <th>3</th>\n",
       "      <td>Angola</td>\n",
       "      <td>Africa</td>\n",
       "      <td>100948</td>\n",
       "    </tr>\n",
       "    <tr>\n",
       "      <th>4</th>\n",
       "      <td>Argentina</td>\n",
       "      <td>South America</td>\n",
       "      <td>447644</td>\n",
       "    </tr>\n",
       "  </tbody>\n",
       "</table>\n",
       "</div>"
      ],
      "text/plain": [
       "       Country      Continent  GDP (millions of US$)\n",
       "0  Afghanistan           Asia                  18181\n",
       "1      Albania         Europe                  12847\n",
       "2      Algeria         Africa                 190709\n",
       "3       Angola         Africa                 100948\n",
       "4    Argentina  South America                 447644"
      ]
     },
     "execution_count": 3,
     "metadata": {},
     "output_type": "execute_result"
    }
   ],
   "source": [
    "df = pd.read_csv('Data/GDPlist.csv',decimal= ',' , encoding = 'iso-8859-2')\n",
    "df.drop(columns=['Country.1'], inplace= True)\n",
    "df.head()"
   ]
  },
  {
   "cell_type": "code",
   "execution_count": 4,
   "id": "3ef14a42",
   "metadata": {},
   "outputs": [
    {
     "name": "stdout",
     "output_type": "stream",
     "text": [
      "Dữ liệu có 125 dòng\n",
      "Dữ liệu có 3 cột\n"
     ]
    }
   ],
   "source": [
    "print(f'Dữ liệu có {df.shape[0]} dòng')\n",
    "print(f'Dữ liệu có {df.shape[1]} cột')"
   ]
  },
  {
   "cell_type": "code",
   "execution_count": 5,
   "id": "00118af8",
   "metadata": {
    "scrolled": true
   },
   "outputs": [
    {
     "data": {
      "text/plain": [
       "Country                  object\n",
       "Continent                object\n",
       "GDP (millions of US$)     int64\n",
       "dtype: object"
      ]
     },
     "execution_count": 5,
     "metadata": {},
     "output_type": "execute_result"
    }
   ],
   "source": [
    "df.dtypes"
   ]
  },
  {
   "cell_type": "markdown",
   "id": "2b5b62f1",
   "metadata": {},
   "source": [
    "## 2. Tính giá trị lớn nhất và nhỏ nhất của GDP."
   ]
  },
  {
   "cell_type": "code",
   "execution_count": 11,
   "id": "b3d4b294",
   "metadata": {},
   "outputs": [
    {
     "name": "stdout",
     "output_type": "stream",
     "text": [
      "Min value of GDP: 10600\n",
      "Max value of GDP: 15094025\n"
     ]
    }
   ],
   "source": [
    "print(f\"Min value of GDP: {df['GDP (millions of US$)'].min()}\")\n",
    "print(f\"Max value of GDP: {df['GDP (millions of US$)'].max()}\")"
   ]
  },
  {
   "cell_type": "markdown",
   "id": "74c51af8",
   "metadata": {},
   "source": [
    "## 3. Hãy cho biết xu hướng phân bố dữ liệu của GDP."
   ]
  },
  {
   "cell_type": "code",
   "execution_count": 15,
   "id": "e2871f21",
   "metadata": {},
   "outputs": [
    {
     "name": "stdout",
     "output_type": "stream",
     "text": [
      "Mean value of GDP: 555427.784\n",
      "Median value of GDP: 96089.0\n",
      "Q-1 value of GDP: 25742.0\n",
      "Q-3 value of GDP: 333238.0\n"
     ]
    }
   ],
   "source": [
    "print(f\"Mean value of GDP: {df['GDP (millions of US$)'].mean()}\")\n",
    "print(f\"Median value of GDP: {df['GDP (millions of US$)'].median()}\")\n",
    "print(f\"Q-1 value of GDP: {df['GDP (millions of US$)'].quantile(q=0.25)}\")\n",
    "print(f\"Q-3 value of GDP: {df['GDP (millions of US$)'].quantile(q=0.75)}\")"
   ]
  },
  {
   "cell_type": "markdown",
   "id": "856dbd16",
   "metadata": {},
   "source": [
    "## 4. Hãy cho biết châu lục nào xuất hiện nhiều nhất?"
   ]
  },
  {
   "cell_type": "code",
   "execution_count": 20,
   "id": "f023bb9b",
   "metadata": {
    "scrolled": true
   },
   "outputs": [
    {
     "data": {
      "text/plain": [
       "Europe           37\n",
       "Asia             36\n",
       "Africa           29\n",
       "North America    11\n",
       "South America     9\n",
       "Oceania           3\n",
       "Name: Continent, dtype: int64"
      ]
     },
     "execution_count": 20,
     "metadata": {},
     "output_type": "execute_result"
    }
   ],
   "source": [
    "df['Continent'].value_counts()"
   ]
  },
  {
   "cell_type": "markdown",
   "id": "39beba5f",
   "metadata": {},
   "source": [
    "### Europe xuất hiện nhiều nhất "
   ]
  },
  {
   "cell_type": "markdown",
   "id": "949a9873",
   "metadata": {},
   "source": [
    "## 5. Với mỗi châu lục hãy tính tổng GDP; trung bình cộng GDP. Hợp nhất 2 bảng này thành một bảng duy nhất gồm 3 thông tin: Tên châu lục; Tổng GDP; TBC GDP."
   ]
  },
  {
   "cell_type": "code",
   "execution_count": 32,
   "id": "bf38bfab",
   "metadata": {},
   "outputs": [
    {
     "data": {
      "text/html": [
       "<div>\n",
       "<style scoped>\n",
       "    .dataframe tbody tr th:only-of-type {\n",
       "        vertical-align: middle;\n",
       "    }\n",
       "\n",
       "    .dataframe tbody tr th {\n",
       "        vertical-align: top;\n",
       "    }\n",
       "\n",
       "    .dataframe thead th {\n",
       "        text-align: right;\n",
       "    }\n",
       "</style>\n",
       "<table border=\"1\" class=\"dataframe\">\n",
       "  <thead>\n",
       "    <tr style=\"text-align: right;\">\n",
       "      <th></th>\n",
       "      <th>Sum GDP</th>\n",
       "      <th>Average GDP</th>\n",
       "    </tr>\n",
       "    <tr>\n",
       "      <th>Continent</th>\n",
       "      <th></th>\n",
       "      <th></th>\n",
       "    </tr>\n",
       "  </thead>\n",
       "  <tbody>\n",
       "    <tr>\n",
       "      <th>Africa</th>\n",
       "      <td>1820811</td>\n",
       "      <td>6.278659e+04</td>\n",
       "    </tr>\n",
       "    <tr>\n",
       "      <th>Asia</th>\n",
       "      <td>24425891</td>\n",
       "      <td>6.784970e+05</td>\n",
       "    </tr>\n",
       "    <tr>\n",
       "      <th>Europe</th>\n",
       "      <td>19139380</td>\n",
       "      <td>5.172805e+05</td>\n",
       "    </tr>\n",
       "    <tr>\n",
       "      <th>North America</th>\n",
       "      <td>18238447</td>\n",
       "      <td>1.658041e+06</td>\n",
       "    </tr>\n",
       "    <tr>\n",
       "      <th>Oceania</th>\n",
       "      <td>1662727</td>\n",
       "      <td>5.542423e+05</td>\n",
       "    </tr>\n",
       "    <tr>\n",
       "      <th>South America</th>\n",
       "      <td>4141217</td>\n",
       "      <td>4.601352e+05</td>\n",
       "    </tr>\n",
       "  </tbody>\n",
       "</table>\n",
       "</div>"
      ],
      "text/plain": [
       "                Sum GDP   Average GDP\n",
       "Continent                            \n",
       "Africa          1820811  6.278659e+04\n",
       "Asia           24425891  6.784970e+05\n",
       "Europe         19139380  5.172805e+05\n",
       "North America  18238447  1.658041e+06\n",
       "Oceania         1662727  5.542423e+05\n",
       "South America   4141217  4.601352e+05"
      ]
     },
     "execution_count": 32,
     "metadata": {},
     "output_type": "execute_result"
    }
   ],
   "source": [
    "sum_df = df.pivot_table(values =  'GDP (millions of US$)', index = 'Continent', aggfunc = 'sum') \n",
    "mean_df = df.pivot_table(values =  'GDP (millions of US$)', index = 'Continent', aggfunc = 'mean')\n",
    "concat_df = sum_df.merge(mean_df, on = 'Continent')\n",
    "concat_df.columns = ['Sum GDP', 'Average GDP']\n",
    "concat_df"
   ]
  }
 ],
 "metadata": {
  "kernelspec": {
   "display_name": "Python 3 (ipykernel)",
   "language": "python",
   "name": "python3"
  },
  "language_info": {
   "codemirror_mode": {
    "name": "ipython",
    "version": 3
   },
   "file_extension": ".py",
   "mimetype": "text/x-python",
   "name": "python",
   "nbconvert_exporter": "python",
   "pygments_lexer": "ipython3",
   "version": "3.9.7"
  }
 },
 "nbformat": 4,
 "nbformat_minor": 5
}

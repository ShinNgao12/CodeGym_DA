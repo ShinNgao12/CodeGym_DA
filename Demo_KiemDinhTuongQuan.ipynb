{
 "cells": [
  {
   "cell_type": "code",
   "execution_count": 8,
   "id": "9910f1e4",
   "metadata": {},
   "outputs": [],
   "source": [
    "import pandas as pd\n",
    "import numpy as np\n",
    "import matplotlib.pyplot as plt\n",
    "import seaborn as sns\n",
    "from scipy.stats import spearmanr, pearsonr, chi2_contingency"
   ]
  },
  {
   "cell_type": "markdown",
   "id": "340b46ea",
   "metadata": {},
   "source": [
    "# 1. FoodPrice in Turkey"
   ]
  },
  {
   "cell_type": "code",
   "execution_count": 2,
   "id": "329f1e36",
   "metadata": {},
   "outputs": [
    {
     "data": {
      "text/html": [
       "<div>\n",
       "<style scoped>\n",
       "    .dataframe tbody tr th:only-of-type {\n",
       "        vertical-align: middle;\n",
       "    }\n",
       "\n",
       "    .dataframe tbody tr th {\n",
       "        vertical-align: top;\n",
       "    }\n",
       "\n",
       "    .dataframe thead th {\n",
       "        text-align: right;\n",
       "    }\n",
       "</style>\n",
       "<table border=\"1\" class=\"dataframe\">\n",
       "  <thead>\n",
       "    <tr style=\"text-align: right;\">\n",
       "      <th></th>\n",
       "      <th>Place</th>\n",
       "      <th>ProductId</th>\n",
       "      <th>ProductName</th>\n",
       "      <th>UmId</th>\n",
       "      <th>UmName</th>\n",
       "      <th>Month</th>\n",
       "      <th>Year</th>\n",
       "      <th>Price</th>\n",
       "    </tr>\n",
       "  </thead>\n",
       "  <tbody>\n",
       "    <tr>\n",
       "      <th>0</th>\n",
       "      <td>National Average</td>\n",
       "      <td>52</td>\n",
       "      <td>Rice - Retail</td>\n",
       "      <td>5</td>\n",
       "      <td>KG</td>\n",
       "      <td>5</td>\n",
       "      <td>2013</td>\n",
       "      <td>4.4920</td>\n",
       "    </tr>\n",
       "    <tr>\n",
       "      <th>1</th>\n",
       "      <td>National Average</td>\n",
       "      <td>52</td>\n",
       "      <td>Rice - Retail</td>\n",
       "      <td>5</td>\n",
       "      <td>KG</td>\n",
       "      <td>6</td>\n",
       "      <td>2013</td>\n",
       "      <td>4.5786</td>\n",
       "    </tr>\n",
       "    <tr>\n",
       "      <th>2</th>\n",
       "      <td>National Average</td>\n",
       "      <td>52</td>\n",
       "      <td>Rice - Retail</td>\n",
       "      <td>5</td>\n",
       "      <td>KG</td>\n",
       "      <td>11</td>\n",
       "      <td>2013</td>\n",
       "      <td>4.7865</td>\n",
       "    </tr>\n",
       "    <tr>\n",
       "      <th>3</th>\n",
       "      <td>National Average</td>\n",
       "      <td>52</td>\n",
       "      <td>Rice - Retail</td>\n",
       "      <td>5</td>\n",
       "      <td>KG</td>\n",
       "      <td>12</td>\n",
       "      <td>2013</td>\n",
       "      <td>5.1337</td>\n",
       "    </tr>\n",
       "    <tr>\n",
       "      <th>4</th>\n",
       "      <td>National Average</td>\n",
       "      <td>52</td>\n",
       "      <td>Rice - Retail</td>\n",
       "      <td>5</td>\n",
       "      <td>KG</td>\n",
       "      <td>1</td>\n",
       "      <td>2014</td>\n",
       "      <td>5.5099</td>\n",
       "    </tr>\n",
       "  </tbody>\n",
       "</table>\n",
       "</div>"
      ],
      "text/plain": [
       "              Place  ProductId    ProductName  UmId UmName  Month  Year  \\\n",
       "0  National Average         52  Rice - Retail     5     KG      5  2013   \n",
       "1  National Average         52  Rice - Retail     5     KG      6  2013   \n",
       "2  National Average         52  Rice - Retail     5     KG     11  2013   \n",
       "3  National Average         52  Rice - Retail     5     KG     12  2013   \n",
       "4  National Average         52  Rice - Retail     5     KG      1  2014   \n",
       "\n",
       "    Price  \n",
       "0  4.4920  \n",
       "1  4.5786  \n",
       "2  4.7865  \n",
       "3  5.1337  \n",
       "4  5.5099  "
      ]
     },
     "execution_count": 2,
     "metadata": {},
     "output_type": "execute_result"
    }
   ],
   "source": [
    "df = pd.read_csv('Data/FoodPrice_in_Turkey.csv')\n",
    "df.head()"
   ]
  },
  {
   "cell_type": "markdown",
   "id": "7439a5cb",
   "metadata": {},
   "source": [
    "## 1.1 Giữa giá gạo ở National Average và thời gian có mối liên hệ với nhau hay không"
   ]
  },
  {
   "cell_type": "code",
   "execution_count": 14,
   "id": "9fa65a6b",
   "metadata": {},
   "outputs": [
    {
     "name": "stderr",
     "output_type": "stream",
     "text": [
      "/tmp/ipykernel_13520/2971135424.py:2: SettingWithCopyWarning: \n",
      "A value is trying to be set on a copy of a slice from a DataFrame.\n",
      "Try using .loc[row_indexer,col_indexer] = value instead\n",
      "\n",
      "See the caveats in the documentation: https://pandas.pydata.org/pandas-docs/stable/user_guide/indexing.html#returning-a-view-versus-a-copy\n",
      "  rice_data['time'] = pd.to_datetime(rice_data['Month'].astype(str) + '/' + rice_data['Year'].astype(str))\n"
     ]
    },
    {
     "data": {
      "text/html": [
       "<div>\n",
       "<style scoped>\n",
       "    .dataframe tbody tr th:only-of-type {\n",
       "        vertical-align: middle;\n",
       "    }\n",
       "\n",
       "    .dataframe tbody tr th {\n",
       "        vertical-align: top;\n",
       "    }\n",
       "\n",
       "    .dataframe thead th {\n",
       "        text-align: right;\n",
       "    }\n",
       "</style>\n",
       "<table border=\"1\" class=\"dataframe\">\n",
       "  <thead>\n",
       "    <tr style=\"text-align: right;\">\n",
       "      <th></th>\n",
       "      <th>ProductId</th>\n",
       "      <th>UmId</th>\n",
       "      <th>Month</th>\n",
       "      <th>Year</th>\n",
       "      <th>Price</th>\n",
       "    </tr>\n",
       "  </thead>\n",
       "  <tbody>\n",
       "    <tr>\n",
       "      <th>count</th>\n",
       "      <td>66.0</td>\n",
       "      <td>66.0</td>\n",
       "      <td>66.000000</td>\n",
       "      <td>66.000000</td>\n",
       "      <td>66.000000</td>\n",
       "    </tr>\n",
       "    <tr>\n",
       "      <th>mean</th>\n",
       "      <td>52.0</td>\n",
       "      <td>5.0</td>\n",
       "      <td>6.454545</td>\n",
       "      <td>2016.257576</td>\n",
       "      <td>7.084923</td>\n",
       "    </tr>\n",
       "    <tr>\n",
       "      <th>std</th>\n",
       "      <td>0.0</td>\n",
       "      <td>0.0</td>\n",
       "      <td>3.561252</td>\n",
       "      <td>1.947864</td>\n",
       "      <td>1.417041</td>\n",
       "    </tr>\n",
       "    <tr>\n",
       "      <th>min</th>\n",
       "      <td>52.0</td>\n",
       "      <td>5.0</td>\n",
       "      <td>1.000000</td>\n",
       "      <td>2013.000000</td>\n",
       "      <td>4.492000</td>\n",
       "    </tr>\n",
       "    <tr>\n",
       "      <th>25%</th>\n",
       "      <td>52.0</td>\n",
       "      <td>5.0</td>\n",
       "      <td>3.000000</td>\n",
       "      <td>2015.000000</td>\n",
       "      <td>6.117500</td>\n",
       "    </tr>\n",
       "    <tr>\n",
       "      <th>50%</th>\n",
       "      <td>52.0</td>\n",
       "      <td>5.0</td>\n",
       "      <td>6.000000</td>\n",
       "      <td>2016.000000</td>\n",
       "      <td>6.523500</td>\n",
       "    </tr>\n",
       "    <tr>\n",
       "      <th>75%</th>\n",
       "      <td>52.0</td>\n",
       "      <td>5.0</td>\n",
       "      <td>9.750000</td>\n",
       "      <td>2018.000000</td>\n",
       "      <td>8.401025</td>\n",
       "    </tr>\n",
       "    <tr>\n",
       "      <th>max</th>\n",
       "      <td>52.0</td>\n",
       "      <td>5.0</td>\n",
       "      <td>12.000000</td>\n",
       "      <td>2019.000000</td>\n",
       "      <td>9.561600</td>\n",
       "    </tr>\n",
       "  </tbody>\n",
       "</table>\n",
       "</div>"
      ],
      "text/plain": [
       "       ProductId  UmId      Month         Year      Price\n",
       "count       66.0  66.0  66.000000    66.000000  66.000000\n",
       "mean        52.0   5.0   6.454545  2016.257576   7.084923\n",
       "std          0.0   0.0   3.561252     1.947864   1.417041\n",
       "min         52.0   5.0   1.000000  2013.000000   4.492000\n",
       "25%         52.0   5.0   3.000000  2015.000000   6.117500\n",
       "50%         52.0   5.0   6.000000  2016.000000   6.523500\n",
       "75%         52.0   5.0   9.750000  2018.000000   8.401025\n",
       "max         52.0   5.0  12.000000  2019.000000   9.561600"
      ]
     },
     "execution_count": 14,
     "metadata": {},
     "output_type": "execute_result"
    }
   ],
   "source": [
    "rice_data = df[(df.ProductName == \"Rice - Retail\") & ( df.Place == \"National Average\")]\n",
    "rice_data['time'] = pd.to_datetime(rice_data['Month'].astype(str) + '/' + rice_data['Year'].astype(str))\n",
    "rice_data.describe()"
   ]
  },
  {
   "cell_type": "code",
   "execution_count": 21,
   "id": "fde1ee76",
   "metadata": {
    "scrolled": true
   },
   "outputs": [
    {
     "data": {
      "image/png": "[encoded data removed]",
      "text/plain": [
       "<Figure size 720x360 with 1 Axes>"
      ]
     },
     "metadata": {
      "needs_background": "light"
     },
     "output_type": "display_data"
    }
   ],
   "source": [
    "plt.rcParams['figure.figsize'] = (10,5)\n",
    "plt.plot(rice_data['time'], rice_data['Price'], linewidth = 2, \n",
    "         marker = '*', markersize=2, markerfacecolor='red',\n",
    "         markeredgecolor = 'blue', markeredgewidth=2)\n",
    "plt.show()"
   ]
  },
  {
   "cell_type": "markdown",
   "id": "c93e3b0f",
   "metadata": {},
   "source": [
    "### Biến đổi thời gian lấy 1/2013 làm mốc ."
   ]
  },
  {
   "cell_type": "code",
   "execution_count": 23,
   "id": "4ee46f18",
   "metadata": {},
   "outputs": [
    {
     "name": "stderr",
     "output_type": "stream",
     "text": [
      "/tmp/ipykernel_13520/2101671821.py:2: SettingWithCopyWarning: \n",
      "A value is trying to be set on a copy of a slice from a DataFrame.\n",
      "Try using .loc[row_indexer,col_indexer] = value instead\n",
      "\n",
      "See the caveats in the documentation: https://pandas.pydata.org/pandas-docs/stable/user_guide/indexing.html#returning-a-view-versus-a-copy\n",
      "  rice_data['time_by_month'] = rice_data['Month'] + (rice_data['Year'] - 2013)*12\n"
     ]
    },
    {
     "data": {
      "image/png": "[encoded data removed]",
      "text/plain": [
       "<Figure size 720x360 with 1 Axes>"
      ]
     },
     "metadata": {
      "needs_background": "light"
     },
     "output_type": "display_data"
    }
   ],
   "source": [
    "rice_data['time_by_month'] = rice_data['Month'] + (rice_data['Year'] - 2013)*12\n",
    "plt.plot(rice_data['time_by_month'], rice_data['Price'], linewidth = 2,\n",
    "        marker = '*', markersize = 2, markerfacecolor = 'red',\n",
    "        markeredgecolor = 'blue', markeredgewidth = 2)\n",
    "plt.show()"
   ]
  },
  {
   "cell_type": "markdown",
   "id": "83fe78ab",
   "metadata": {},
   "source": [
    "### Phát biểu giả thuyết \n",
    "- H0 : thời gian và giá gạo không có quan hệ.\n",
    "- H1 : thời gian và gạo có mỗi quan hệ tương quan."
   ]
  },
  {
   "cell_type": "code",
   "execution_count": 24,
   "id": "8a15de41",
   "metadata": {
    "scrolled": true
   },
   "outputs": [
    {
     "name": "stdout",
     "output_type": "stream",
     "text": [
      "Hệ số tương quan Pearson: 0.8836736355854856\n",
      "p-value: 8.931326276852843e-23\n"
     ]
    }
   ],
   "source": [
    "r, pvalue = pearsonr(x = rice_data['time_by_month'], y = rice_data['Price'])\n",
    "print(f'Hệ số tương quan Pearson: {r}')\n",
    "print(f'p-value: {pvalue}')"
   ]
  },
  {
   "cell_type": "markdown",
   "id": "6cc73631",
   "metadata": {},
   "source": [
    "### Kết luận : p-value rất nhỏ và r = 0.88\n",
    "- Giữa thời gian và giá gạo có mối tương quan thuận rất chặt với nhau."
   ]
  },
  {
   "cell_type": "markdown",
   "id": "14240eab",
   "metadata": {},
   "source": [
    "# 2. Shopee korean shop"
   ]
  },
  {
   "cell_type": "code",
   "execution_count": 38,
   "id": "0a870da4",
   "metadata": {
    "scrolled": true
   },
   "outputs": [
    {
     "data": {
      "text/html": [
       "<div>\n",
       "<style scoped>\n",
       "    .dataframe tbody tr th:only-of-type {\n",
       "        vertical-align: middle;\n",
       "    }\n",
       "\n",
       "    .dataframe tbody tr th {\n",
       "        vertical-align: top;\n",
       "    }\n",
       "\n",
       "    .dataframe thead th {\n",
       "        text-align: right;\n",
       "    }\n",
       "</style>\n",
       "<table border=\"1\" class=\"dataframe\">\n",
       "  <thead>\n",
       "    <tr style=\"text-align: right;\">\n",
       "      <th></th>\n",
       "      <th>pk_shop</th>\n",
       "      <th>date_collected</th>\n",
       "      <th>shopid</th>\n",
       "      <th>name</th>\n",
       "      <th>join_month</th>\n",
       "      <th>join_day</th>\n",
       "      <th>join_year</th>\n",
       "      <th>item_count</th>\n",
       "      <th>follower_count</th>\n",
       "      <th>response_time</th>\n",
       "      <th>response_rate</th>\n",
       "      <th>shop_location</th>\n",
       "      <th>rating_bad</th>\n",
       "      <th>rating_good</th>\n",
       "      <th>rating_normal</th>\n",
       "      <th>rating_star</th>\n",
       "      <th>is_shopee_verified</th>\n",
       "      <th>is_official_shop</th>\n",
       "    </tr>\n",
       "  </thead>\n",
       "  <tbody>\n",
       "    <tr>\n",
       "      <th>0</th>\n",
       "      <td>20210613254711738</td>\n",
       "      <td>2021-06-13</td>\n",
       "      <td>254711738</td>\n",
       "      <td>hello.may.ph</td>\n",
       "      <td>April</td>\n",
       "      <td>27</td>\n",
       "      <td>2020</td>\n",
       "      <td>446</td>\n",
       "      <td>17487</td>\n",
       "      <td>10:13:55</td>\n",
       "      <td>96</td>\n",
       "      <td>NaN</td>\n",
       "      <td>181</td>\n",
       "      <td>17510</td>\n",
       "      <td>729</td>\n",
       "      <td>4.81</td>\n",
       "      <td>1</td>\n",
       "      <td>0</td>\n",
       "    </tr>\n",
       "    <tr>\n",
       "      <th>1</th>\n",
       "      <td>20210613314198143</td>\n",
       "      <td>2021-06-13</td>\n",
       "      <td>314198143</td>\n",
       "      <td>love.women.shop</td>\n",
       "      <td>September</td>\n",
       "      <td>25</td>\n",
       "      <td>2020</td>\n",
       "      <td>263</td>\n",
       "      <td>8574</td>\n",
       "      <td>10:43:05</td>\n",
       "      <td>73</td>\n",
       "      <td>San Nicolas,Metro Manila</td>\n",
       "      <td>78</td>\n",
       "      <td>2656</td>\n",
       "      <td>198</td>\n",
       "      <td>4.68</td>\n",
       "      <td>0</td>\n",
       "      <td>0</td>\n",
       "    </tr>\n",
       "    <tr>\n",
       "      <th>2</th>\n",
       "      <td>2021061310377223</td>\n",
       "      <td>2021-06-13</td>\n",
       "      <td>10377223</td>\n",
       "      <td>R&amp;O RedOrange</td>\n",
       "      <td>September</td>\n",
       "      <td>27</td>\n",
       "      <td>2016</td>\n",
       "      <td>209</td>\n",
       "      <td>660417</td>\n",
       "      <td>08:32:07</td>\n",
       "      <td>90</td>\n",
       "      <td>Pasay City,Metro Manila</td>\n",
       "      <td>4647</td>\n",
       "      <td>1071829</td>\n",
       "      <td>18073</td>\n",
       "      <td>4.91</td>\n",
       "      <td>1</td>\n",
       "      <td>0</td>\n",
       "    </tr>\n",
       "    <tr>\n",
       "      <th>3</th>\n",
       "      <td>2021061321407329</td>\n",
       "      <td>2021-06-13</td>\n",
       "      <td>21407329</td>\n",
       "      <td>patriciacai</td>\n",
       "      <td>April</td>\n",
       "      <td>30</td>\n",
       "      <td>2017</td>\n",
       "      <td>165</td>\n",
       "      <td>18787</td>\n",
       "      <td>09:10:38</td>\n",
       "      <td>94</td>\n",
       "      <td>Binondo,Metro Manila</td>\n",
       "      <td>44</td>\n",
       "      <td>18959</td>\n",
       "      <td>215</td>\n",
       "      <td>4.94</td>\n",
       "      <td>1</td>\n",
       "      <td>0</td>\n",
       "    </tr>\n",
       "    <tr>\n",
       "      <th>4</th>\n",
       "      <td>2021061311187885</td>\n",
       "      <td>2021-06-13</td>\n",
       "      <td>11187885</td>\n",
       "      <td>Little Market Manila</td>\n",
       "      <td>October</td>\n",
       "      <td>18</td>\n",
       "      <td>2016</td>\n",
       "      <td>467</td>\n",
       "      <td>67371</td>\n",
       "      <td>11:40:59</td>\n",
       "      <td>89</td>\n",
       "      <td>Caloocan City,Metro Manila</td>\n",
       "      <td>680</td>\n",
       "      <td>39252</td>\n",
       "      <td>2383</td>\n",
       "      <td>4.73</td>\n",
       "      <td>1</td>\n",
       "      <td>0</td>\n",
       "    </tr>\n",
       "  </tbody>\n",
       "</table>\n",
       "</div>"
      ],
      "text/plain": [
       "             pk_shop date_collected     shopid                  name  \\\n",
       "0  20210613254711738     2021-06-13  254711738          hello.may.ph   \n",
       "1  20210613314198143     2021-06-13  314198143       love.women.shop   \n",
       "2   2021061310377223     2021-06-13   10377223         R&O RedOrange   \n",
       "3   2021061321407329     2021-06-13   21407329           patriciacai   \n",
       "4   2021061311187885     2021-06-13   11187885  Little Market Manila   \n",
       "\n",
       "  join_month  join_day  join_year  item_count  follower_count response_time  \\\n",
       "0      April        27       2020         446           17487      10:13:55   \n",
       "1  September        25       2020         263            8574      10:43:05   \n",
       "2  September        27       2016         209          660417      08:32:07   \n",
       "3      April        30       2017         165           18787      09:10:38   \n",
       "4    October        18       2016         467           67371      11:40:59   \n",
       "\n",
       "   response_rate               shop_location  rating_bad  rating_good  \\\n",
       "0             96                         NaN         181        17510   \n",
       "1             73    San Nicolas,Metro Manila          78         2656   \n",
       "2             90     Pasay City,Metro Manila        4647      1071829   \n",
       "3             94        Binondo,Metro Manila          44        18959   \n",
       "4             89  Caloocan City,Metro Manila         680        39252   \n",
       "\n",
       "   rating_normal  rating_star  is_shopee_verified  is_official_shop  \n",
       "0            729         4.81                   1                 0  \n",
       "1            198         4.68                   0                 0  \n",
       "2          18073         4.91                   1                 0  \n",
       "3            215         4.94                   1                 0  \n",
       "4           2383         4.73                   1                 0  "
      ]
     },
     "execution_count": 38,
     "metadata": {},
     "output_type": "execute_result"
    }
   ],
   "source": [
    "df = pd.read_csv('Data/shopeep_koreantop_clothing_shop_data.csv')\n",
    "df.head()"
   ]
  },
  {
   "cell_type": "code",
   "execution_count": 39,
   "id": "a0cf30f8",
   "metadata": {
    "scrolled": true
   },
   "outputs": [
    {
     "data": {
      "text/html": [
       "<div>\n",
       "<style scoped>\n",
       "    .dataframe tbody tr th:only-of-type {\n",
       "        vertical-align: middle;\n",
       "    }\n",
       "\n",
       "    .dataframe tbody tr th {\n",
       "        vertical-align: top;\n",
       "    }\n",
       "\n",
       "    .dataframe thead th {\n",
       "        text-align: right;\n",
       "    }\n",
       "</style>\n",
       "<table border=\"1\" class=\"dataframe\">\n",
       "  <thead>\n",
       "    <tr style=\"text-align: right;\">\n",
       "      <th></th>\n",
       "      <th>pk_shop</th>\n",
       "      <th>shopid</th>\n",
       "      <th>join_day</th>\n",
       "      <th>join_year</th>\n",
       "      <th>item_count</th>\n",
       "      <th>follower_count</th>\n",
       "      <th>response_rate</th>\n",
       "      <th>rating_bad</th>\n",
       "      <th>rating_good</th>\n",
       "      <th>rating_normal</th>\n",
       "      <th>rating_star</th>\n",
       "      <th>is_shopee_verified</th>\n",
       "      <th>is_official_shop</th>\n",
       "    </tr>\n",
       "  </thead>\n",
       "  <tbody>\n",
       "    <tr>\n",
       "      <th>count</th>\n",
       "      <td>7.460000e+02</td>\n",
       "      <td>7.460000e+02</td>\n",
       "      <td>746.000000</td>\n",
       "      <td>746.000000</td>\n",
       "      <td>746.000000</td>\n",
       "      <td>7.460000e+02</td>\n",
       "      <td>746.000000</td>\n",
       "      <td>746.000000</td>\n",
       "      <td>7.460000e+02</td>\n",
       "      <td>746.000000</td>\n",
       "      <td>740.000000</td>\n",
       "      <td>746.000000</td>\n",
       "      <td>746.000000</td>\n",
       "    </tr>\n",
       "    <tr>\n",
       "      <th>mean</th>\n",
       "      <td>1.367361e+16</td>\n",
       "      <td>2.032431e+08</td>\n",
       "      <td>16.663539</td>\n",
       "      <td>2018.985255</td>\n",
       "      <td>482.886059</td>\n",
       "      <td>9.989943e+04</td>\n",
       "      <td>78.044236</td>\n",
       "      <td>2049.020107</td>\n",
       "      <td>9.720686e+04</td>\n",
       "      <td>4175.920912</td>\n",
       "      <td>4.740811</td>\n",
       "      <td>0.269437</td>\n",
       "      <td>0.005362</td>\n",
       "    </tr>\n",
       "    <tr>\n",
       "      <th>std</th>\n",
       "      <td>8.764287e+15</td>\n",
       "      <td>1.425216e+08</td>\n",
       "      <td>8.897669</td>\n",
       "      <td>1.528625</td>\n",
       "      <td>604.620925</td>\n",
       "      <td>2.627164e+05</td>\n",
       "      <td>22.534672</td>\n",
       "      <td>9232.920595</td>\n",
       "      <td>3.417680e+05</td>\n",
       "      <td>15174.949308</td>\n",
       "      <td>0.152888</td>\n",
       "      <td>0.443965</td>\n",
       "      <td>0.073078</td>\n",
       "    </tr>\n",
       "    <tr>\n",
       "      <th>min</th>\n",
       "      <td>2.021061e+14</td>\n",
       "      <td>1.083822e+06</td>\n",
       "      <td>1.000000</td>\n",
       "      <td>2015.000000</td>\n",
       "      <td>1.000000</td>\n",
       "      <td>6.000000e+00</td>\n",
       "      <td>1.000000</td>\n",
       "      <td>0.000000</td>\n",
       "      <td>0.000000e+00</td>\n",
       "      <td>0.000000</td>\n",
       "      <td>4.060000</td>\n",
       "      <td>0.000000</td>\n",
       "      <td>0.000000</td>\n",
       "    </tr>\n",
       "    <tr>\n",
       "      <th>25%</th>\n",
       "      <td>2.021063e+15</td>\n",
       "      <td>5.034141e+07</td>\n",
       "      <td>9.000000</td>\n",
       "      <td>2017.250000</td>\n",
       "      <td>145.500000</td>\n",
       "      <td>2.024000e+03</td>\n",
       "      <td>67.000000</td>\n",
       "      <td>15.250000</td>\n",
       "      <td>7.002500e+02</td>\n",
       "      <td>35.000000</td>\n",
       "      <td>4.640000</td>\n",
       "      <td>0.000000</td>\n",
       "      <td>0.000000</td>\n",
       "    </tr>\n",
       "    <tr>\n",
       "      <th>50%</th>\n",
       "      <td>2.021062e+16</td>\n",
       "      <td>2.054244e+08</td>\n",
       "      <td>17.000000</td>\n",
       "      <td>2019.000000</td>\n",
       "      <td>311.000000</td>\n",
       "      <td>1.690450e+04</td>\n",
       "      <td>86.000000</td>\n",
       "      <td>117.000000</td>\n",
       "      <td>7.320000e+03</td>\n",
       "      <td>351.500000</td>\n",
       "      <td>4.780000</td>\n",
       "      <td>0.000000</td>\n",
       "      <td>0.000000</td>\n",
       "    </tr>\n",
       "    <tr>\n",
       "      <th>75%</th>\n",
       "      <td>2.021063e+16</td>\n",
       "      <td>3.182721e+08</td>\n",
       "      <td>24.000000</td>\n",
       "      <td>2020.000000</td>\n",
       "      <td>526.000000</td>\n",
       "      <td>6.644100e+04</td>\n",
       "      <td>96.000000</td>\n",
       "      <td>676.250000</td>\n",
       "      <td>3.484100e+04</td>\n",
       "      <td>1605.500000</td>\n",
       "      <td>4.860000</td>\n",
       "      <td>1.000000</td>\n",
       "      <td>0.000000</td>\n",
       "    </tr>\n",
       "    <tr>\n",
       "      <th>max</th>\n",
       "      <td>2.021071e+16</td>\n",
       "      <td>4.689597e+08</td>\n",
       "      <td>31.000000</td>\n",
       "      <td>2021.000000</td>\n",
       "      <td>4739.000000</td>\n",
       "      <td>2.039888e+06</td>\n",
       "      <td>100.000000</td>\n",
       "      <td>102833.000000</td>\n",
       "      <td>3.403406e+06</td>\n",
       "      <td>153076.000000</td>\n",
       "      <td>5.000000</td>\n",
       "      <td>1.000000</td>\n",
       "      <td>1.000000</td>\n",
       "    </tr>\n",
       "  </tbody>\n",
       "</table>\n",
       "</div>"
      ],
      "text/plain": [
       "            pk_shop        shopid    join_day    join_year   item_count  \\\n",
       "count  7.460000e+02  7.460000e+02  746.000000   746.000000   746.000000   \n",
       "mean   1.367361e+16  2.032431e+08   16.663539  2018.985255   482.886059   \n",
       "std    8.764287e+15  1.425216e+08    8.897669     1.528625   604.620925   \n",
       "min    2.021061e+14  1.083822e+06    1.000000  2015.000000     1.000000   \n",
       "25%    2.021063e+15  5.034141e+07    9.000000  2017.250000   145.500000   \n",
       "50%    2.021062e+16  2.054244e+08   17.000000  2019.000000   311.000000   \n",
       "75%    2.021063e+16  3.182721e+08   24.000000  2020.000000   526.000000   \n",
       "max    2.021071e+16  4.689597e+08   31.000000  2021.000000  4739.000000   \n",
       "\n",
       "       follower_count  response_rate     rating_bad   rating_good  \\\n",
       "count    7.460000e+02     746.000000     746.000000  7.460000e+02   \n",
       "mean     9.989943e+04      78.044236    2049.020107  9.720686e+04   \n",
       "std      2.627164e+05      22.534672    9232.920595  3.417680e+05   \n",
       "min      6.000000e+00       1.000000       0.000000  0.000000e+00   \n",
       "25%      2.024000e+03      67.000000      15.250000  7.002500e+02   \n",
       "50%      1.690450e+04      86.000000     117.000000  7.320000e+03   \n",
       "75%      6.644100e+04      96.000000     676.250000  3.484100e+04   \n",
       "max      2.039888e+06     100.000000  102833.000000  3.403406e+06   \n",
       "\n",
       "       rating_normal  rating_star  is_shopee_verified  is_official_shop  \n",
       "count     746.000000   740.000000          746.000000        746.000000  \n",
       "mean     4175.920912     4.740811            0.269437          0.005362  \n",
       "std     15174.949308     0.152888            0.443965          0.073078  \n",
       "min         0.000000     4.060000            0.000000          0.000000  \n",
       "25%        35.000000     4.640000            0.000000          0.000000  \n",
       "50%       351.500000     4.780000            0.000000          0.000000  \n",
       "75%      1605.500000     4.860000            1.000000          0.000000  \n",
       "max    153076.000000     5.000000            1.000000          1.000000  "
      ]
     },
     "execution_count": 39,
     "metadata": {},
     "output_type": "execute_result"
    }
   ],
   "source": [
    "df.describe()"
   ]
  },
  {
   "cell_type": "markdown",
   "id": "a65973d6",
   "metadata": {},
   "source": [
    "## 2.1 Giữa rating_star và follower_count có tương quan với nhau hay không"
   ]
  },
  {
   "cell_type": "code",
   "execution_count": 40,
   "id": "83482fe6",
   "metadata": {},
   "outputs": [],
   "source": [
    "# Xóa các dòng chứa giá trị nan\n",
    "df1 = df.dropna(subset=['rating_star','follower_count'])"
   ]
  },
  {
   "cell_type": "code",
   "execution_count": 41,
   "id": "e859dc75",
   "metadata": {},
   "outputs": [
    {
     "data": {
      "image/png": "[encoded data removed]",
      "text/plain": [
       "<Figure size 720x360 with 1 Axes>"
      ]
     },
     "metadata": {
      "needs_background": "light"
     },
     "output_type": "display_data"
    }
   ],
   "source": [
    "sns.scatterplot(x = 'rating_star', y = 'follower_count', data = df1)\n",
    "plt.title('Scatter mối quan hệ giữa rating star và follower count', fontsize = 16)\n",
    "plt.show()"
   ]
  },
  {
   "cell_type": "markdown",
   "id": "66b150af",
   "metadata": {},
   "source": [
    "- Qua scatter ta có thể  nhận thấy : đa số  khi `rating star` càng cao thì `follower count` không thay đổi quá nhiều."
   ]
  },
  {
   "cell_type": "markdown",
   "id": "557b2162",
   "metadata": {},
   "source": [
    "### Phát biểu giả thuyết :\n",
    "- H0 : rating star và follower count không có mối quan hệ\n",
    "- H1 : rating star và follower count có mối quan hệ"
   ]
  },
  {
   "cell_type": "code",
   "execution_count": 42,
   "id": "c9c91e19",
   "metadata": {
    "scrolled": false
   },
   "outputs": [
    {
     "name": "stdout",
     "output_type": "stream",
     "text": [
      "Hệ số tương quan Pearson: 0.02749005984630104\n",
      "p-value: 0.4552522676325689\n"
     ]
    }
   ],
   "source": [
    "r , pvalue = pearsonr(x = df1['rating_star'], y = df1['follower_count'])\n",
    "print(f'Hệ số tương quan Pearson: {r}')\n",
    "print(f'p-value: {pvalue}')"
   ]
  },
  {
   "cell_type": "markdown",
   "id": "9f606e0c",
   "metadata": {},
   "source": [
    "### Kết luận : pvalue >> 0.05 , r nhỏ\n",
    "- Chưa đủ cơ sở bác bỏ H0\n",
    "- Vậy giữa rating star và follower count không có mối quan hệ tuyến tính với nhau."
   ]
  },
  {
   "cell_type": "markdown",
   "id": "e6aadad4",
   "metadata": {},
   "source": [
    "## 2.2 Giữa rating_star và số lượng sản phẩm (item_count) có tương quan với nhau hay không"
   ]
  },
  {
   "cell_type": "code",
   "execution_count": 43,
   "id": "544d25aa",
   "metadata": {},
   "outputs": [],
   "source": [
    "# Xóa các dòng chứa giá trị nan\n",
    "df2 = df.dropna(subset=['rating_star','item_count'])"
   ]
  },
  {
   "cell_type": "code",
   "execution_count": 44,
   "id": "fec38116",
   "metadata": {
    "scrolled": true
   },
   "outputs": [
    {
     "data": {
      "image/png": "[encoded data removed]",
      "text/plain": [
       "<Figure size 720x360 with 1 Axes>"
      ]
     },
     "metadata": {
      "needs_background": "light"
     },
     "output_type": "display_data"
    }
   ],
   "source": [
    "sns.scatterplot(x = 'rating_star', y = 'item_count', data = df2)\n",
    "plt.title('Scatter mối quan hệ giữa rating star và item count', fontsize = 16)\n",
    "plt.show()"
   ]
  },
  {
   "cell_type": "code",
   "execution_count": 45,
   "id": "28fd6f88",
   "metadata": {},
   "outputs": [
    {
     "name": "stdout",
     "output_type": "stream",
     "text": [
      "Hệ số tương quan Pearson: -0.03732626070920735\n",
      "p-value: 0.3105727616062792\n"
     ]
    }
   ],
   "source": [
    "r , pvalue = pearsonr(x = df2['rating_star'], y = df2['item_count'])\n",
    "print(f'Hệ số tương quan Pearson: {r}')\n",
    "print(f'p-value: {pvalue}')"
   ]
  },
  {
   "cell_type": "markdown",
   "id": "08e76522",
   "metadata": {},
   "source": [
    "### Kết luận : pvalue >> 0.05 , r nhỏ\n",
    "- Chưa đủ cơ sở bác bỏ H0\n",
    "- Vậy giữa rating star và item count không có mối quan hệ tuyến tính với nhau."
   ]
  },
  {
   "cell_type": "markdown",
   "id": "1da8fdb5",
   "metadata": {},
   "source": [
    "## 2.3 Giữa is_shopee_verified và việc có cửa hàng trưng bày (is_official_shop) có tương quan với nhau hay không"
   ]
  },
  {
   "cell_type": "code",
   "execution_count": 46,
   "id": "4474e6eb",
   "metadata": {},
   "outputs": [],
   "source": [
    "# Xóa các dòng chứa giá trị nan\n",
    "df3 = df.dropna(subset=['is_shopee_verified','is_official_shop'])"
   ]
  },
  {
   "cell_type": "code",
   "execution_count": 47,
   "id": "11a300f5",
   "metadata": {
    "scrolled": true
   },
   "outputs": [
    {
     "data": {
      "image/png": "[encoded data removed]",
      "text/plain": [
       "<Figure size 720x360 with 1 Axes>"
      ]
     },
     "metadata": {
      "needs_background": "light"
     },
     "output_type": "display_data"
    }
   ],
   "source": [
    "sns.scatterplot(x = 'is_shopee_verified', y = 'is_official_shop', data = df3)\n",
    "plt.title('Scatter mối quan hệ giữa shopee_verified và official_shop', fontsize = 16)\n",
    "plt.show()"
   ]
  },
  {
   "cell_type": "markdown",
   "id": "3f8c3609",
   "metadata": {},
   "source": [
    "### Sử dụng Chi - Square"
   ]
  },
  {
   "cell_type": "code",
   "execution_count": 53,
   "id": "9e5171be",
   "metadata": {
    "scrolled": false
   },
   "outputs": [
    {
     "data": {
      "text/html": [
       "<div>\n",
       "<style scoped>\n",
       "    .dataframe tbody tr th:only-of-type {\n",
       "        vertical-align: middle;\n",
       "    }\n",
       "\n",
       "    .dataframe tbody tr th {\n",
       "        vertical-align: top;\n",
       "    }\n",
       "\n",
       "    .dataframe thead th {\n",
       "        text-align: right;\n",
       "    }\n",
       "</style>\n",
       "<table border=\"1\" class=\"dataframe\">\n",
       "  <thead>\n",
       "    <tr style=\"text-align: right;\">\n",
       "      <th>is_shopee_verified</th>\n",
       "      <th>0</th>\n",
       "      <th>1</th>\n",
       "    </tr>\n",
       "    <tr>\n",
       "      <th>is_official_shop</th>\n",
       "      <th></th>\n",
       "      <th></th>\n",
       "    </tr>\n",
       "  </thead>\n",
       "  <tbody>\n",
       "    <tr>\n",
       "      <th>0</th>\n",
       "      <td>541</td>\n",
       "      <td>201</td>\n",
       "    </tr>\n",
       "    <tr>\n",
       "      <th>1</th>\n",
       "      <td>4</td>\n",
       "      <td>0</td>\n",
       "    </tr>\n",
       "  </tbody>\n",
       "</table>\n",
       "</div>"
      ],
      "text/plain": [
       "is_shopee_verified    0    1\n",
       "is_official_shop            \n",
       "0                   541  201\n",
       "1                     4    0"
      ]
     },
     "execution_count": 53,
     "metadata": {},
     "output_type": "execute_result"
    }
   ],
   "source": [
    "crosstable = pd.crosstab(index = df3['is_official_shop'], columns= df3['is_shopee_verified'])\n",
    "crosstable"
   ]
  },
  {
   "cell_type": "markdown",
   "id": "2d8801a7",
   "metadata": {},
   "source": [
    "- Vì giá trị tổi thiểu phải là 5 nên không thể sử dụng ChiSquare "
   ]
  },
  {
   "cell_type": "markdown",
   "id": "b700db7d",
   "metadata": {},
   "source": [
    "### Sử dụng Pearson"
   ]
  },
  {
   "cell_type": "code",
   "execution_count": 55,
   "id": "eac4fd0a",
   "metadata": {
    "scrolled": true
   },
   "outputs": [
    {
     "name": "stdout",
     "output_type": "stream",
     "text": [
      "Hệ số tương quan Pearson: -0.044589009043606104\n",
      "p-value: 0.22382403995765798\n"
     ]
    }
   ],
   "source": [
    "r , pvalue = pearsonr(x = df3['is_shopee_verified'], y = df3['is_official_shop'])\n",
    "print(f'Hệ số tương quan Pearson: {r}')\n",
    "print(f'p-value: {pvalue}')"
   ]
  },
  {
   "cell_type": "markdown",
   "id": "47c5e29b",
   "metadata": {},
   "source": [
    "### Kết luận : pvalue >> 0.05 , r nhỏ\n",
    "- Chưa đủ cơ sở bác bỏ H0\n",
    "- Vậy giữa is_shopee_verified và is_official_shop không có mối quan hệ tuyến tính với nhau."
   ]
  },
  {
   "cell_type": "markdown",
   "id": "5b2c9904",
   "metadata": {},
   "source": [
    "# 3. Subset covid data"
   ]
  },
  {
   "cell_type": "code",
   "execution_count": 57,
   "id": "674855b8",
   "metadata": {},
   "outputs": [
    {
     "data": {
      "text/html": [
       "<div>\n",
       "<style scoped>\n",
       "    .dataframe tbody tr th:only-of-type {\n",
       "        vertical-align: middle;\n",
       "    }\n",
       "\n",
       "    .dataframe tbody tr th {\n",
       "        vertical-align: top;\n",
       "    }\n",
       "\n",
       "    .dataframe thead th {\n",
       "        text-align: right;\n",
       "    }\n",
       "</style>\n",
       "<table border=\"1\" class=\"dataframe\">\n",
       "  <thead>\n",
       "    <tr style=\"text-align: right;\">\n",
       "      <th></th>\n",
       "      <th>country</th>\n",
       "      <th>continent</th>\n",
       "      <th>date</th>\n",
       "      <th>day</th>\n",
       "      <th>month</th>\n",
       "      <th>year</th>\n",
       "      <th>cases</th>\n",
       "      <th>deaths</th>\n",
       "      <th>country_code</th>\n",
       "      <th>population</th>\n",
       "    </tr>\n",
       "  </thead>\n",
       "  <tbody>\n",
       "    <tr>\n",
       "      <th>0</th>\n",
       "      <td>Afghanistan</td>\n",
       "      <td>Asia</td>\n",
       "      <td>2020-04-12</td>\n",
       "      <td>12</td>\n",
       "      <td>4</td>\n",
       "      <td>2020</td>\n",
       "      <td>34</td>\n",
       "      <td>3</td>\n",
       "      <td>AFG</td>\n",
       "      <td>37172386.0</td>\n",
       "    </tr>\n",
       "    <tr>\n",
       "      <th>1</th>\n",
       "      <td>Albania</td>\n",
       "      <td>Europe</td>\n",
       "      <td>2020-04-12</td>\n",
       "      <td>12</td>\n",
       "      <td>4</td>\n",
       "      <td>2020</td>\n",
       "      <td>17</td>\n",
       "      <td>0</td>\n",
       "      <td>ALB</td>\n",
       "      <td>2866376.0</td>\n",
       "    </tr>\n",
       "    <tr>\n",
       "      <th>2</th>\n",
       "      <td>Algeria</td>\n",
       "      <td>Africa</td>\n",
       "      <td>2020-04-12</td>\n",
       "      <td>12</td>\n",
       "      <td>4</td>\n",
       "      <td>2020</td>\n",
       "      <td>64</td>\n",
       "      <td>19</td>\n",
       "      <td>DZA</td>\n",
       "      <td>42228429.0</td>\n",
       "    </tr>\n",
       "    <tr>\n",
       "      <th>3</th>\n",
       "      <td>Andorra</td>\n",
       "      <td>Europe</td>\n",
       "      <td>2020-04-12</td>\n",
       "      <td>12</td>\n",
       "      <td>4</td>\n",
       "      <td>2020</td>\n",
       "      <td>21</td>\n",
       "      <td>2</td>\n",
       "      <td>AND</td>\n",
       "      <td>77006.0</td>\n",
       "    </tr>\n",
       "    <tr>\n",
       "      <th>4</th>\n",
       "      <td>Angola</td>\n",
       "      <td>Africa</td>\n",
       "      <td>2020-04-12</td>\n",
       "      <td>12</td>\n",
       "      <td>4</td>\n",
       "      <td>2020</td>\n",
       "      <td>0</td>\n",
       "      <td>0</td>\n",
       "      <td>AGO</td>\n",
       "      <td>30809762.0</td>\n",
       "    </tr>\n",
       "  </tbody>\n",
       "</table>\n",
       "</div>"
      ],
      "text/plain": [
       "       country continent        date  day  month  year  cases  deaths  \\\n",
       "0  Afghanistan      Asia  2020-04-12   12      4  2020     34       3   \n",
       "1      Albania    Europe  2020-04-12   12      4  2020     17       0   \n",
       "2      Algeria    Africa  2020-04-12   12      4  2020     64      19   \n",
       "3      Andorra    Europe  2020-04-12   12      4  2020     21       2   \n",
       "4       Angola    Africa  2020-04-12   12      4  2020      0       0   \n",
       "\n",
       "  country_code  population  \n",
       "0          AFG  37172386.0  \n",
       "1          ALB   2866376.0  \n",
       "2          DZA  42228429.0  \n",
       "3          AND     77006.0  \n",
       "4          AGO  30809762.0  "
      ]
     },
     "execution_count": 57,
     "metadata": {},
     "output_type": "execute_result"
    }
   ],
   "source": [
    "df = pd.read_csv('Data/subset-covid-data.csv')\n",
    "df.head()"
   ]
  },
  {
   "cell_type": "code",
   "execution_count": 58,
   "id": "d31e1ca1",
   "metadata": {},
   "outputs": [
    {
     "data": {
      "text/html": [
       "<div>\n",
       "<style scoped>\n",
       "    .dataframe tbody tr th:only-of-type {\n",
       "        vertical-align: middle;\n",
       "    }\n",
       "\n",
       "    .dataframe tbody tr th {\n",
       "        vertical-align: top;\n",
       "    }\n",
       "\n",
       "    .dataframe thead th {\n",
       "        text-align: right;\n",
       "    }\n",
       "</style>\n",
       "<table border=\"1\" class=\"dataframe\">\n",
       "  <thead>\n",
       "    <tr style=\"text-align: right;\">\n",
       "      <th></th>\n",
       "      <th>day</th>\n",
       "      <th>month</th>\n",
       "      <th>year</th>\n",
       "      <th>cases</th>\n",
       "      <th>deaths</th>\n",
       "      <th>population</th>\n",
       "    </tr>\n",
       "  </thead>\n",
       "  <tbody>\n",
       "    <tr>\n",
       "      <th>count</th>\n",
       "      <td>206.000000</td>\n",
       "      <td>206.000000</td>\n",
       "      <td>206.0</td>\n",
       "      <td>206.000000</td>\n",
       "      <td>206.000000</td>\n",
       "      <td>2.020000e+02</td>\n",
       "    </tr>\n",
       "    <tr>\n",
       "      <th>mean</th>\n",
       "      <td>12.024272</td>\n",
       "      <td>3.985437</td>\n",
       "      <td>2020.0</td>\n",
       "      <td>395.247573</td>\n",
       "      <td>29.713592</td>\n",
       "      <td>3.731716e+07</td>\n",
       "    </tr>\n",
       "    <tr>\n",
       "      <th>std</th>\n",
       "      <td>0.424141</td>\n",
       "      <td>0.209020</td>\n",
       "      <td>0.0</td>\n",
       "      <td>2160.176439</td>\n",
       "      <td>159.533131</td>\n",
       "      <td>1.413776e+08</td>\n",
       "    </tr>\n",
       "    <tr>\n",
       "      <th>min</th>\n",
       "      <td>11.000000</td>\n",
       "      <td>1.000000</td>\n",
       "      <td>2020.0</td>\n",
       "      <td>0.000000</td>\n",
       "      <td>0.000000</td>\n",
       "      <td>1.000000e+03</td>\n",
       "    </tr>\n",
       "    <tr>\n",
       "      <th>25%</th>\n",
       "      <td>12.000000</td>\n",
       "      <td>4.000000</td>\n",
       "      <td>2020.0</td>\n",
       "      <td>0.000000</td>\n",
       "      <td>0.000000</td>\n",
       "      <td>1.278222e+06</td>\n",
       "    </tr>\n",
       "    <tr>\n",
       "      <th>50%</th>\n",
       "      <td>12.000000</td>\n",
       "      <td>4.000000</td>\n",
       "      <td>2020.0</td>\n",
       "      <td>11.500000</td>\n",
       "      <td>0.000000</td>\n",
       "      <td>7.042862e+06</td>\n",
       "    </tr>\n",
       "    <tr>\n",
       "      <th>75%</th>\n",
       "      <td>12.000000</td>\n",
       "      <td>4.000000</td>\n",
       "      <td>2020.0</td>\n",
       "      <td>88.750000</td>\n",
       "      <td>3.000000</td>\n",
       "      <td>2.600084e+07</td>\n",
       "    </tr>\n",
       "    <tr>\n",
       "      <th>max</th>\n",
       "      <td>18.000000</td>\n",
       "      <td>4.000000</td>\n",
       "      <td>2020.0</td>\n",
       "      <td>28391.000000</td>\n",
       "      <td>1831.000000</td>\n",
       "      <td>1.392730e+09</td>\n",
       "    </tr>\n",
       "  </tbody>\n",
       "</table>\n",
       "</div>"
      ],
      "text/plain": [
       "              day       month    year         cases       deaths    population\n",
       "count  206.000000  206.000000   206.0    206.000000   206.000000  2.020000e+02\n",
       "mean    12.024272    3.985437  2020.0    395.247573    29.713592  3.731716e+07\n",
       "std      0.424141    0.209020     0.0   2160.176439   159.533131  1.413776e+08\n",
       "min     11.000000    1.000000  2020.0      0.000000     0.000000  1.000000e+03\n",
       "25%     12.000000    4.000000  2020.0      0.000000     0.000000  1.278222e+06\n",
       "50%     12.000000    4.000000  2020.0     11.500000     0.000000  7.042862e+06\n",
       "75%     12.000000    4.000000  2020.0     88.750000     3.000000  2.600084e+07\n",
       "max     18.000000    4.000000  2020.0  28391.000000  1831.000000  1.392730e+09"
      ]
     },
     "execution_count": 58,
     "metadata": {},
     "output_type": "execute_result"
    }
   ],
   "source": [
    "df.describe()"
   ]
  },
  {
   "cell_type": "markdown",
   "id": "f0a3a5e9",
   "metadata": {},
   "source": [
    "## 3.1 Có mối tương quan nào giữa dân số và số ca nhiễm bệnh hay không"
   ]
  },
  {
   "cell_type": "code",
   "execution_count": 63,
   "id": "4498d2cd",
   "metadata": {},
   "outputs": [],
   "source": [
    "df1 = df.dropna(subset = ['cases','population'])"
   ]
  },
  {
   "cell_type": "code",
   "execution_count": 66,
   "id": "3418bfeb",
   "metadata": {
    "scrolled": true
   },
   "outputs": [
    {
     "data": {
      "image/png": "[encoded data removed]",
      "text/plain": [
       "<Figure size 720x360 with 1 Axes>"
      ]
     },
     "metadata": {
      "needs_background": "light"
     },
     "output_type": "display_data"
    }
   ],
   "source": [
    "sns.scatterplot(x = 'cases', y = 'population', data = df1)\n",
    "plt.title('Scatter thể hiện mqh giữa cases và population',fontsize = 16)\n",
    "plt.show()"
   ]
  },
  {
   "cell_type": "code",
   "execution_count": 67,
   "id": "09369458",
   "metadata": {
    "scrolled": true
   },
   "outputs": [
    {
     "name": "stdout",
     "output_type": "stream",
     "text": [
      "Hệ số tương quan Pearson: 0.1755392659429401\n",
      "pvalue: 0.01246031070420873\n"
     ]
    }
   ],
   "source": [
    "r, pvalue = pearsonr(x = df1['cases'], y = df1['population'])\n",
    "print(f'Hệ số tương quan Pearson: {r}')\n",
    "print(f'pvalue: {pvalue}')"
   ]
  },
  {
   "cell_type": "markdown",
   "id": "7d04d6db",
   "metadata": {},
   "source": [
    "### Kết luận : pvalue < 0.05\n",
    "- Bác bỏ H0\n",
    "- Vậy với độ tin cậy 95% thì giữa cases và population có mối tương quan tuyến tính yếu."
   ]
  },
  {
   "cell_type": "markdown",
   "id": "41c1f054",
   "metadata": {},
   "source": [
    "## 3.2 Có mối tương quan nào giữa số ca mắc (cases) và số ca tử vong (deaths) hay không"
   ]
  },
  {
   "cell_type": "code",
   "execution_count": 68,
   "id": "67f225c5",
   "metadata": {},
   "outputs": [],
   "source": [
    "df2 = df.dropna(subset = ['cases','deaths'])"
   ]
  },
  {
   "cell_type": "code",
   "execution_count": 69,
   "id": "ee7dba6e",
   "metadata": {
    "scrolled": true
   },
   "outputs": [
    {
     "data": {
      "image/png": "[encoded data removed]",
      "text/plain": [
       "<Figure size 720x360 with 1 Axes>"
      ]
     },
     "metadata": {
      "needs_background": "light"
     },
     "output_type": "display_data"
    }
   ],
   "source": [
    "sns.scatterplot(x = 'cases', y = 'deaths', data = df2)\n",
    "plt.title('Scatter thể hiện mqh giữa cases và population',fontsize = 16)\n",
    "plt.show()"
   ]
  },
  {
   "cell_type": "code",
   "execution_count": 70,
   "id": "097a607a",
   "metadata": {
    "scrolled": true
   },
   "outputs": [
    {
     "name": "stdout",
     "output_type": "stream",
     "text": [
      "Hệ số tương quan Pearson: 0.9432201374746727\n",
      "pvalue: 1.3451948745846463e-99\n"
     ]
    }
   ],
   "source": [
    "r, pvalue = pearsonr(x = df2['cases'], y = df2['deaths'])\n",
    "print(f'Hệ số tương quan Pearson: {r}')\n",
    "print(f'pvalue: {pvalue}')"
   ]
  },
  {
   "cell_type": "markdown",
   "id": "37a37b41",
   "metadata": {},
   "source": [
    "### Kết luận : pvalue rất nhỏ, r lớn\n",
    "- Bác bỏ H0\n",
    "- Vậy với độ tin cậy 95% thì giữa deaths và cases có sự tương quan thuận rất chặt với nhau"
   ]
  },
  {
   "cell_type": "markdown",
   "id": "535b0c6b",
   "metadata": {},
   "source": [
    "## 3.3 Biến đổi lại thuộc tính population về dạng thứ bậc thực hiện kiểm định tương quan giữa biến này với số ca nhiễm\n"
   ]
  },
  {
   "cell_type": "code",
   "execution_count": 71,
   "id": "8d7aa435",
   "metadata": {},
   "outputs": [],
   "source": [
    "q1, q2, q3  = df1.population.quantile(0.25), df1.population.quantile(0.5), df1.population.quantile(0.75)\n",
    "# tiến hành biến đổi population\n",
    "def population_order(population):\n",
    "    if population < q1:\n",
    "        return 1\n",
    "    elif population>=q1 and population <q2:\n",
    "        return 2\n",
    "    elif population>=q2 and population <q3:\n",
    "        return 3\n",
    "    else: \n",
    "        return 4"
   ]
  },
  {
   "cell_type": "code",
   "execution_count": 74,
   "id": "6ed02ab0",
   "metadata": {},
   "outputs": [
    {
     "name": "stderr",
     "output_type": "stream",
     "text": [
      "/tmp/ipykernel_13520/3451768463.py:1: SettingWithCopyWarning: \n",
      "A value is trying to be set on a copy of a slice from a DataFrame.\n",
      "Try using .loc[row_indexer,col_indexer] = value instead\n",
      "\n",
      "See the caveats in the documentation: https://pandas.pydata.org/pandas-docs/stable/user_guide/indexing.html#returning-a-view-versus-a-copy\n",
      "  df1['population_ordinal'] = df1.population.apply(population_order)\n"
     ]
    },
    {
     "data": {
      "text/html": [
       "<div>\n",
       "<style scoped>\n",
       "    .dataframe tbody tr th:only-of-type {\n",
       "        vertical-align: middle;\n",
       "    }\n",
       "\n",
       "    .dataframe tbody tr th {\n",
       "        vertical-align: top;\n",
       "    }\n",
       "\n",
       "    .dataframe thead th {\n",
       "        text-align: right;\n",
       "    }\n",
       "</style>\n",
       "<table border=\"1\" class=\"dataframe\">\n",
       "  <thead>\n",
       "    <tr style=\"text-align: right;\">\n",
       "      <th></th>\n",
       "      <th>country</th>\n",
       "      <th>continent</th>\n",
       "      <th>date</th>\n",
       "      <th>day</th>\n",
       "      <th>month</th>\n",
       "      <th>year</th>\n",
       "      <th>cases</th>\n",
       "      <th>deaths</th>\n",
       "      <th>country_code</th>\n",
       "      <th>population</th>\n",
       "      <th>population_ordinal</th>\n",
       "    </tr>\n",
       "  </thead>\n",
       "  <tbody>\n",
       "    <tr>\n",
       "      <th>0</th>\n",
       "      <td>Afghanistan</td>\n",
       "      <td>Asia</td>\n",
       "      <td>2020-04-12</td>\n",
       "      <td>12</td>\n",
       "      <td>4</td>\n",
       "      <td>2020</td>\n",
       "      <td>34</td>\n",
       "      <td>3</td>\n",
       "      <td>AFG</td>\n",
       "      <td>37172386.0</td>\n",
       "      <td>4</td>\n",
       "    </tr>\n",
       "    <tr>\n",
       "      <th>1</th>\n",
       "      <td>Albania</td>\n",
       "      <td>Europe</td>\n",
       "      <td>2020-04-12</td>\n",
       "      <td>12</td>\n",
       "      <td>4</td>\n",
       "      <td>2020</td>\n",
       "      <td>17</td>\n",
       "      <td>0</td>\n",
       "      <td>ALB</td>\n",
       "      <td>2866376.0</td>\n",
       "      <td>2</td>\n",
       "    </tr>\n",
       "    <tr>\n",
       "      <th>2</th>\n",
       "      <td>Algeria</td>\n",
       "      <td>Africa</td>\n",
       "      <td>2020-04-12</td>\n",
       "      <td>12</td>\n",
       "      <td>4</td>\n",
       "      <td>2020</td>\n",
       "      <td>64</td>\n",
       "      <td>19</td>\n",
       "      <td>DZA</td>\n",
       "      <td>42228429.0</td>\n",
       "      <td>4</td>\n",
       "    </tr>\n",
       "    <tr>\n",
       "      <th>3</th>\n",
       "      <td>Andorra</td>\n",
       "      <td>Europe</td>\n",
       "      <td>2020-04-12</td>\n",
       "      <td>12</td>\n",
       "      <td>4</td>\n",
       "      <td>2020</td>\n",
       "      <td>21</td>\n",
       "      <td>2</td>\n",
       "      <td>AND</td>\n",
       "      <td>77006.0</td>\n",
       "      <td>1</td>\n",
       "    </tr>\n",
       "    <tr>\n",
       "      <th>4</th>\n",
       "      <td>Angola</td>\n",
       "      <td>Africa</td>\n",
       "      <td>2020-04-12</td>\n",
       "      <td>12</td>\n",
       "      <td>4</td>\n",
       "      <td>2020</td>\n",
       "      <td>0</td>\n",
       "      <td>0</td>\n",
       "      <td>AGO</td>\n",
       "      <td>30809762.0</td>\n",
       "      <td>4</td>\n",
       "    </tr>\n",
       "  </tbody>\n",
       "</table>\n",
       "</div>"
      ],
      "text/plain": [
       "       country continent        date  day  month  year  cases  deaths  \\\n",
       "0  Afghanistan      Asia  2020-04-12   12      4  2020     34       3   \n",
       "1      Albania    Europe  2020-04-12   12      4  2020     17       0   \n",
       "2      Algeria    Africa  2020-04-12   12      4  2020     64      19   \n",
       "3      Andorra    Europe  2020-04-12   12      4  2020     21       2   \n",
       "4       Angola    Africa  2020-04-12   12      4  2020      0       0   \n",
       "\n",
       "  country_code  population  population_ordinal  \n",
       "0          AFG  37172386.0                   4  \n",
       "1          ALB   2866376.0                   2  \n",
       "2          DZA  42228429.0                   4  \n",
       "3          AND     77006.0                   1  \n",
       "4          AGO  30809762.0                   4  "
      ]
     },
     "execution_count": 74,
     "metadata": {},
     "output_type": "execute_result"
    }
   ],
   "source": [
    "df1['population_ordinal'] = df1.population.apply(population_order)\n",
    "df1.head()"
   ]
  },
  {
   "cell_type": "code",
   "execution_count": 75,
   "id": "01ea688e",
   "metadata": {
    "scrolled": true
   },
   "outputs": [
    {
     "name": "stdout",
     "output_type": "stream",
     "text": [
      "Hệ số tương quan hạng spearman: 0.49498466493711596\n",
      "pvalue: 6.982786622314858e-14\n"
     ]
    }
   ],
   "source": [
    "corr, pvalue = spearmanr(df1['cases'], df1['population_ordinal'])\n",
    "print(f'Hệ số tương quan hạng spearman: {corr}')\n",
    "print(f'pvalue: {pvalue}')"
   ]
  },
  {
   "cell_type": "markdown",
   "id": "6f34e0f2",
   "metadata": {},
   "source": [
    "### Kết luận: pvalue rất nhỏ, correlation ~ 0.5\n",
    "- Bác bỏ H0\n",
    "- Với độ tin cậy 95% thì cases và population_oridinal có tương quan tuyến tính trung bình\n",
    "- Nhờ vào việc biến đổi dữ liệu ta có thể làm nổi bật thông tin tương quan và nhận ra nhưng quan hệ tiềm ẩn"
   ]
  }
 ],
 "metadata": {
  "kernelspec": {
   "display_name": "Python 3 (ipykernel)",
   "language": "python",
   "name": "python3"
  },
  "language_info": {
   "codemirror_mode": {
    "name": "ipython",
    "version": 3
   },
   "file_extension": ".py",
   "mimetype": "text/x-python",
   "name": "python",
   "nbconvert_exporter": "python",
   "pygments_lexer": "ipython3",
   "version": "3.10.4"
  }
 },
 "nbformat": 4,
 "nbformat_minor": 5
}

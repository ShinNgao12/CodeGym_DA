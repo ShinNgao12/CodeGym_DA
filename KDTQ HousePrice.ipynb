{
 "cells": [
  {
   "cell_type": "code",
   "execution_count": 20,
   "id": "b99369e7",
   "metadata": {},
   "outputs": [],
   "source": [
    "import pandas as pd\n",
    "import numpy as np\n",
    "import matplotlib.pyplot as plt\n",
    "import seaborn as sns\n",
    "from scipy.stats import pearsonr, chi2_contingency, spearmanr\n",
    "import struct\n",
    "from codecs import decode"
   ]
  },
  {
   "cell_type": "code",
   "execution_count": 2,
   "id": "877e82c3",
   "metadata": {},
   "outputs": [
    {
     "data": {
      "text/html": [
       "<div>\n",
       "<style scoped>\n",
       "    .dataframe tbody tr th:only-of-type {\n",
       "        vertical-align: middle;\n",
       "    }\n",
       "\n",
       "    .dataframe tbody tr th {\n",
       "        vertical-align: top;\n",
       "    }\n",
       "\n",
       "    .dataframe thead th {\n",
       "        text-align: right;\n",
       "    }\n",
       "</style>\n",
       "<table border=\"1\" class=\"dataframe\">\n",
       "  <thead>\n",
       "    <tr style=\"text-align: right;\">\n",
       "      <th></th>\n",
       "      <th>area</th>\n",
       "      <th>price</th>\n",
       "      <th>postDate</th>\n",
       "      <th>land_certificate</th>\n",
       "      <th>house_direction</th>\n",
       "      <th>balcony_direction</th>\n",
       "      <th>toilet</th>\n",
       "      <th>bedroom</th>\n",
       "      <th>floor</th>\n",
       "      <th>lat</th>\n",
       "      <th>long</th>\n",
       "      <th>property_type</th>\n",
       "    </tr>\n",
       "  </thead>\n",
       "  <tbody>\n",
       "    <tr>\n",
       "      <th>0</th>\n",
       "      <td>50.0</td>\n",
       "      <td>14700.0</td>\n",
       "      <td>44197</td>\n",
       "      <td>So do</td>\n",
       "      <td>NaN</td>\n",
       "      <td>NaN</td>\n",
       "      <td>4.0</td>\n",
       "      <td>6.0</td>\n",
       "      <td>6.0</td>\n",
       "      <td>21.015698</td>\n",
       "      <td>105.824583</td>\n",
       "      <td>trong ngo</td>\n",
       "    </tr>\n",
       "    <tr>\n",
       "      <th>1</th>\n",
       "      <td>57.0</td>\n",
       "      <td>4200.0</td>\n",
       "      <td>44265</td>\n",
       "      <td>So do</td>\n",
       "      <td>Nam</td>\n",
       "      <td>Nam</td>\n",
       "      <td>3.0</td>\n",
       "      <td>8.0</td>\n",
       "      <td>4.0</td>\n",
       "      <td>21.025208</td>\n",
       "      <td>105.833111</td>\n",
       "      <td>trong ngo</td>\n",
       "    </tr>\n",
       "    <tr>\n",
       "      <th>2</th>\n",
       "      <td>62.0</td>\n",
       "      <td>11000.0</td>\n",
       "      <td>44268</td>\n",
       "      <td>So do</td>\n",
       "      <td>NaN</td>\n",
       "      <td>dong-Nam</td>\n",
       "      <td>6.0</td>\n",
       "      <td>5.0</td>\n",
       "      <td>6.0</td>\n",
       "      <td>21.025379</td>\n",
       "      <td>105.801011</td>\n",
       "      <td>trong ngo</td>\n",
       "    </tr>\n",
       "    <tr>\n",
       "      <th>3</th>\n",
       "      <td>26.0</td>\n",
       "      <td>2900.0</td>\n",
       "      <td>44292</td>\n",
       "      <td>So do</td>\n",
       "      <td>NaN</td>\n",
       "      <td>NaN</td>\n",
       "      <td>4.0</td>\n",
       "      <td>3.0</td>\n",
       "      <td>4.0</td>\n",
       "      <td>21.014325</td>\n",
       "      <td>105.834918</td>\n",
       "      <td>trong ngo</td>\n",
       "    </tr>\n",
       "    <tr>\n",
       "      <th>4</th>\n",
       "      <td>40.0</td>\n",
       "      <td>3950.0</td>\n",
       "      <td>44292</td>\n",
       "      <td>So do</td>\n",
       "      <td>NaN</td>\n",
       "      <td>NaN</td>\n",
       "      <td>NaN</td>\n",
       "      <td>NaN</td>\n",
       "      <td>5.0</td>\n",
       "      <td>21.009862</td>\n",
       "      <td>105.838083</td>\n",
       "      <td>trong ngo</td>\n",
       "    </tr>\n",
       "  </tbody>\n",
       "</table>\n",
       "</div>"
      ],
      "text/plain": [
       "   area    price  postDate land_certificate house_direction balcony_direction  \\\n",
       "0  50.0  14700.0     44197            So do             NaN               NaN   \n",
       "1  57.0   4200.0     44265            So do             Nam               Nam   \n",
       "2  62.0  11000.0     44268            So do             NaN          dong-Nam   \n",
       "3  26.0   2900.0     44292            So do             NaN               NaN   \n",
       "4  40.0   3950.0     44292            So do             NaN               NaN   \n",
       "\n",
       "   toilet  bedroom  floor        lat        long property_type  \n",
       "0     4.0      6.0    6.0  21.015698  105.824583     trong ngo  \n",
       "1     3.0      8.0    4.0  21.025208  105.833111     trong ngo  \n",
       "2     6.0      5.0    6.0  21.025379  105.801011     trong ngo  \n",
       "3     4.0      3.0    4.0  21.014325  105.834918     trong ngo  \n",
       "4     NaN      NaN    5.0  21.009862  105.838083     trong ngo  "
      ]
     },
     "execution_count": 2,
     "metadata": {},
     "output_type": "execute_result"
    }
   ],
   "source": [
    "df = pd.read_csv('Data/house_price_Dống-Da_Hà-Nội_subdata.csv')\n",
    "df.head()"
   ]
  },
  {
   "cell_type": "code",
   "execution_count": 3,
   "id": "ecbe5169",
   "metadata": {},
   "outputs": [
    {
     "data": {
      "text/html": [
       "<div>\n",
       "<style scoped>\n",
       "    .dataframe tbody tr th:only-of-type {\n",
       "        vertical-align: middle;\n",
       "    }\n",
       "\n",
       "    .dataframe tbody tr th {\n",
       "        vertical-align: top;\n",
       "    }\n",
       "\n",
       "    .dataframe thead th {\n",
       "        text-align: right;\n",
       "    }\n",
       "</style>\n",
       "<table border=\"1\" class=\"dataframe\">\n",
       "  <thead>\n",
       "    <tr style=\"text-align: right;\">\n",
       "      <th></th>\n",
       "      <th>area</th>\n",
       "      <th>price</th>\n",
       "      <th>postDate</th>\n",
       "      <th>toilet</th>\n",
       "      <th>bedroom</th>\n",
       "      <th>floor</th>\n",
       "      <th>lat</th>\n",
       "      <th>long</th>\n",
       "      <th>price/m2</th>\n",
       "    </tr>\n",
       "  </thead>\n",
       "  <tbody>\n",
       "    <tr>\n",
       "      <th>count</th>\n",
       "      <td>600.000000</td>\n",
       "      <td>6.000000e+02</td>\n",
       "      <td>600.000000</td>\n",
       "      <td>237.000000</td>\n",
       "      <td>316.000000</td>\n",
       "      <td>357.000000</td>\n",
       "      <td>600.000000</td>\n",
       "      <td>600.000000</td>\n",
       "      <td>600.000000</td>\n",
       "    </tr>\n",
       "    <tr>\n",
       "      <th>mean</th>\n",
       "      <td>112.264583</td>\n",
       "      <td>2.961441e+04</td>\n",
       "      <td>44265.561667</td>\n",
       "      <td>3.632911</td>\n",
       "      <td>4.322785</td>\n",
       "      <td>4.753501</td>\n",
       "      <td>21.015420</td>\n",
       "      <td>105.825257</td>\n",
       "      <td>221.522396</td>\n",
       "    </tr>\n",
       "    <tr>\n",
       "      <th>std</th>\n",
       "      <td>495.846912</td>\n",
       "      <td>1.484516e+05</td>\n",
       "      <td>57.529752</td>\n",
       "      <td>2.358777</td>\n",
       "      <td>2.594913</td>\n",
       "      <td>1.687951</td>\n",
       "      <td>0.006677</td>\n",
       "      <td>0.009205</td>\n",
       "      <td>385.254899</td>\n",
       "    </tr>\n",
       "    <tr>\n",
       "      <th>min</th>\n",
       "      <td>14.000000</td>\n",
       "      <td>4.500000e+00</td>\n",
       "      <td>44197.000000</td>\n",
       "      <td>1.000000</td>\n",
       "      <td>1.000000</td>\n",
       "      <td>1.000000</td>\n",
       "      <td>20.998499</td>\n",
       "      <td>105.795544</td>\n",
       "      <td>0.122500</td>\n",
       "    </tr>\n",
       "    <tr>\n",
       "      <th>25%</th>\n",
       "      <td>41.000000</td>\n",
       "      <td>4.200000e+03</td>\n",
       "      <td>44197.000000</td>\n",
       "      <td>2.000000</td>\n",
       "      <td>3.000000</td>\n",
       "      <td>4.000000</td>\n",
       "      <td>21.009739</td>\n",
       "      <td>105.821315</td>\n",
       "      <td>100.000000</td>\n",
       "    </tr>\n",
       "    <tr>\n",
       "      <th>50%</th>\n",
       "      <td>55.000000</td>\n",
       "      <td>9.250000e+03</td>\n",
       "      <td>44306.000000</td>\n",
       "      <td>4.000000</td>\n",
       "      <td>4.000000</td>\n",
       "      <td>5.000000</td>\n",
       "      <td>21.017288</td>\n",
       "      <td>105.828030</td>\n",
       "      <td>169.090909</td>\n",
       "    </tr>\n",
       "    <tr>\n",
       "      <th>75%</th>\n",
       "      <td>85.000000</td>\n",
       "      <td>2.192500e+04</td>\n",
       "      <td>44312.000000</td>\n",
       "      <td>4.000000</td>\n",
       "      <td>6.000000</td>\n",
       "      <td>5.000000</td>\n",
       "      <td>21.019019</td>\n",
       "      <td>105.829949</td>\n",
       "      <td>283.149510</td>\n",
       "    </tr>\n",
       "    <tr>\n",
       "      <th>max</th>\n",
       "      <td>11000.000000</td>\n",
       "      <td>3.300000e+06</td>\n",
       "      <td>44325.000000</td>\n",
       "      <td>16.000000</td>\n",
       "      <td>22.000000</td>\n",
       "      <td>11.000000</td>\n",
       "      <td>21.036845</td>\n",
       "      <td>105.841407</td>\n",
       "      <td>8333.333333</td>\n",
       "    </tr>\n",
       "  </tbody>\n",
       "</table>\n",
       "</div>"
      ],
      "text/plain": [
       "               area         price      postDate      toilet     bedroom  \\\n",
       "count    600.000000  6.000000e+02    600.000000  237.000000  316.000000   \n",
       "mean     112.264583  2.961441e+04  44265.561667    3.632911    4.322785   \n",
       "std      495.846912  1.484516e+05     57.529752    2.358777    2.594913   \n",
       "min       14.000000  4.500000e+00  44197.000000    1.000000    1.000000   \n",
       "25%       41.000000  4.200000e+03  44197.000000    2.000000    3.000000   \n",
       "50%       55.000000  9.250000e+03  44306.000000    4.000000    4.000000   \n",
       "75%       85.000000  2.192500e+04  44312.000000    4.000000    6.000000   \n",
       "max    11000.000000  3.300000e+06  44325.000000   16.000000   22.000000   \n",
       "\n",
       "            floor         lat        long     price/m2  \n",
       "count  357.000000  600.000000  600.000000   600.000000  \n",
       "mean     4.753501   21.015420  105.825257   221.522396  \n",
       "std      1.687951    0.006677    0.009205   385.254899  \n",
       "min      1.000000   20.998499  105.795544     0.122500  \n",
       "25%      4.000000   21.009739  105.821315   100.000000  \n",
       "50%      5.000000   21.017288  105.828030   169.090909  \n",
       "75%      5.000000   21.019019  105.829949   283.149510  \n",
       "max     11.000000   21.036845  105.841407  8333.333333  "
      ]
     },
     "execution_count": 3,
     "metadata": {},
     "output_type": "execute_result"
    }
   ],
   "source": [
    "df = df[(df['area'] > 0) & (df['price'] > 0)]\n",
    "df['price/m2'] = df['price'] / df['area']\n",
    "df.describe()"
   ]
  },
  {
   "cell_type": "markdown",
   "id": "14ad4f45",
   "metadata": {},
   "source": [
    "## 1. Giữa giá nhà và diện tích có tương quan với nhau?"
   ]
  },
  {
   "cell_type": "code",
   "execution_count": 4,
   "id": "902bc81a",
   "metadata": {
    "scrolled": false
   },
   "outputs": [
    {
     "data": {
      "image/png": "[encoded data removed]",
      "text/plain": [
       "<Figure size 1080x360 with 2 Axes>"
      ]
     },
     "metadata": {
      "needs_background": "light"
     },
     "output_type": "display_data"
    }
   ],
   "source": [
    "fig, axs = plt.subplots(1,2,figsize = (15,5))\n",
    "sns.scatterplot(y = 'price', x = 'area', data = df, ax=axs[0])\n",
    "sns.regplot(y = 'price', x = 'area', data = df, ax=axs[1])\n",
    "plt.suptitle('Trực quan quan hệ giữa giá nhà và diện tích', fontsize =16)\n",
    "plt.show()"
   ]
  },
  {
   "cell_type": "markdown",
   "id": "a1d2219a",
   "metadata": {},
   "source": [
    "### Phát biểu giả thuyết :\n",
    "- H0 : Giá nhà và diện tích không có mối quan hệ với nhau\n",
    "- H1 : Gía nhà và diện tích có mối quan hệ với nhau"
   ]
  },
  {
   "cell_type": "code",
   "execution_count": 5,
   "id": "7889be37",
   "metadata": {},
   "outputs": [
    {
     "name": "stdout",
     "output_type": "stream",
     "text": [
      "Hệ số tương quan Pearson: 0.22777496323564306\n",
      "p-value: 1.680683605165334e-08\n"
     ]
    }
   ],
   "source": [
    "r, pvalue = pearsonr(x = df['price'], y = df['area'])\n",
    "print(f'Hệ số tương quan Pearson: {r}')\n",
    "print(f'p-value: {pvalue}')"
   ]
  },
  {
   "cell_type": "markdown",
   "id": "1b19fafd",
   "metadata": {},
   "source": [
    "### Kết luận : pvalue < 0.05\n",
    "- Bác bỏ H0\n",
    "- Vậy với độ tin cậy 95% thì giữa giá nhà và diện tích có mối quan hệ tuyến tính yếu"
   ]
  },
  {
   "cell_type": "markdown",
   "id": "c083e7c6",
   "metadata": {},
   "source": [
    "## 2. Giữa giá nhà và tọa độ địa lý (lat, long) có tương quan với nhau"
   ]
  },
  {
   "cell_type": "code",
   "execution_count": 6,
   "id": "e9356971",
   "metadata": {},
   "outputs": [],
   "source": [
    "# xóa những điểm trùng tọa độ địa lý(lat,long)\n",
    "df2 = df.drop_duplicates(subset=['lat','long'], keep = 'first')"
   ]
  },
  {
   "cell_type": "markdown",
   "id": "bda53db5",
   "metadata": {},
   "source": [
    "### mã hóa located :\n",
    "- Chuyển lat, long về dạng 32 bit\n",
    "- Ghép thành 64 bit từ lat, long theo đúng thứ tự rồi chuyển sang float pointing"
   ]
  },
  {
   "cell_type": "code",
   "execution_count": 49,
   "id": "b602b87b",
   "metadata": {},
   "outputs": [],
   "source": [
    "def float_to_bin_4bytes(num):\n",
    "    return ''.join('{:0>8b}'.format(c) for c in struct.pack('!f', num))\n",
    "\n",
    "def int_to_bytes(n, length):  # Helper function\n",
    "    return decode('%%0%dx' % (length << 1) % n, 'hex')[-length:]\n",
    "\n",
    "def bin_to_float(b):\n",
    "    bf = int_to_bytes(int(b, 2), 8)\n",
    "    return struct.unpack('>d', bf)[0]\n",
    "\n",
    "def float_to_bin_8bytes(value):  # For testing.\n",
    "    [d] = struct.unpack(\">Q\", struct.pack(\">d\", value))\n",
    "    return '{:064b}'.format(d)"
   ]
  },
  {
   "cell_type": "code",
   "execution_count": 50,
   "id": "38686906",
   "metadata": {
    "scrolled": false
   },
   "outputs": [
    {
     "name": "stderr",
     "output_type": "stream",
     "text": [
      "/tmp/ipykernel_7026/3065001232.py:2: SettingWithCopyWarning: \n",
      "A value is trying to be set on a copy of a slice from a DataFrame.\n",
      "Try using .loc[row_indexer,col_indexer] = value instead\n",
      "\n",
      "See the caveats in the documentation: https://pandas.pydata.org/pandas-docs/stable/user_guide/indexing.html#returning-a-view-versus-a-copy\n",
      "  df2['located'] = df2['lat'].apply(float_to_bin_4bytes) + df2['long'].apply(float_to_bin_4bytes)\n"
     ]
    }
   ],
   "source": [
    "# chuẩn hóa \n",
    "df2['located'] = df2['lat'].apply(float_to_bin_4bytes) + df2['long'].apply(float_to_bin_4bytes)\n",
    "df2['located'] = df2['located'].apply(bin_to_float)"
   ]
  },
  {
   "cell_type": "code",
   "execution_count": 14,
   "id": "ba408dbe",
   "metadata": {},
   "outputs": [
    {
     "data": {
      "text/html": [
       "<div>\n",
       "<style scoped>\n",
       "    .dataframe tbody tr th:only-of-type {\n",
       "        vertical-align: middle;\n",
       "    }\n",
       "\n",
       "    .dataframe tbody tr th {\n",
       "        vertical-align: top;\n",
       "    }\n",
       "\n",
       "    .dataframe thead th {\n",
       "        text-align: right;\n",
       "    }\n",
       "</style>\n",
       "<table border=\"1\" class=\"dataframe\">\n",
       "  <thead>\n",
       "    <tr style=\"text-align: right;\">\n",
       "      <th></th>\n",
       "      <th>area</th>\n",
       "      <th>price</th>\n",
       "      <th>postDate</th>\n",
       "      <th>land_certificate</th>\n",
       "      <th>house_direction</th>\n",
       "      <th>balcony_direction</th>\n",
       "      <th>toilet</th>\n",
       "      <th>bedroom</th>\n",
       "      <th>floor</th>\n",
       "      <th>lat</th>\n",
       "      <th>long</th>\n",
       "      <th>property_type</th>\n",
       "      <th>price/m2</th>\n",
       "      <th>located</th>\n",
       "    </tr>\n",
       "  </thead>\n",
       "  <tbody>\n",
       "    <tr>\n",
       "      <th>0</th>\n",
       "      <td>50.0</td>\n",
       "      <td>14700.0</td>\n",
       "      <td>44197</td>\n",
       "      <td>So do</td>\n",
       "      <td>NaN</td>\n",
       "      <td>NaN</td>\n",
       "      <td>4.0</td>\n",
       "      <td>6.0</td>\n",
       "      <td>6.0</td>\n",
       "      <td>21.015698</td>\n",
       "      <td>105.824583</td>\n",
       "      <td>trong ngo</td>\n",
       "      <td>294.000000</td>\n",
       "      <td>0100000110101000001000000010011001000010110100...</td>\n",
       "    </tr>\n",
       "    <tr>\n",
       "      <th>1</th>\n",
       "      <td>57.0</td>\n",
       "      <td>4200.0</td>\n",
       "      <td>44265</td>\n",
       "      <td>So do</td>\n",
       "      <td>Nam</td>\n",
       "      <td>Nam</td>\n",
       "      <td>3.0</td>\n",
       "      <td>8.0</td>\n",
       "      <td>4.0</td>\n",
       "      <td>21.025208</td>\n",
       "      <td>105.833111</td>\n",
       "      <td>trong ngo</td>\n",
       "      <td>73.684211</td>\n",
       "      <td>0100000110101000001100111010000001000010110100...</td>\n",
       "    </tr>\n",
       "    <tr>\n",
       "      <th>2</th>\n",
       "      <td>62.0</td>\n",
       "      <td>11000.0</td>\n",
       "      <td>44268</td>\n",
       "      <td>So do</td>\n",
       "      <td>NaN</td>\n",
       "      <td>dong-Nam</td>\n",
       "      <td>6.0</td>\n",
       "      <td>5.0</td>\n",
       "      <td>6.0</td>\n",
       "      <td>21.025379</td>\n",
       "      <td>105.801011</td>\n",
       "      <td>trong ngo</td>\n",
       "      <td>177.419355</td>\n",
       "      <td>0100000110101000001100111111101001000010110100...</td>\n",
       "    </tr>\n",
       "    <tr>\n",
       "      <th>3</th>\n",
       "      <td>26.0</td>\n",
       "      <td>2900.0</td>\n",
       "      <td>44292</td>\n",
       "      <td>So do</td>\n",
       "      <td>NaN</td>\n",
       "      <td>NaN</td>\n",
       "      <td>4.0</td>\n",
       "      <td>3.0</td>\n",
       "      <td>4.0</td>\n",
       "      <td>21.014325</td>\n",
       "      <td>105.834918</td>\n",
       "      <td>trong ngo</td>\n",
       "      <td>111.538462</td>\n",
       "      <td>0100000110101000000111010101011001000010110100...</td>\n",
       "    </tr>\n",
       "    <tr>\n",
       "      <th>4</th>\n",
       "      <td>40.0</td>\n",
       "      <td>3950.0</td>\n",
       "      <td>44292</td>\n",
       "      <td>So do</td>\n",
       "      <td>NaN</td>\n",
       "      <td>NaN</td>\n",
       "      <td>NaN</td>\n",
       "      <td>NaN</td>\n",
       "      <td>5.0</td>\n",
       "      <td>21.009862</td>\n",
       "      <td>105.838083</td>\n",
       "      <td>trong ngo</td>\n",
       "      <td>98.750000</td>\n",
       "      <td>0100000110101000000101000011001101000010110100...</td>\n",
       "    </tr>\n",
       "  </tbody>\n",
       "</table>\n",
       "</div>"
      ],
      "text/plain": [
       "   area    price  postDate land_certificate house_direction balcony_direction  \\\n",
       "0  50.0  14700.0     44197            So do             NaN               NaN   \n",
       "1  57.0   4200.0     44265            So do             Nam               Nam   \n",
       "2  62.0  11000.0     44268            So do             NaN          dong-Nam   \n",
       "3  26.0   2900.0     44292            So do             NaN               NaN   \n",
       "4  40.0   3950.0     44292            So do             NaN               NaN   \n",
       "\n",
       "   toilet  bedroom  floor        lat        long property_type    price/m2  \\\n",
       "0     4.0      6.0    6.0  21.015698  105.824583     trong ngo  294.000000   \n",
       "1     3.0      8.0    4.0  21.025208  105.833111     trong ngo   73.684211   \n",
       "2     6.0      5.0    6.0  21.025379  105.801011     trong ngo  177.419355   \n",
       "3     4.0      3.0    4.0  21.014325  105.834918     trong ngo  111.538462   \n",
       "4     NaN      NaN    5.0  21.009862  105.838083     trong ngo   98.750000   \n",
       "\n",
       "                                             located  \n",
       "0  0100000110101000001000000010011001000010110100...  \n",
       "1  0100000110101000001100111010000001000010110100...  \n",
       "2  0100000110101000001100111111101001000010110100...  \n",
       "3  0100000110101000000111010101011001000010110100...  \n",
       "4  0100000110101000000101000011001101000010110100...  "
      ]
     },
     "execution_count": 14,
     "metadata": {},
     "output_type": "execute_result"
    }
   ],
   "source": [
    "df2.head()"
   ]
  },
  {
   "cell_type": "code",
   "execution_count": 7,
   "id": "4d6a2fe2",
   "metadata": {},
   "outputs": [
    {
     "data": {
      "image/png": "[encoded data removed]",
      "text/plain": [
       "<Figure size 864x432 with 1 Axes>"
      ]
     },
     "metadata": {
      "needs_background": "light"
     },
     "output_type": "display_data"
    }
   ],
   "source": [
    "plt.rcParams['figure.figsize'] = (12,6)\n",
    "sns.scatterplot(x = 'lat', y = 'long' , size ='price', data = df2)\n",
    "plt.title('Scatter giữa vị trí địa lý với giá nhà', fontsize = 16)\n",
    "plt.show()"
   ]
  },
  {
   "cell_type": "code",
   "execution_count": 9,
   "id": "d3f97321",
   "metadata": {
    "scrolled": false
   },
   "outputs": [
    {
     "name": "stdout",
     "output_type": "stream",
     "text": [
      "Hệ số tương quan Pearson: -0.0919143657429455\n",
      "p-value: 0.25848125464747096\n"
     ]
    }
   ],
   "source": [
    "r, pvalue = pearsonr(x = df2['price'], y = df2['located'])\n",
    "print(f'Hệ số tương quan Pearson: {r}')\n",
    "print(f'p-value: {pvalue}')"
   ]
  },
  {
   "cell_type": "markdown",
   "id": "225a3c0e",
   "metadata": {},
   "source": [
    "### Kết luận : pvalue > 0.05\n",
    "- Chưa đủ cơ sở bác bỏ H0\n",
    "- Vậy với độ tin cậy 95% thì giữa giá nhà và tọa độ địa lý không có mối tương quan lẫn nhau."
   ]
  },
  {
   "cell_type": "markdown",
   "id": "2af0cc93",
   "metadata": {},
   "source": [
    "## 3. Giữa thuộc tính land_certificate và property_type có tương quan với nhau"
   ]
  },
  {
   "cell_type": "code",
   "execution_count": 10,
   "id": "7cdf1485",
   "metadata": {
    "scrolled": false
   },
   "outputs": [
    {
     "data": {
      "image/png": "[encoded data removed]",
      "text/plain": [
       "<Figure size 864x432 with 2 Axes>"
      ]
     },
     "metadata": {
      "needs_background": "light"
     },
     "output_type": "display_data"
    }
   ],
   "source": [
    "crosstable = pd.crosstab(index = df['property_type'] , columns = df['land_certificate'].fillna('non-certified'))\n",
    "sns.heatmap(crosstable, cmap='Blues', vmin = 80)\n",
    "plt.show()"
   ]
  },
  {
   "cell_type": "code",
   "execution_count": 11,
   "id": "d0dd2444",
   "metadata": {
    "scrolled": false
   },
   "outputs": [
    {
     "name": "stdout",
     "output_type": "stream",
     "text": [
      "Hệ số Chi-Square: 6.469112327700184\n",
      "p-value: 0.010976534479430937\n"
     ]
    }
   ],
   "source": [
    "chi2, pvalue, dof, expected = chi2_contingency(crosstable)\n",
    "print(f'Hệ số Chi-Square: {chi2}')\n",
    "print(f'p-value: {pvalue}')"
   ]
  },
  {
   "cell_type": "markdown",
   "id": "8ce6c6e9",
   "metadata": {},
   "source": [
    "### Kết luận : pvalue < 0.05\n",
    "- Bác bỏ H0\n",
    "- Với độ tin cậy 95% thì giữa giữa land_certificate và property_type có mối quan hệ tuyến tính với nhau"
   ]
  },
  {
   "cell_type": "markdown",
   "id": "d86039b3",
   "metadata": {},
   "source": [
    "## 4. Hãy  mã hóa lại thuộc tính giá nhà theo đơn vị (nghìn đồng/m2) và sắp xếp giá nhà thành bốn mức tương ứng với các khoảng tứ phân vị. Tiến hành kiểm định tương quan giữa biến giá nhà này với các biến tọa độ vị trí (lat, long)"
   ]
  },
  {
   "cell_type": "code",
   "execution_count": 12,
   "id": "2ad64f14",
   "metadata": {
    "scrolled": false
   },
   "outputs": [
    {
     "name": "stderr",
     "output_type": "stream",
     "text": [
      "/tmp/ipykernel_15976/3458498863.py:9: SettingWithCopyWarning: \n",
      "A value is trying to be set on a copy of a slice from a DataFrame.\n",
      "Try using .loc[row_indexer,col_indexer] = value instead\n",
      "\n",
      "See the caveats in the documentation: https://pandas.pydata.org/pandas-docs/stable/user_guide/indexing.html#returning-a-view-versus-a-copy\n",
      "  df2['price/m2_oridinal'] = np.select(condlist = list_condition, choicelist = list_choice)\n"
     ]
    }
   ],
   "source": [
    "q1 = df2['price/m2'].quantile(q = 0.25)\n",
    "q2 = df2['price/m2'].quantile(q = 0.50)\n",
    "q3 = df2['price/m2'].quantile(q = 0.75)\n",
    "list_condition = [df2['price/m2'] < q1, \n",
    "                 (df2['price/m2'] >= q1) & (df2['price/m2'] < q2),\n",
    "                 (df2['price/m2'] >= q2) & (df2['price/m2'] < q3),\n",
    "                  df2['price/m2'] >= q3]\n",
    "list_choice = [1,2,3,4]\n",
    "df2['price/m2_oridinal'] = np.select(condlist = list_condition, choicelist = list_choice)"
   ]
  },
  {
   "cell_type": "markdown",
   "id": "05bcf4d2",
   "metadata": {},
   "source": [
    "### Phát biểu giả thuyết :\n",
    "- H0 : price/m2_oridinal và located không có quan hệ\n",
    "- H1 : price/m2_oridinal và located có quan hệ với nhau."
   ]
  },
  {
   "cell_type": "code",
   "execution_count": 17,
   "id": "1bbdf383",
   "metadata": {},
   "outputs": [
    {
     "name": "stdout",
     "output_type": "stream",
     "text": [
      "Hệ số tương quan hạng Spearman: 0.018456463209128807\n",
      "p-value: 0.82085849289369\n"
     ]
    }
   ],
   "source": [
    "corr, pvalue = spearmanr(a = df2['price/m2_oridinal'], b = df2['located'])\n",
    "print(f'Hệ số tương quan hạng Spearman: {corr}')\n",
    "print(f'p-value: {pvalue}')"
   ]
  },
  {
   "cell_type": "markdown",
   "id": "d1d8a510",
   "metadata": {},
   "source": [
    "### Kết luận : pvalue > 0.05\n",
    "- Chưa đủ cơ sở bác bỏ H0\n",
    "- Vậy với độ tin cậy 95% thì price/m2_oridinal và located không có quan hệ tuyến tính với nhau."
   ]
  }
 ],
 "metadata": {
  "kernelspec": {
   "display_name": "Python 3 (ipykernel)",
   "language": "python",
   "name": "python3"
  },
  "language_info": {
   "codemirror_mode": {
    "name": "ipython",
    "version": 3
   },
   "file_extension": ".py",
   "mimetype": "text/x-python",
   "name": "python",
   "nbconvert_exporter": "python",
   "pygments_lexer": "ipython3",
   "version": "3.10.4"
  }
 },
 "nbformat": 4,
 "nbformat_minor": 5
}

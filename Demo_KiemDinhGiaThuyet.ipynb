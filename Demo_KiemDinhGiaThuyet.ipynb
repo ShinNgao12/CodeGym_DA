{
 "cells": [
  {
   "cell_type": "code",
   "execution_count": 1,
   "id": "77c000a5",
   "metadata": {},
   "outputs": [],
   "source": [
    "import pandas as pd\n",
    "import numpy as np\n",
    "from scipy.stats import ttest_ind, ttest_1samp, ttest_rel, wilcoxon \n",
    "import matplotlib.pyplot as plt\n",
    "import seaborn as sns\n",
    "%matplotlib inline\n",
    "sns.set_theme(style='darkgrid')"
   ]
  },
  {
   "cell_type": "markdown",
   "id": "b7aa9ca8",
   "metadata": {},
   "source": [
    "# 1. FoodPrice"
   ]
  },
  {
   "cell_type": "code",
   "execution_count": 2,
   "id": "9f872195",
   "metadata": {},
   "outputs": [
    {
     "data": {
      "text/html": [
       "<div>\n",
       "<style scoped>\n",
       "    .dataframe tbody tr th:only-of-type {\n",
       "        vertical-align: middle;\n",
       "    }\n",
       "\n",
       "    .dataframe tbody tr th {\n",
       "        vertical-align: top;\n",
       "    }\n",
       "\n",
       "    .dataframe thead th {\n",
       "        text-align: right;\n",
       "    }\n",
       "</style>\n",
       "<table border=\"1\" class=\"dataframe\">\n",
       "  <thead>\n",
       "    <tr style=\"text-align: right;\">\n",
       "      <th></th>\n",
       "      <th>Place</th>\n",
       "      <th>ProductId</th>\n",
       "      <th>ProductName</th>\n",
       "      <th>UmId</th>\n",
       "      <th>UmName</th>\n",
       "      <th>Month</th>\n",
       "      <th>Year</th>\n",
       "      <th>Price</th>\n",
       "    </tr>\n",
       "  </thead>\n",
       "  <tbody>\n",
       "    <tr>\n",
       "      <th>0</th>\n",
       "      <td>National Average</td>\n",
       "      <td>52</td>\n",
       "      <td>Rice - Retail</td>\n",
       "      <td>5</td>\n",
       "      <td>KG</td>\n",
       "      <td>5</td>\n",
       "      <td>2013</td>\n",
       "      <td>4.4920</td>\n",
       "    </tr>\n",
       "    <tr>\n",
       "      <th>1</th>\n",
       "      <td>National Average</td>\n",
       "      <td>52</td>\n",
       "      <td>Rice - Retail</td>\n",
       "      <td>5</td>\n",
       "      <td>KG</td>\n",
       "      <td>6</td>\n",
       "      <td>2013</td>\n",
       "      <td>4.5786</td>\n",
       "    </tr>\n",
       "    <tr>\n",
       "      <th>2</th>\n",
       "      <td>National Average</td>\n",
       "      <td>52</td>\n",
       "      <td>Rice - Retail</td>\n",
       "      <td>5</td>\n",
       "      <td>KG</td>\n",
       "      <td>11</td>\n",
       "      <td>2013</td>\n",
       "      <td>4.7865</td>\n",
       "    </tr>\n",
       "    <tr>\n",
       "      <th>3</th>\n",
       "      <td>National Average</td>\n",
       "      <td>52</td>\n",
       "      <td>Rice - Retail</td>\n",
       "      <td>5</td>\n",
       "      <td>KG</td>\n",
       "      <td>12</td>\n",
       "      <td>2013</td>\n",
       "      <td>5.1337</td>\n",
       "    </tr>\n",
       "    <tr>\n",
       "      <th>4</th>\n",
       "      <td>National Average</td>\n",
       "      <td>52</td>\n",
       "      <td>Rice - Retail</td>\n",
       "      <td>5</td>\n",
       "      <td>KG</td>\n",
       "      <td>1</td>\n",
       "      <td>2014</td>\n",
       "      <td>5.5099</td>\n",
       "    </tr>\n",
       "  </tbody>\n",
       "</table>\n",
       "</div>"
      ],
      "text/plain": [
       "              Place  ProductId    ProductName  UmId UmName  Month  Year  \\\n",
       "0  National Average         52  Rice - Retail     5     KG      5  2013   \n",
       "1  National Average         52  Rice - Retail     5     KG      6  2013   \n",
       "2  National Average         52  Rice - Retail     5     KG     11  2013   \n",
       "3  National Average         52  Rice - Retail     5     KG     12  2013   \n",
       "4  National Average         52  Rice - Retail     5     KG      1  2014   \n",
       "\n",
       "    Price  \n",
       "0  4.4920  \n",
       "1  4.5786  \n",
       "2  4.7865  \n",
       "3  5.1337  \n",
       "4  5.5099  "
      ]
     },
     "execution_count": 2,
     "metadata": {},
     "output_type": "execute_result"
    }
   ],
   "source": [
    "df = pd.read_csv('Data/FoodPrice_in_Turkey.csv')\n",
    "df.head()"
   ]
  },
  {
   "cell_type": "markdown",
   "id": "41260eab",
   "metadata": {},
   "source": [
    "## 1.1  Với mức ý nghĩa 5% kiểm định giả thuyết giá bán gạo trung bình năm 2019 là 10 Lira/kg"
   ]
  },
  {
   "cell_type": "markdown",
   "id": "ab431799",
   "metadata": {},
   "source": [
    "- H0 : price = 10\n",
    "- H1 : price != 10"
   ]
  },
  {
   "cell_type": "code",
   "execution_count": 3,
   "id": "0bd35b30",
   "metadata": {},
   "outputs": [
    {
     "name": "stdout",
     "output_type": "stream",
     "text": [
      "Giá trị t-statistic: -6.319885434592856\n",
      "Giá trị p_value: 8.812949954818996e-08\n"
     ]
    }
   ],
   "source": [
    "rice_data = df[(df['ProductName'] == 'Rice - Retail')&\n",
    "          (df['Year'] == 2019)]\n",
    "statistic, p_value = ttest_1samp(rice_data['Price'],popmean = 10)\n",
    "print(f'Giá trị t-statistic: {statistic}')\n",
    "print(f'Giá trị p_value: {p_value}')"
   ]
  },
  {
   "cell_type": "markdown",
   "id": "a0cc5d8c",
   "metadata": {},
   "source": [
    "### Kết luận : p_value < $\\alpha$ => Bác bỏ H0, vậy giá gạo trung bình năm 2019 khác 10 Lira / kg"
   ]
  },
  {
   "cell_type": "markdown",
   "id": "cc15b03d",
   "metadata": {},
   "source": [
    "## 1.2 Với mức ý nghĩa 5% hãy kiểm định giả thuyết: Giá bột mỳ và giá gạo ở Turkey năm 2019 là bằng nhau"
   ]
  },
  {
   "cell_type": "markdown",
   "id": "32bf23c0",
   "metadata": {},
   "source": [
    "- H0 : price_rice = wheat_price\n",
    "- H1 : price_rice != wheat_price"
   ]
  },
  {
   "cell_type": "code",
   "execution_count": 4,
   "id": "400818b4",
   "metadata": {
    "scrolled": true
   },
   "outputs": [
    {
     "name": "stdout",
     "output_type": "stream",
     "text": [
      "Giá trị t-statistic: 53.7516920363042\n",
      "Giá trị p_value: 7.11046528586048e-55\n"
     ]
    }
   ],
   "source": [
    "wheat_data = df[(df['ProductName'] == 'Wheat flour - Retail')&\n",
    "          (df['Year'] == 2019)]\n",
    "statistic, p_value = ttest_ind(rice_data['Price'],wheat_data['Price'], equal_var = False)\n",
    "print(f'Giá trị t-statistic: {statistic}')\n",
    "print(f'Giá trị p_value: {p_value}')"
   ]
  },
  {
   "cell_type": "markdown",
   "id": "4b72da48",
   "metadata": {},
   "source": [
    "### Kết luận : p_value < $\\alpha$ => Bác bỏ H0, vậy giá gạo và giá bột mỳ khác nhau"
   ]
  },
  {
   "cell_type": "markdown",
   "id": "790c36c0",
   "metadata": {},
   "source": [
    "## 1.3. Vẽ biểu đồ sự biến đổi giá gạo trung bình từ  1/2014 đến 1/2019 và tìm mối liên hệ giữa giá Trà và giá Cà phê"
   ]
  },
  {
   "cell_type": "code",
   "execution_count": 5,
   "id": "a5f64e1d",
   "metadata": {
    "scrolled": true
   },
   "outputs": [
    {
     "data": {
      "image/png": "[encoded data removed]",
      "text/plain": [
       "<Figure size 720x288 with 1 Axes>"
      ]
     },
     "metadata": {},
     "output_type": "display_data"
    }
   ],
   "source": [
    "plt.rcParams['figure.figsize'] = [10,4]\n",
    "df['datetime'] = pd.to_datetime(df['Year'].astype(str) + '/' +\n",
    "                                df['Month'].astype(str))\n",
    "\n",
    "tea_data = df[df['ProductName']=='Tea - Retail'].\\\n",
    "        groupby(['datetime'])['Price'].mean()\n",
    "cafe_data = df[df['ProductName']=='Coffee - Retail'].\\\n",
    "        groupby(['datetime'])['Price'].mean()\n",
    "\n",
    "sns.lineplot(x = tea_data.index, y = tea_data.values, linestyle = 'solid')\n",
    "sns.lineplot(x = cafe_data.index, y = cafe_data.values, linestyle = 'solid')\n",
    "plt.title('Sự biến đổi giá trà, giá cafe trung bình', fontsize = 16)\n",
    "plt.show()"
   ]
  },
  {
   "cell_type": "code",
   "execution_count": 6,
   "id": "f1a0c0d7",
   "metadata": {},
   "outputs": [
    {
     "name": "stderr",
     "output_type": "stream",
     "text": [
      "/tmp/ipykernel_8816/1854231611.py:2: SettingWithCopyWarning: \n",
      "A value is trying to be set on a copy of a slice from a DataFrame.\n",
      "Try using .loc[row_indexer,col_indexer] = value instead\n",
      "\n",
      "See the caveats in the documentation: https://pandas.pydata.org/pandas-docs/stable/user_guide/indexing.html#returning-a-view-versus-a-copy\n",
      "  tea_cafe_date['time-place'] = tea_cafe_date.loc[:,'datetime'].astype(str) + '-' + \\\n"
     ]
    },
    {
     "data": {
      "text/html": [
       "<div>\n",
       "<style scoped>\n",
       "    .dataframe tbody tr th:only-of-type {\n",
       "        vertical-align: middle;\n",
       "    }\n",
       "\n",
       "    .dataframe tbody tr th {\n",
       "        vertical-align: top;\n",
       "    }\n",
       "\n",
       "    .dataframe thead th {\n",
       "        text-align: right;\n",
       "    }\n",
       "</style>\n",
       "<table border=\"1\" class=\"dataframe\">\n",
       "  <thead>\n",
       "    <tr style=\"text-align: right;\">\n",
       "      <th></th>\n",
       "      <th>time-place</th>\n",
       "      <th>Tea Price</th>\n",
       "      <th>Coffee Price</th>\n",
       "    </tr>\n",
       "  </thead>\n",
       "  <tbody>\n",
       "    <tr>\n",
       "      <th>0</th>\n",
       "      <td>2013-05-01-National Average</td>\n",
       "      <td>14.0201</td>\n",
       "      <td>30.8937</td>\n",
       "    </tr>\n",
       "    <tr>\n",
       "      <th>1</th>\n",
       "      <td>2013-06-01-National Average</td>\n",
       "      <td>14.0003</td>\n",
       "      <td>31.0164</td>\n",
       "    </tr>\n",
       "    <tr>\n",
       "      <th>2</th>\n",
       "      <td>2013-11-01-National Average</td>\n",
       "      <td>14.1921</td>\n",
       "      <td>30.7445</td>\n",
       "    </tr>\n",
       "    <tr>\n",
       "      <th>3</th>\n",
       "      <td>2013-12-01-National Average</td>\n",
       "      <td>14.3991</td>\n",
       "      <td>30.9079</td>\n",
       "    </tr>\n",
       "    <tr>\n",
       "      <th>4</th>\n",
       "      <td>2014-01-01-National Average</td>\n",
       "      <td>15.2072</td>\n",
       "      <td>31.2607</td>\n",
       "    </tr>\n",
       "  </tbody>\n",
       "</table>\n",
       "</div>"
      ],
      "text/plain": [
       "                    time-place  Tea Price  Coffee Price\n",
       "0  2013-05-01-National Average    14.0201       30.8937\n",
       "1  2013-06-01-National Average    14.0003       31.0164\n",
       "2  2013-11-01-National Average    14.1921       30.7445\n",
       "3  2013-12-01-National Average    14.3991       30.9079\n",
       "4  2014-01-01-National Average    15.2072       31.2607"
      ]
     },
     "execution_count": 6,
     "metadata": {},
     "output_type": "execute_result"
    }
   ],
   "source": [
    "tea_cafe_date = df.loc[df['ProductName'].isin(['Tea - Retail','Coffee - Retail'])]\n",
    "tea_cafe_date['time-place'] = tea_cafe_date.loc[:,'datetime'].astype(str) + '-' + \\\n",
    "                              tea_cafe_date.loc[:,'Place'].astype(str)\n",
    "tea_df = tea_cafe_date.loc[tea_cafe_date['ProductName'] == 'Tea - Retail',['time-place','Price']]\n",
    "tea_df = tea_df.rename(columns = {'Price'  : 'Tea Price'})\n",
    "cafe_df = tea_cafe_date.loc[tea_cafe_date['ProductName'] == 'Coffee - Retail',['time-place','Price']]\n",
    "cafe_df = cafe_df.rename(columns = {'Price'  : 'Coffee Price'})\n",
    "merge_df = pd.merge(tea_df,cafe_df, on = 'time-place')\n",
    "merge_df.head()"
   ]
  },
  {
   "cell_type": "markdown",
   "id": "a7b75afa",
   "metadata": {},
   "source": [
    "### Kiểm định giả thuyết : Giá Coffee = Giá Tea + 15 Lira\n",
    "- H0 : Coffee = Tea + 15\n",
    "- H1 : Coffee > Tea + 15 (có thể bé hơn hoặc khác)"
   ]
  },
  {
   "cell_type": "code",
   "execution_count": 7,
   "id": "b29d6523",
   "metadata": {},
   "outputs": [
    {
     "name": "stdout",
     "output_type": "stream",
     "text": [
      "Giá trị t-statistic: 9838.0\n",
      "Giá trị p_value: 7.11046528586048e-55\n"
     ]
    }
   ],
   "source": [
    "d = merge_df['Coffee Price'] - merge_df['Tea Price'] - 15\n",
    "statistic, pvalue = wilcoxon(d, alternative= 'greater' )\n",
    "print(f'Giá trị t-statistic: {statistic}')\n",
    "print(f'Giá trị p_value: {p_value}')"
   ]
  },
  {
   "cell_type": "markdown",
   "id": "b7e03597",
   "metadata": {},
   "source": [
    "### Kết luận : Bác bỏ H0 => giá Coffee cao hơn giá Tea hơn 15 Lira/kg"
   ]
  },
  {
   "cell_type": "markdown",
   "id": "6bfdc3df",
   "metadata": {},
   "source": [
    "# 2. Quanlity Associates"
   ]
  },
  {
   "cell_type": "code",
   "execution_count": 8,
   "id": "069cfadb",
   "metadata": {
    "scrolled": false
   },
   "outputs": [
    {
     "name": "stderr",
     "output_type": "stream",
     "text": [
      "/usr/local/lib/python3.10/dist-packages/openpyxl/worksheet/header_footer.py:48: UserWarning: Cannot parse header or footer so it will be ignored\n",
      "  warn(\"\"\"Cannot parse header or footer so it will be ignored\"\"\")\n"
     ]
    },
    {
     "data": {
      "text/html": [
       "<div>\n",
       "<style scoped>\n",
       "    .dataframe tbody tr th:only-of-type {\n",
       "        vertical-align: middle;\n",
       "    }\n",
       "\n",
       "    .dataframe tbody tr th {\n",
       "        vertical-align: top;\n",
       "    }\n",
       "\n",
       "    .dataframe thead th {\n",
       "        text-align: right;\n",
       "    }\n",
       "</style>\n",
       "<table border=\"1\" class=\"dataframe\">\n",
       "  <thead>\n",
       "    <tr style=\"text-align: right;\">\n",
       "      <th></th>\n",
       "      <th>Sample 1</th>\n",
       "      <th>Sample 2</th>\n",
       "      <th>Sample 3</th>\n",
       "      <th>Sample 4</th>\n",
       "    </tr>\n",
       "  </thead>\n",
       "  <tbody>\n",
       "    <tr>\n",
       "      <th>0</th>\n",
       "      <td>11.55</td>\n",
       "      <td>11.62</td>\n",
       "      <td>11.91</td>\n",
       "      <td>12.02</td>\n",
       "    </tr>\n",
       "    <tr>\n",
       "      <th>1</th>\n",
       "      <td>11.62</td>\n",
       "      <td>11.69</td>\n",
       "      <td>11.36</td>\n",
       "      <td>12.02</td>\n",
       "    </tr>\n",
       "    <tr>\n",
       "      <th>2</th>\n",
       "      <td>11.52</td>\n",
       "      <td>11.59</td>\n",
       "      <td>11.75</td>\n",
       "      <td>12.05</td>\n",
       "    </tr>\n",
       "    <tr>\n",
       "      <th>3</th>\n",
       "      <td>11.75</td>\n",
       "      <td>11.82</td>\n",
       "      <td>11.95</td>\n",
       "      <td>12.18</td>\n",
       "    </tr>\n",
       "    <tr>\n",
       "      <th>4</th>\n",
       "      <td>11.90</td>\n",
       "      <td>11.97</td>\n",
       "      <td>12.14</td>\n",
       "      <td>12.11</td>\n",
       "    </tr>\n",
       "  </tbody>\n",
       "</table>\n",
       "</div>"
      ],
      "text/plain": [
       "   Sample 1  Sample 2  Sample 3  Sample 4\n",
       "0     11.55     11.62     11.91     12.02\n",
       "1     11.62     11.69     11.36     12.02\n",
       "2     11.52     11.59     11.75     12.05\n",
       "3     11.75     11.82     11.95     12.18\n",
       "4     11.90     11.97     12.14     12.11"
      ]
     },
     "execution_count": 8,
     "metadata": {},
     "output_type": "execute_result"
    }
   ],
   "source": [
    "df = pd.read_excel('Data/Quality.xlsx')\n",
    "df.head()"
   ]
  },
  {
   "cell_type": "code",
   "execution_count": 9,
   "id": "65ccc955",
   "metadata": {
    "scrolled": true
   },
   "outputs": [
    {
     "data": {
      "text/html": [
       "<div>\n",
       "<style scoped>\n",
       "    .dataframe tbody tr th:only-of-type {\n",
       "        vertical-align: middle;\n",
       "    }\n",
       "\n",
       "    .dataframe tbody tr th {\n",
       "        vertical-align: top;\n",
       "    }\n",
       "\n",
       "    .dataframe thead th {\n",
       "        text-align: right;\n",
       "    }\n",
       "</style>\n",
       "<table border=\"1\" class=\"dataframe\">\n",
       "  <thead>\n",
       "    <tr style=\"text-align: right;\">\n",
       "      <th></th>\n",
       "      <th>Sample 1</th>\n",
       "      <th>Sample 2</th>\n",
       "      <th>Sample 3</th>\n",
       "      <th>Sample 4</th>\n",
       "    </tr>\n",
       "  </thead>\n",
       "  <tbody>\n",
       "    <tr>\n",
       "      <th>count</th>\n",
       "      <td>30.000000</td>\n",
       "      <td>30.000000</td>\n",
       "      <td>30.000000</td>\n",
       "      <td>30.000000</td>\n",
       "    </tr>\n",
       "    <tr>\n",
       "      <th>mean</th>\n",
       "      <td>11.958667</td>\n",
       "      <td>12.028667</td>\n",
       "      <td>11.889000</td>\n",
       "      <td>12.081333</td>\n",
       "    </tr>\n",
       "    <tr>\n",
       "      <th>std</th>\n",
       "      <td>0.220356</td>\n",
       "      <td>0.220356</td>\n",
       "      <td>0.207171</td>\n",
       "      <td>0.206109</td>\n",
       "    </tr>\n",
       "    <tr>\n",
       "      <th>min</th>\n",
       "      <td>11.520000</td>\n",
       "      <td>11.590000</td>\n",
       "      <td>11.360000</td>\n",
       "      <td>11.640000</td>\n",
       "    </tr>\n",
       "    <tr>\n",
       "      <th>25%</th>\n",
       "      <td>11.812500</td>\n",
       "      <td>11.882500</td>\n",
       "      <td>11.752500</td>\n",
       "      <td>11.982500</td>\n",
       "    </tr>\n",
       "    <tr>\n",
       "      <th>50%</th>\n",
       "      <td>11.955000</td>\n",
       "      <td>12.025000</td>\n",
       "      <td>11.920000</td>\n",
       "      <td>12.080000</td>\n",
       "    </tr>\n",
       "    <tr>\n",
       "      <th>75%</th>\n",
       "      <td>12.145000</td>\n",
       "      <td>12.215000</td>\n",
       "      <td>11.997500</td>\n",
       "      <td>12.227500</td>\n",
       "    </tr>\n",
       "    <tr>\n",
       "      <th>max</th>\n",
       "      <td>12.320000</td>\n",
       "      <td>12.390000</td>\n",
       "      <td>12.220000</td>\n",
       "      <td>12.470000</td>\n",
       "    </tr>\n",
       "  </tbody>\n",
       "</table>\n",
       "</div>"
      ],
      "text/plain": [
       "        Sample 1   Sample 2   Sample 3   Sample 4\n",
       "count  30.000000  30.000000  30.000000  30.000000\n",
       "mean   11.958667  12.028667  11.889000  12.081333\n",
       "std     0.220356   0.220356   0.207171   0.206109\n",
       "min    11.520000  11.590000  11.360000  11.640000\n",
       "25%    11.812500  11.882500  11.752500  11.982500\n",
       "50%    11.955000  12.025000  11.920000  12.080000\n",
       "75%    12.145000  12.215000  11.997500  12.227500\n",
       "max    12.320000  12.390000  12.220000  12.470000"
      ]
     },
     "execution_count": 9,
     "metadata": {},
     "output_type": "execute_result"
    }
   ],
   "source": [
    "df.describe()"
   ]
  },
  {
   "cell_type": "code",
   "execution_count": 28,
   "id": "f9625f4c",
   "metadata": {},
   "outputs": [
    {
     "data": {
      "text/html": [
       "<div>\n",
       "<style scoped>\n",
       "    .dataframe tbody tr th:only-of-type {\n",
       "        vertical-align: middle;\n",
       "    }\n",
       "\n",
       "    .dataframe tbody tr th {\n",
       "        vertical-align: top;\n",
       "    }\n",
       "\n",
       "    .dataframe thead th {\n",
       "        text-align: right;\n",
       "    }\n",
       "</style>\n",
       "<table border=\"1\" class=\"dataframe\">\n",
       "  <thead>\n",
       "    <tr style=\"text-align: right;\">\n",
       "      <th></th>\n",
       "      <th>Weight</th>\n",
       "    </tr>\n",
       "  </thead>\n",
       "  <tbody>\n",
       "    <tr>\n",
       "      <th>count</th>\n",
       "      <td>120.000000</td>\n",
       "    </tr>\n",
       "    <tr>\n",
       "      <th>mean</th>\n",
       "      <td>11.989417</td>\n",
       "    </tr>\n",
       "    <tr>\n",
       "      <th>std</th>\n",
       "      <td>0.223108</td>\n",
       "    </tr>\n",
       "    <tr>\n",
       "      <th>min</th>\n",
       "      <td>11.360000</td>\n",
       "    </tr>\n",
       "    <tr>\n",
       "      <th>25%</th>\n",
       "      <td>11.850000</td>\n",
       "    </tr>\n",
       "    <tr>\n",
       "      <th>50%</th>\n",
       "      <td>12.000000</td>\n",
       "    </tr>\n",
       "    <tr>\n",
       "      <th>75%</th>\n",
       "      <td>12.160000</td>\n",
       "    </tr>\n",
       "    <tr>\n",
       "      <th>max</th>\n",
       "      <td>12.470000</td>\n",
       "    </tr>\n",
       "  </tbody>\n",
       "</table>\n",
       "</div>"
      ],
      "text/plain": [
       "           Weight\n",
       "count  120.000000\n",
       "mean    11.989417\n",
       "std      0.223108\n",
       "min     11.360000\n",
       "25%     11.850000\n",
       "50%     12.000000\n",
       "75%     12.160000\n",
       "max     12.470000"
      ]
     },
     "execution_count": 28,
     "metadata": {},
     "output_type": "execute_result"
    }
   ],
   "source": [
    "data = np.array([])\n",
    "for i in df.columns:\n",
    "    data = np.concatenate([data,df[i]], axis = 0)\n",
    "\n",
    "data = pd.DataFrame(data, columns=['Weight'])\n",
    "data.describe()"
   ]
  },
  {
   "cell_type": "markdown",
   "id": "f7c9bc4d",
   "metadata": {},
   "source": [
    "### Nhận xét\n",
    "- std = 0.223 > 0.21 --> nên thay đổi nhận xét về sai số của sản phầm\n",
    "- Phát biểu giả thuyết\n",
    "    - H0 : $\\mu $ = 12\n",
    "    - H1 : $\\mu $ != 12"
   ]
  },
  {
   "cell_type": "code",
   "execution_count": 31,
   "id": "ae525eea",
   "metadata": {},
   "outputs": [
    {
     "name": "stdout",
     "output_type": "stream",
     "text": [
      "Giá trị t-statistic: -0.5196355789314843\n",
      "Giá trị p_value: 0.6042828222996104\n"
     ]
    }
   ],
   "source": [
    "statistic, p_value = ttest_1samp(data['Weight'],popmean=12)\n",
    "print(f'Giá trị t-statistic: {statistic}')\n",
    "print(f'Giá trị p_value: {p_value}')"
   ]
  },
  {
   "cell_type": "markdown",
   "id": "b3f147b9",
   "metadata": {},
   "source": [
    "### Kết luận : p_value > $\\alpha$ = 0.01 \n",
    "- **Chưa đủ cơ sở bác bỏ H0. Vậy với độ tin cậy 99% thì khổi lượng trung bình của sản phầm là 12**"
   ]
  },
  {
   "cell_type": "markdown",
   "id": "4aafa519",
   "metadata": {},
   "source": [
    "# Coca_cola_use"
   ]
  },
  {
   "cell_type": "code",
   "execution_count": 2,
   "id": "cac6ba1f",
   "metadata": {
    "scrolled": true
   },
   "outputs": [
    {
     "data": {
      "text/html": [
       "<div>\n",
       "<style scoped>\n",
       "    .dataframe tbody tr th:only-of-type {\n",
       "        vertical-align: middle;\n",
       "    }\n",
       "\n",
       "    .dataframe tbody tr th {\n",
       "        vertical-align: top;\n",
       "    }\n",
       "\n",
       "    .dataframe thead th {\n",
       "        text-align: right;\n",
       "    }\n",
       "</style>\n",
       "<table border=\"1\" class=\"dataframe\">\n",
       "  <thead>\n",
       "    <tr style=\"text-align: right;\">\n",
       "      <th></th>\n",
       "      <th>Ohio</th>\n",
       "      <th>Atlanta</th>\n",
       "    </tr>\n",
       "  </thead>\n",
       "  <tbody>\n",
       "    <tr>\n",
       "      <th>count</th>\n",
       "      <td>50.000000</td>\n",
       "      <td>50.000000</td>\n",
       "    </tr>\n",
       "    <tr>\n",
       "      <th>mean</th>\n",
       "      <td>1.746800</td>\n",
       "      <td>1.614800</td>\n",
       "    </tr>\n",
       "    <tr>\n",
       "      <th>std</th>\n",
       "      <td>1.092211</td>\n",
       "      <td>1.061068</td>\n",
       "    </tr>\n",
       "    <tr>\n",
       "      <th>min</th>\n",
       "      <td>0.000000</td>\n",
       "      <td>0.000000</td>\n",
       "    </tr>\n",
       "    <tr>\n",
       "      <th>25%</th>\n",
       "      <td>0.835000</td>\n",
       "      <td>0.682500</td>\n",
       "    </tr>\n",
       "    <tr>\n",
       "      <th>50%</th>\n",
       "      <td>1.615000</td>\n",
       "      <td>1.495000</td>\n",
       "    </tr>\n",
       "    <tr>\n",
       "      <th>75%</th>\n",
       "      <td>2.350000</td>\n",
       "      <td>2.402500</td>\n",
       "    </tr>\n",
       "    <tr>\n",
       "      <th>max</th>\n",
       "      <td>5.000000</td>\n",
       "      <td>3.860000</td>\n",
       "    </tr>\n",
       "  </tbody>\n",
       "</table>\n",
       "</div>"
      ],
      "text/plain": [
       "            Ohio    Atlanta\n",
       "count  50.000000  50.000000\n",
       "mean    1.746800   1.614800\n",
       "std     1.092211   1.061068\n",
       "min     0.000000   0.000000\n",
       "25%     0.835000   0.682500\n",
       "50%     1.615000   1.495000\n",
       "75%     2.350000   2.402500\n",
       "max     5.000000   3.860000"
      ]
     },
     "execution_count": 2,
     "metadata": {},
     "output_type": "execute_result"
    }
   ],
   "source": [
    "df= pd.read_excel('Data/Coca_cola_use.xlsx').set_index('STT')\n",
    "df.describe()"
   ]
  },
  {
   "cell_type": "markdown",
   "id": "2ae93854",
   "metadata": {},
   "source": [
    "- Phát biểu giả thuyết:\n",
    "    - H0 : $\\mu_{Ohio}$ = $\\mu_{Atlanta}$\n",
    "    - H1 : $\\mu_{Ohio}$ $\\gt$ $\\mu_{Atlanta}$"
   ]
  },
  {
   "cell_type": "code",
   "execution_count": 5,
   "id": "ccabc0ca",
   "metadata": {},
   "outputs": [
    {
     "name": "stdout",
     "output_type": "stream",
     "text": [
      "Giá trị t-statistic: 0.6129544104328379\n",
      "Giá trị p_value: 0.27066377753802684\n"
     ]
    }
   ],
   "source": [
    "statistic, p_value = ttest_ind(df['Ohio'], df['Atlanta'], equal_var = False, alternative='greater')\n",
    "print(f'Giá trị t-statistic: {statistic}')\n",
    "print(f'Giá trị p_value: {p_value}')"
   ]
  },
  {
   "cell_type": "markdown",
   "id": "58145641",
   "metadata": {},
   "source": [
    "### Kết luận : p_value > $\\alpha$ \n",
    "- Chưa đủ cơ sở bác bỏ H0\n",
    "- Vậy với độ tin cậy 95% thì có thể kết luận lượng tiêu thủ ở Ohio và Atlanta bằng nhau."
   ]
  }
 ],
 "metadata": {
  "kernelspec": {
   "display_name": "Python 3 (ipykernel)",
   "language": "python",
   "name": "python3"
  },
  "language_info": {
   "codemirror_mode": {
    "name": "ipython",
    "version": 3
   },
   "file_extension": ".py",
   "mimetype": "text/x-python",
   "name": "python",
   "nbconvert_exporter": "python",
   "pygments_lexer": "ipython3",
   "version": "3.10.4"
  }
 },
 "nbformat": 4,
 "nbformat_minor": 5
}

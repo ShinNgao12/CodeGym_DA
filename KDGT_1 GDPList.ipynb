{
 "cells": [
  {
   "cell_type": "code",
   "execution_count": 9,
   "id": "da1091bd",
   "metadata": {},
   "outputs": [],
   "source": [
    "import pandas as pd\n",
    "import numpy as np\n",
    "from scipy.stats import ttest_1samp, ttest_ind, ttest_rel, wilcoxon"
   ]
  },
  {
   "cell_type": "code",
   "execution_count": 2,
   "id": "cf9758ae",
   "metadata": {
    "scrolled": true
   },
   "outputs": [
    {
     "data": {
      "text/html": [
       "<div>\n",
       "<style scoped>\n",
       "    .dataframe tbody tr th:only-of-type {\n",
       "        vertical-align: middle;\n",
       "    }\n",
       "\n",
       "    .dataframe tbody tr th {\n",
       "        vertical-align: top;\n",
       "    }\n",
       "\n",
       "    .dataframe thead th {\n",
       "        text-align: right;\n",
       "    }\n",
       "</style>\n",
       "<table border=\"1\" class=\"dataframe\">\n",
       "  <thead>\n",
       "    <tr style=\"text-align: right;\">\n",
       "      <th></th>\n",
       "      <th>Country</th>\n",
       "      <th>Continent</th>\n",
       "      <th>GDP (millions of US$)</th>\n",
       "    </tr>\n",
       "  </thead>\n",
       "  <tbody>\n",
       "    <tr>\n",
       "      <th>0</th>\n",
       "      <td>Afghanistan</td>\n",
       "      <td>Asia</td>\n",
       "      <td>18181</td>\n",
       "    </tr>\n",
       "    <tr>\n",
       "      <th>1</th>\n",
       "      <td>Albania</td>\n",
       "      <td>Europe</td>\n",
       "      <td>12847</td>\n",
       "    </tr>\n",
       "    <tr>\n",
       "      <th>2</th>\n",
       "      <td>Algeria</td>\n",
       "      <td>Africa</td>\n",
       "      <td>190709</td>\n",
       "    </tr>\n",
       "    <tr>\n",
       "      <th>3</th>\n",
       "      <td>Angola</td>\n",
       "      <td>Africa</td>\n",
       "      <td>100948</td>\n",
       "    </tr>\n",
       "    <tr>\n",
       "      <th>4</th>\n",
       "      <td>Argentina</td>\n",
       "      <td>South America</td>\n",
       "      <td>447644</td>\n",
       "    </tr>\n",
       "  </tbody>\n",
       "</table>\n",
       "</div>"
      ],
      "text/plain": [
       "       Country      Continent  GDP (millions of US$)\n",
       "0  Afghanistan           Asia                  18181\n",
       "1      Albania         Europe                  12847\n",
       "2      Algeria         Africa                 190709\n",
       "3       Angola         Africa                 100948\n",
       "4    Argentina  South America                 447644"
      ]
     },
     "execution_count": 2,
     "metadata": {},
     "output_type": "execute_result"
    }
   ],
   "source": [
    "df = pd.read_csv('Data/GDPlist.csv')\n",
    "df.head()"
   ]
  },
  {
   "cell_type": "code",
   "execution_count": 3,
   "id": "011d6fd8",
   "metadata": {},
   "outputs": [
    {
     "data": {
      "text/html": [
       "<div>\n",
       "<style scoped>\n",
       "    .dataframe tbody tr th:only-of-type {\n",
       "        vertical-align: middle;\n",
       "    }\n",
       "\n",
       "    .dataframe tbody tr th {\n",
       "        vertical-align: top;\n",
       "    }\n",
       "\n",
       "    .dataframe thead th {\n",
       "        text-align: right;\n",
       "    }\n",
       "</style>\n",
       "<table border=\"1\" class=\"dataframe\">\n",
       "  <thead>\n",
       "    <tr style=\"text-align: right;\">\n",
       "      <th></th>\n",
       "      <th>GDP (millions of US$)</th>\n",
       "    </tr>\n",
       "  </thead>\n",
       "  <tbody>\n",
       "    <tr>\n",
       "      <th>count</th>\n",
       "      <td>1.250000e+02</td>\n",
       "    </tr>\n",
       "    <tr>\n",
       "      <th>mean</th>\n",
       "      <td>5.554278e+05</td>\n",
       "    </tr>\n",
       "    <tr>\n",
       "      <th>std</th>\n",
       "      <td>1.649266e+06</td>\n",
       "    </tr>\n",
       "    <tr>\n",
       "      <th>min</th>\n",
       "      <td>1.060000e+04</td>\n",
       "    </tr>\n",
       "    <tr>\n",
       "      <th>25%</th>\n",
       "      <td>2.574200e+04</td>\n",
       "    </tr>\n",
       "    <tr>\n",
       "      <th>50%</th>\n",
       "      <td>9.608900e+04</td>\n",
       "    </tr>\n",
       "    <tr>\n",
       "      <th>75%</th>\n",
       "      <td>3.332380e+05</td>\n",
       "    </tr>\n",
       "    <tr>\n",
       "      <th>max</th>\n",
       "      <td>1.509402e+07</td>\n",
       "    </tr>\n",
       "  </tbody>\n",
       "</table>\n",
       "</div>"
      ],
      "text/plain": [
       "       GDP (millions of US$)\n",
       "count           1.250000e+02\n",
       "mean            5.554278e+05\n",
       "std             1.649266e+06\n",
       "min             1.060000e+04\n",
       "25%             2.574200e+04\n",
       "50%             9.608900e+04\n",
       "75%             3.332380e+05\n",
       "max             1.509402e+07"
      ]
     },
     "execution_count": 3,
     "metadata": {},
     "output_type": "execute_result"
    }
   ],
   "source": [
    "df.describe()"
   ]
  },
  {
   "cell_type": "markdown",
   "id": "4f7abad2",
   "metadata": {},
   "source": [
    "## 1. Trung bình GDP của các quốc gia trên thế giới là 500 tỉ usd/năm\n",
    "\n",
    "### Phát biểu giả thuyết\n",
    "- H0 : $\\mu_{GDP}$ = 500 tỷ USD\n",
    "- H1 : $\\mu_{GDP}$ != 500 tỷ USD"
   ]
  },
  {
   "cell_type": "code",
   "execution_count": 4,
   "id": "52115f9c",
   "metadata": {
    "scrolled": true
   },
   "outputs": [
    {
     "name": "stdout",
     "output_type": "stream",
     "text": [
      "t-statistic : 0.3757438669518338\n",
      "pvalue : 0.7077493494055246\n"
     ]
    }
   ],
   "source": [
    "statistic, pvalue = ttest_1samp(df['GDP (millions of US$)'], popmean = 500000)\n",
    "print(f't-statistic : {statistic}')\n",
    "print(f'pvalue : {pvalue}')"
   ]
  },
  {
   "cell_type": "markdown",
   "id": "425089fe",
   "metadata": {},
   "source": [
    "### Kết luận : pvalue > $\\alpha$\n",
    "- Chưa đủ cơ sở để bác bỏ H0\n",
    "- Với độ tin cậy 95% thì GDP các quốc gia trên thế giới là 500 tỷ USD"
   ]
  },
  {
   "cell_type": "markdown",
   "id": "3dd43e83",
   "metadata": {},
   "source": [
    "## 2. GDP trung bình ở các quốc gia ở châu Âu cao hơn châu Á không\n",
    "\n",
    "### Phát biểu giả thuyết\n",
    "- H0 : $\\mu_{GDP_Europe}$ $=$ $\\mu_{GDP_Asia}$ \n",
    "- H1 : $\\mu_{GDP_Europe}$ > $\\mu_{GDP_Asia}$ "
   ]
  },
  {
   "cell_type": "code",
   "execution_count": 15,
   "id": "64220503",
   "metadata": {
    "scrolled": true
   },
   "outputs": [
    {
     "name": "stdout",
     "output_type": "stream",
     "text": [
      "Std GDP of Europe country: 856243.5905597125\n",
      "Std GDP of Asia country: 1525790.6347005707\n"
     ]
    }
   ],
   "source": [
    "Europe_df = df.loc[df['Continent'] == 'Europe', \"GDP (millions of US$)\"]\n",
    "Asia_df = df.loc[df['Continent'] == 'Asia', \"GDP (millions of US$)\"]\n",
    "print(f'Std GDP of Europe country: {Europe_df.std()}')\n",
    "print(f'Std GDP of Asia country: {Asia_df.std()}')"
   ]
  },
  {
   "cell_type": "code",
   "execution_count": 6,
   "id": "31947fdb",
   "metadata": {
    "scrolled": false
   },
   "outputs": [
    {
     "name": "stdout",
     "output_type": "stream",
     "text": [
      "t-statistic : -0.5546583491057376\n",
      "pvalue : 0.7093061297701153\n"
     ]
    }
   ],
   "source": [
    "statistic, pvalue = ttest_ind(Europe_df,Asia_df,equal_var = False, alternative='greater')\n",
    "print(f't-statistic : {statistic}')\n",
    "print(f'pvalue : {pvalue}')"
   ]
  },
  {
   "cell_type": "markdown",
   "id": "d6a582a4",
   "metadata": {},
   "source": [
    "### Kết luận: pvalue > $\\alpha$\n",
    "- Chưa đủ cơ sở bác bỏ H0\n",
    "- Với độ tin cậy 95% thì có thể kết luận GDP trung bình châu Âu bằng Châu Á"
   ]
  },
  {
   "cell_type": "markdown",
   "id": "daed798f",
   "metadata": {},
   "source": [
    "## 3. GDP trung bình của các quốc gia ở châu Âu và châu Mỹ là bằng nhau\n",
    "\n",
    "### Phát biểu giả thuyết\n",
    "- H0 : $\\mu_{GDP_Europe}$ $=$ $\\mu_{GDP_America}$ \n",
    "- H1 : $\\mu_{GDP_Europe}$ != $\\mu_{GDP_America}$ "
   ]
  },
  {
   "cell_type": "code",
   "execution_count": 27,
   "id": "d4de37a8",
   "metadata": {
    "scrolled": true
   },
   "outputs": [
    {
     "name": "stdout",
     "output_type": "stream",
     "text": [
      "Std GDP of Europe country: 856243.5905597125\n",
      "Std GDP of America country: 775881.5589512967\n"
     ]
    }
   ],
   "source": [
    "America_df = df.loc[df['Continent'].isin(['South America', 'South America']), \"GDP (millions of US$)\"]\n",
    "print(f'Std GDP of Europe country: {Europe_df.std()}')\n",
    "print(f'Std GDP of America country: {America_df.std()}')"
   ]
  },
  {
   "cell_type": "code",
   "execution_count": 22,
   "id": "adf0b3bf",
   "metadata": {
    "scrolled": true
   },
   "outputs": [
    {
     "name": "stdout",
     "output_type": "stream",
     "text": [
      "t-statistic : 0.19407235215980828\n",
      "pvalue : 0.8490774181286702\n"
     ]
    }
   ],
   "source": [
    "statistic, pvalue = ttest_ind(Europe_df,America_df,equal_var = False)\n",
    "print(f't-statistic : {statistic}')\n",
    "print(f'pvalue : {pvalue}')"
   ]
  },
  {
   "cell_type": "markdown",
   "id": "ce6056dc",
   "metadata": {},
   "source": [
    "### Kết luận : pvalue > $\\alpha$\n",
    "- Chưa đủ cơ sở bác bỏ H0\n",
    "- Với độ tin cậy 95% thì có thể kết luận GDP châu Âu và châu Mỹ bằng nhau"
   ]
  }
 ],
 "metadata": {
  "kernelspec": {
   "display_name": "Python 3 (ipykernel)",
   "language": "python",
   "name": "python3"
  },
  "language_info": {
   "codemirror_mode": {
    "name": "ipython",
    "version": 3
   },
   "file_extension": ".py",
   "mimetype": "text/x-python",
   "name": "python",
   "nbconvert_exporter": "python",
   "pygments_lexer": "ipython3",
   "version": "3.10.4"
  }
 },
 "nbformat": 4,
 "nbformat_minor": 5
}
